{
  "nbformat": 4,
  "nbformat_minor": 0,
  "metadata": {
    "colab": {
      "name": "CNNFastText.ipynb",
      "provenance": []
    },
    "kernelspec": {
      "name": "python3",
      "display_name": "Python 3"
    }
  },
  "cells": [
    {
      "cell_type": "code",
      "metadata": {
        "id": "JqHPJcFIpki9",
        "colab_type": "code",
        "colab": {}
      },
      "source": [
        "import pandas as pd\n",
        "import numpy as np\n",
        "\n",
        "# FOR PLOTTING GRAPHS\n",
        "import matplotlib.pyplot as plt\n",
        "pd.set_option('display.max_colwidth',300)\n",
        "\n",
        "# FOR CNN MODEL\n",
        "from tensorflow.keras.models import Model\n",
        "from tensorflow.keras.layers import Input, Embedding;\n",
        "from tensorflow.keras.layers import concatenate, Conv1D, GlobalMaxPooling1D\n",
        "from tensorflow.keras.layers import Dense, Dropout\n",
        "\n",
        "# FOR EVALUATION METRICS OF THE PREDICTIONS\n",
        "from sklearn.metrics import accuracy_score,f1_score"
      ],
      "execution_count": 0,
      "outputs": []
    },
    {
      "cell_type": "code",
      "metadata": {
        "id": "jaHw79oTp1dm",
        "colab_type": "code",
        "colab": {}
      },
      "source": [
        "# IMPORITING THE PARAMENTERS AND SEQUENCES \n",
        "import pickle\n",
        "\n",
        "variables = pickle.load(open('./Data/variablesFastText','rb'))\n",
        "\n",
        "test_sequence  = variables['test_sequence']\n",
        "valid_sequence  = variables['valid_sequence']\n",
        "train_sequence  = variables['train_sequence']\n",
        "\n",
        "y_train  = variables['y_train']\n",
        "y_test  = variables['y_test']\n",
        "y_valid  = variables['y_valid']\n",
        "\n",
        "MXSEQLEN  = variables['MXSEQLEN']\n",
        "EMBEDDING_DIM  = variables['EMBEDDING_DIM']\n",
        "train_embedding_weights  = variables['train_embedding_weights']\n",
        "train_word_index  = variables['train_word_index']"
      ],
      "execution_count": 0,
      "outputs": []
    },
    {
      "cell_type": "code",
      "metadata": {
        "id": "jJUCB0bUsUhg",
        "colab_type": "code",
        "colab": {}
      },
      "source": [
        "def CNN(embedding_weights,num_words):\n",
        "\n",
        "    embedding_layer = Embedding(\n",
        "        num_words,                  # VOCABULARY SIZE\n",
        "        EMBEDDING_DIM,              # ONE HOT ENCODING VECTOR SIZE\n",
        "        weights=[embedding_weights],# EMBEGGING WEIGHTS FROM THE GOOGLE NEW WORD VECTOR\n",
        "        input_length=MXSEQLEN,      # MAX LENGTH OF A SEQUENCE\n",
        "        trainable=False             # PARAMETERS WILL NOT BE TRAINED\n",
        "    )\n",
        "\n",
        "    sequence_input      =   Input(shape=(MXSEQLEN,), dtype='int32')\n",
        "    embedded_sequences  =   embedding_layer(sequence_input)\n",
        "\n",
        "    conv_layer1 = Conv1D(256, 2, activation='relu')(embedded_sequences)        \n",
        "    conv_layer1 = GlobalMaxPooling1D()(conv_layer1)\n",
        "\n",
        "    conv_layer2 = Conv1D(256, 3, activation='relu')(embedded_sequences)        \n",
        "    conv_layer2 = GlobalMaxPooling1D()(conv_layer2)\n",
        "\n",
        "    conv_layer3 = Conv1D(256, 4, activation='relu')(embedded_sequences)        \n",
        "    conv_layer3 = GlobalMaxPooling1D()(conv_layer3)\n",
        "\n",
        "    next_layer = concatenate([conv_layer1,conv_layer2,conv_layer3])\n",
        "\n",
        "    next_layer = Dense(256, activation='sigmoid')(next_layer)  \n",
        "    next_layer = Dropout(0.6)(next_layer)                         \n",
        "    next_layer = Dense(128, activation='sigmoid')(next_layer)  \n",
        "\n",
        "    preds = Dense(1, activation='sigmoid')(next_layer)  \n",
        "\n",
        "    model = Model(sequence_input, preds)\n",
        "    model.compile(\n",
        "        loss='binary_crossentropy',\n",
        "        optimizer='adam',\n",
        "        metrics=['acc']\n",
        "    )\n",
        "    \n",
        "    model.summary()\n",
        "    return model"
      ],
      "execution_count": 0,
      "outputs": []
    },
    {
      "cell_type": "code",
      "metadata": {
        "id": "uBDGiZBQsWgk",
        "colab_type": "code",
        "colab": {
          "base_uri": "https://localhost:8080/",
          "height": 629
        },
        "outputId": "3c393db9-0ae7-45ff-d5c8-2dde19100a14"
      },
      "source": [
        "# len= train_word_index +1 FOR 0 THAT WILL BE PADDED FOR COMPLETING THE SEQUENCE LENGTH\n",
        "cnn_model = CNN(train_embedding_weights, len(train_word_index)+1)  "
      ],
      "execution_count": 15,
      "outputs": [
        {
          "output_type": "stream",
          "text": [
            "Model: \"model_2\"\n",
            "__________________________________________________________________________________________________\n",
            "Layer (type)                    Output Shape         Param #     Connected to                     \n",
            "==================================================================================================\n",
            "input_3 (InputLayer)            [(None, 80)]         0                                            \n",
            "__________________________________________________________________________________________________\n",
            "embedding_2 (Embedding)         (None, 80, 300)      1145700     input_3[0][0]                    \n",
            "__________________________________________________________________________________________________\n",
            "conv1d_6 (Conv1D)               (None, 79, 256)      153856      embedding_2[0][0]                \n",
            "__________________________________________________________________________________________________\n",
            "conv1d_7 (Conv1D)               (None, 78, 256)      230656      embedding_2[0][0]                \n",
            "__________________________________________________________________________________________________\n",
            "conv1d_8 (Conv1D)               (None, 77, 256)      307456      embedding_2[0][0]                \n",
            "__________________________________________________________________________________________________\n",
            "global_max_pooling1d_6 (GlobalM (None, 256)          0           conv1d_6[0][0]                   \n",
            "__________________________________________________________________________________________________\n",
            "global_max_pooling1d_7 (GlobalM (None, 256)          0           conv1d_7[0][0]                   \n",
            "__________________________________________________________________________________________________\n",
            "global_max_pooling1d_8 (GlobalM (None, 256)          0           conv1d_8[0][0]                   \n",
            "__________________________________________________________________________________________________\n",
            "concatenate_2 (Concatenate)     (None, 768)          0           global_max_pooling1d_6[0][0]     \n",
            "                                                                 global_max_pooling1d_7[0][0]     \n",
            "                                                                 global_max_pooling1d_8[0][0]     \n",
            "__________________________________________________________________________________________________\n",
            "dense_6 (Dense)                 (None, 256)          196864      concatenate_2[0][0]              \n",
            "__________________________________________________________________________________________________\n",
            "dropout_2 (Dropout)             (None, 256)          0           dense_6[0][0]                    \n",
            "__________________________________________________________________________________________________\n",
            "dense_7 (Dense)                 (None, 128)          32896       dropout_2[0][0]                  \n",
            "__________________________________________________________________________________________________\n",
            "dense_8 (Dense)                 (None, 1)            129         dense_7[0][0]                    \n",
            "==================================================================================================\n",
            "Total params: 2,067,557\n",
            "Trainable params: 921,857\n",
            "Non-trainable params: 1,145,700\n",
            "__________________________________________________________________________________________________\n"
          ],
          "name": "stdout"
        }
      ]
    },
    {
      "cell_type": "code",
      "metadata": {
        "id": "gzLbgWlEsYS1",
        "colab_type": "code",
        "colab": {
          "base_uri": "https://localhost:8080/",
          "height": 187
        },
        "outputId": "13f91221-6485-4f79-e63c-41541699be41"
      },
      "source": [
        "# CONFIGURING AND TRAINING THE MODEL\n",
        "EPOCHS = 5\n",
        "BATCH_SIZE = 50\n",
        "\n",
        "history = cnn_model.fit(\n",
        "    train_sequence,       # THE INPUT SEQUENCES TO THE MODEL\n",
        "    y_train,              # TARGET OUTPUT\n",
        "    epochs=EPOCHS,    \n",
        "    validation_data=(valid_sequence, y_valid), \n",
        "    shuffle=True, \n",
        "    batch_size=BATCH_SIZE\n",
        ")"
      ],
      "execution_count": 16,
      "outputs": [
        {
          "output_type": "stream",
          "text": [
            "Epoch 1/5\n",
            "170/170 [==============================] - 38s 224ms/step - loss: 0.4033 - acc: 0.8191 - val_loss: 0.2084 - val_acc: 0.9064\n",
            "Epoch 2/5\n",
            "170/170 [==============================] - 38s 224ms/step - loss: 0.2618 - acc: 0.8924 - val_loss: 0.2093 - val_acc: 0.9136\n",
            "Epoch 3/5\n",
            "170/170 [==============================] - 38s 223ms/step - loss: 0.1899 - acc: 0.9258 - val_loss: 0.2297 - val_acc: 0.9184\n",
            "Epoch 4/5\n",
            "170/170 [==============================] - 38s 224ms/step - loss: 0.1257 - acc: 0.9569 - val_loss: 0.2653 - val_acc: 0.8992\n",
            "Epoch 5/5\n",
            "170/170 [==============================] - 38s 224ms/step - loss: 0.0884 - acc: 0.9726 - val_loss: 0.2624 - val_acc: 0.9184\n"
          ],
          "name": "stdout"
        }
      ]
    },
    {
      "cell_type": "code",
      "metadata": {
        "id": "cjWScq3hp9N-",
        "colab_type": "code",
        "colab": {}
      },
      "source": [
        "#####################################################################################\n",
        "########################## ANALYZING AND TWEAKING THE MODEL##########################\n",
        "#####################################################################################"
      ],
      "execution_count": 0,
      "outputs": []
    },
    {
      "cell_type": "code",
      "metadata": {
        "id": "DX0tXo8hp-vk",
        "colab_type": "code",
        "colab": {
          "base_uri": "https://localhost:8080/",
          "height": 295
        },
        "outputId": "9000b1ba-4058-4003-d937-695a543a8af9"
      },
      "source": [
        "# TRAINING VS VALIDATION LOSS GRAPH\n",
        "plt.plot(history.history['loss'])\n",
        "plt.plot(history.history['val_loss'])\n",
        "plt.title('model train vs validation loss')\n",
        "plt.ylabel('loss')\n",
        "plt.xlabel('epoch')\n",
        "plt.legend(['train', 'validation'], loc='upper right')\n",
        "plt.show()"
      ],
      "execution_count": 13,
      "outputs": [
        {
          "output_type": "display_data",
          "data": {
            "image/png": "[encoded data removed]",
            "text/plain": [
              "<Figure size 432x288 with 1 Axes>"
            ]
          },
          "metadata": {
            "tags": []
          }
        }
      ]
    },
    {
      "cell_type": "code",
      "metadata": {
        "id": "uLM9XCz4qAHZ",
        "colab_type": "code",
        "colab": {}
      },
      "source": [
        "predict=cnn_model.predict(test_sequence)\n",
        "predict=[int(x+0.5) for x in predict]"
      ],
      "execution_count": 0,
      "outputs": []
    },
    {
      "cell_type": "code",
      "metadata": {
        "id": "f_6vTBPeqBZr",
        "colab_type": "code",
        "colab": {
          "base_uri": "https://localhost:8080/",
          "height": 51
        },
        "outputId": "065cf147-d821-4532-f84d-b6e53601db5b"
      },
      "source": [
        "# EVLUATING THE ACCURACY\n",
        "accuracy = accuracy_score(y_test, predict)\n",
        "f1=f1_score(y_test,predict)\n",
        "print(\"F1 Score: %.2f%%\" % (f1* 100.0))\n",
        "print(\"Accuracy: %.2f%%\" % (accuracy * 100.0))"
      ],
      "execution_count": 9,
      "outputs": [
        {
          "output_type": "stream",
          "text": [
            "F1 Score: 76.92%\n",
            "Accuracy: 78.21%\n"
          ],
          "name": "stdout"
        }
      ]
    }
  ]
}