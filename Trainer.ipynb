{
 "cells": [
  {
   "cell_type": "code",
   "execution_count": 1,
   "metadata": {},
   "outputs": [],
   "source": [
    "import pandas as pd\n",
    "import numpy as np\n",
    "import matplotlib.pyplot as plt\n",
    "pd.set_option(\"display.max_colwidth\", 400) "
   ]
  },
  {
   "cell_type": "code",
   "execution_count": 26,
   "metadata": {},
   "outputs": [],
   "source": [
    "train_data=pd.read_csv(\"./TrainingData.csv\")\n",
    "test_data=pd.read_csv(\"./SubtaskA_Trial_Test_Labeled.csv\")\n",
    "valid_data=pd.read_csv(\"./SubtaskA_EvaluationData_labeled.csv\")"
   ]
  },
  {
   "cell_type": "code",
   "execution_count": 27,
   "metadata": {},
   "outputs": [
    {
     "name": "stdout",
     "output_type": "stream",
     "text": [
      "(8500, 3)\n"
     ]
    },
    {
     "data": {
      "text/html": [
       "<div>\n",
       "<style scoped>\n",
       "    .dataframe tbody tr th:only-of-type {\n",
       "        vertical-align: middle;\n",
       "    }\n",
       "\n",
       "    .dataframe tbody tr th {\n",
       "        vertical-align: top;\n",
       "    }\n",
       "\n",
       "    .dataframe thead th {\n",
       "        text-align: right;\n",
       "    }\n",
       "</style>\n",
       "<table border=\"1\" class=\"dataframe\">\n",
       "  <thead>\n",
       "    <tr style=\"text-align: right;\">\n",
       "      <th></th>\n",
       "      <th>id</th>\n",
       "      <th>sentence</th>\n",
       "      <th>label</th>\n",
       "    </tr>\n",
       "  </thead>\n",
       "  <tbody>\n",
       "    <tr>\n",
       "      <th>0</th>\n",
       "      <td>663_3</td>\n",
       "      <td>\"Please enable removing language code from the Dev Center \"language history\" For example if you ever selected \"ru\" and \"ru-ru\" laguages and you published this xap to the Store then it causes Tile localization to show the en-us(default) tile localization which is bad.\"</td>\n",
       "      <td>1</td>\n",
       "    </tr>\n",
       "    <tr>\n",
       "      <th>1</th>\n",
       "      <td>663_4</td>\n",
       "      <td>\"Note: in your .csproj file, there is a SupportedCultures entry like this: &lt;SupportedCultures&gt;de-DE;ru;ru-RU &lt;/SupportedCultures&gt; When I removed the \"ru\" language code and published my new xap version, the old xap version still remains in the Store with \"Replaced and unpublished\".\"</td>\n",
       "      <td>0</td>\n",
       "    </tr>\n",
       "    <tr>\n",
       "      <th>2</th>\n",
       "      <td>664_1</td>\n",
       "      <td>\"Wich means the new version not fully replaced the old version and this causes me very serious problems: 1.\"</td>\n",
       "      <td>0</td>\n",
       "    </tr>\n",
       "    <tr>\n",
       "      <th>3</th>\n",
       "      <td>664_2</td>\n",
       "      <td>\"Some of my users will still receive the old xap version of my app.\"</td>\n",
       "      <td>0</td>\n",
       "    </tr>\n",
       "    <tr>\n",
       "      <th>4</th>\n",
       "      <td>664_3</td>\n",
       "      <td>\"The store randomly gives the old xap or the new xap version of my app.\"</td>\n",
       "      <td>0</td>\n",
       "    </tr>\n",
       "  </tbody>\n",
       "</table>\n",
       "</div>"
      ],
      "text/plain": [
       "      id  \\\n",
       "0  663_3   \n",
       "1  663_4   \n",
       "2  664_1   \n",
       "3  664_2   \n",
       "4  664_3   \n",
       "\n",
       "                                                                                                                                                                                                                                                                                     sentence  \\\n",
       "0                \"Please enable removing language code from the Dev Center \"language history\" For example if you ever selected \"ru\" and \"ru-ru\" laguages and you published this xap to the Store then it causes Tile localization to show the en-us(default) tile localization which is bad.\"   \n",
       "1  \"Note: in your .csproj file, there is a SupportedCultures entry like this: <SupportedCultures>de-DE;ru;ru-RU </SupportedCultures> When I removed the \"ru\" language code and published my new xap version, the old xap version still remains in the Store with \"Replaced and unpublished\".\"   \n",
       "2                                                                                                                                                                                \"Wich means the new version not fully replaced the old version and this causes me very serious problems: 1.\"   \n",
       "3                                                                                                                                                                                                                        \"Some of my users will still receive the old xap version of my app.\"   \n",
       "4                                                                                                                                                                                                                    \"The store randomly gives the old xap or the new xap version of my app.\"   \n",
       "\n",
       "   label  \n",
       "0      1  \n",
       "1      0  \n",
       "2      0  \n",
       "3      0  \n",
       "4      0  "
      ]
     },
     "execution_count": 27,
     "metadata": {},
     "output_type": "execute_result"
    }
   ],
   "source": [
    "print(train_data.shape)\n",
    "train_data.head()"
   ]
  },
  {
   "cell_type": "code",
   "execution_count": 19,
   "metadata": {},
   "outputs": [
    {
     "name": "stdout",
     "output_type": "stream",
     "text": [
      "(592, 3)\n"
     ]
    },
    {
     "data": {
      "text/html": [
       "<div>\n",
       "<style scoped>\n",
       "    .dataframe tbody tr th:only-of-type {\n",
       "        vertical-align: middle;\n",
       "    }\n",
       "\n",
       "    .dataframe tbody tr th {\n",
       "        vertical-align: top;\n",
       "    }\n",
       "\n",
       "    .dataframe thead th {\n",
       "        text-align: right;\n",
       "    }\n",
       "</style>\n",
       "<table border=\"1\" class=\"dataframe\">\n",
       "  <thead>\n",
       "    <tr style=\"text-align: right;\">\n",
       "      <th></th>\n",
       "      <th>id</th>\n",
       "      <th>sentence</th>\n",
       "      <th>label</th>\n",
       "    </tr>\n",
       "  </thead>\n",
       "  <tbody>\n",
       "    <tr>\n",
       "      <th>0</th>\n",
       "      <td>1310_1</td>\n",
       "      <td>I'm not asking Microsoft to Gives permission like Android so any app can take my data, but don't keep it restricted like iPhone.</td>\n",
       "      <td>1</td>\n",
       "    </tr>\n",
       "    <tr>\n",
       "      <th>1</th>\n",
       "      <td>1312_1</td>\n",
       "      <td>somewhere between Android and iPhone.</td>\n",
       "      <td>0</td>\n",
       "    </tr>\n",
       "    <tr>\n",
       "      <th>2</th>\n",
       "      <td>1313_1</td>\n",
       "      <td>And in the Windows Store you can flag the App [Requires Trust] for example.</td>\n",
       "      <td>0</td>\n",
       "    </tr>\n",
       "    <tr>\n",
       "      <th>3</th>\n",
       "      <td>1313_2</td>\n",
       "      <td>Many thanks Sameh Hi, As we know, there is a lot of limitations is WP8 OS due the high security in the OS itself which is very good, but some time we need to allow some apps to do extra works, apps which we trust i.e: hotmail app, facebook app, skype app ....</td>\n",
       "      <td>0</td>\n",
       "    </tr>\n",
       "    <tr>\n",
       "      <th>4</th>\n",
       "      <td>1313_3</td>\n",
       "      <td>The idea is that we can develop a regular app and we request our permissions in the manifest, OR the app can ASK FOR TRUST_�_ more</td>\n",
       "      <td>1</td>\n",
       "    </tr>\n",
       "  </tbody>\n",
       "</table>\n",
       "</div>"
      ],
      "text/plain": [
       "       id  \\\n",
       "0  1310_1   \n",
       "1  1312_1   \n",
       "2  1313_1   \n",
       "3  1313_2   \n",
       "4  1313_3   \n",
       "\n",
       "                                                                                                                                                                                                                                                              sentence  \\\n",
       "0                                                                                                                                     I'm not asking Microsoft to Gives permission like Android so any app can take my data, but don't keep it restricted like iPhone.   \n",
       "1                                                                                                                                                                                                                                somewhere between Android and iPhone.   \n",
       "2                                                                                                                                                                                          And in the Windows Store you can flag the App [Requires Trust] for example.   \n",
       "3  Many thanks Sameh Hi, As we know, there is a lot of limitations is WP8 OS due the high security in the OS itself which is very good, but some time we need to allow some apps to do extra works, apps which we trust i.e: hotmail app, facebook app, skype app ....   \n",
       "4                                                                                                                                   The idea is that we can develop a regular app and we request our permissions in the manifest, OR the app can ASK FOR TRUST_�_ more   \n",
       "\n",
       "   label  \n",
       "0      1  \n",
       "1      0  \n",
       "2      0  \n",
       "3      0  \n",
       "4      1  "
      ]
     },
     "execution_count": 19,
     "metadata": {},
     "output_type": "execute_result"
    }
   ],
   "source": [
    "print(test_data.shape)\n",
    "test_data.head()"
   ]
  },
  {
   "cell_type": "code",
   "execution_count": 20,
   "metadata": {},
   "outputs": [
    {
     "name": "stdout",
     "output_type": "stream",
     "text": [
      "(833, 3)\n"
     ]
    },
    {
     "data": {
      "text/html": [
       "<div>\n",
       "<style scoped>\n",
       "    .dataframe tbody tr th:only-of-type {\n",
       "        vertical-align: middle;\n",
       "    }\n",
       "\n",
       "    .dataframe tbody tr th {\n",
       "        vertical-align: top;\n",
       "    }\n",
       "\n",
       "    .dataframe thead th {\n",
       "        text-align: right;\n",
       "    }\n",
       "</style>\n",
       "<table border=\"1\" class=\"dataframe\">\n",
       "  <thead>\n",
       "    <tr style=\"text-align: right;\">\n",
       "      <th></th>\n",
       "      <th>id</th>\n",
       "      <th>sentence</th>\n",
       "      <th>label</th>\n",
       "    </tr>\n",
       "  </thead>\n",
       "  <tbody>\n",
       "    <tr>\n",
       "      <th>0</th>\n",
       "      <td>9566</td>\n",
       "      <td>This would enable live traffic aware apps.</td>\n",
       "      <td>0</td>\n",
       "    </tr>\n",
       "    <tr>\n",
       "      <th>1</th>\n",
       "      <td>9569</td>\n",
       "      <td>Please try other formatting like bold italics shadow to distinguish titles/subtitles from content.</td>\n",
       "      <td>1</td>\n",
       "    </tr>\n",
       "    <tr>\n",
       "      <th>2</th>\n",
       "      <td>9576</td>\n",
       "      <td>Since computers were invented to save time I suggest we be allowed to upload them all in one zip file - using numbering for the file names and the portal could place them in the right order.</td>\n",
       "      <td>1</td>\n",
       "    </tr>\n",
       "    <tr>\n",
       "      <th>3</th>\n",
       "      <td>9577</td>\n",
       "      <td>Allow rearranging if the user wants to change them!</td>\n",
       "      <td>1</td>\n",
       "    </tr>\n",
       "    <tr>\n",
       "      <th>4</th>\n",
       "      <td>9579</td>\n",
       "      <td>Add SIMD instructions for better use of ARM NEON instructions for math and games.</td>\n",
       "      <td>1</td>\n",
       "    </tr>\n",
       "  </tbody>\n",
       "</table>\n",
       "</div>"
      ],
      "text/plain": [
       "     id  \\\n",
       "0  9566   \n",
       "1  9569   \n",
       "2  9576   \n",
       "3  9577   \n",
       "4  9579   \n",
       "\n",
       "                                                                                                                                                                                         sentence  \\\n",
       "0                                                                                                                                                      This would enable live traffic aware apps.   \n",
       "1                                                                                              Please try other formatting like bold italics shadow to distinguish titles/subtitles from content.   \n",
       "2  Since computers were invented to save time I suggest we be allowed to upload them all in one zip file - using numbering for the file names and the portal could place them in the right order.   \n",
       "3                                                                                                                                             Allow rearranging if the user wants to change them!   \n",
       "4                                                                                                               Add SIMD instructions for better use of ARM NEON instructions for math and games.   \n",
       "\n",
       "   label  \n",
       "0      0  \n",
       "1      1  \n",
       "2      1  \n",
       "3      1  \n",
       "4      1  "
      ]
     },
     "execution_count": 20,
     "metadata": {},
     "output_type": "execute_result"
    }
   ],
   "source": [
    "print(valid_data.shape)\n",
    "valid_data.head()"
   ]
  },
  {
   "cell_type": "code",
   "execution_count": 22,
   "metadata": {},
   "outputs": [
    {
     "name": "stdout",
     "output_type": "stream",
     "text": [
      "0       268\n",
      "1       282\n",
      "2       108\n",
      "3        68\n",
      "4        72\n",
      "       ... \n",
      "8495     67\n",
      "8496    111\n",
      "8497    110\n",
      "8498    179\n",
      "8499    186\n",
      "Name: sentence, Length: 8500, dtype: int64\n"
     ]
    }
   ],
   "source": [
    "len_train= train_data['sentence'].str.len()\n",
    "print(len_train)"
   ]
  },
  {
   "cell_type": "code",
   "execution_count": 29,
   "metadata": {},
   "outputs": [
    {
     "name": "stdout",
     "output_type": "stream",
     "text": [
      "(9925, 3)\n"
     ]
    },
    {
     "data": {
      "text/html": [
       "<div>\n",
       "<style scoped>\n",
       "    .dataframe tbody tr th:only-of-type {\n",
       "        vertical-align: middle;\n",
       "    }\n",
       "\n",
       "    .dataframe tbody tr th {\n",
       "        vertical-align: top;\n",
       "    }\n",
       "\n",
       "    .dataframe thead th {\n",
       "        text-align: right;\n",
       "    }\n",
       "</style>\n",
       "<table border=\"1\" class=\"dataframe\">\n",
       "  <thead>\n",
       "    <tr style=\"text-align: right;\">\n",
       "      <th></th>\n",
       "      <th>id</th>\n",
       "      <th>sentence</th>\n",
       "      <th>label</th>\n",
       "    </tr>\n",
       "  </thead>\n",
       "  <tbody>\n",
       "    <tr>\n",
       "      <th>0</th>\n",
       "      <td>663_3</td>\n",
       "      <td>\"Please enable removing language code from the Dev Center \"language history\" For example if you ever selected \"ru\" and \"ru-ru\" laguages and you published this xap to the Store then it causes Tile localization to show the en-us(default) tile localization which is bad.\"</td>\n",
       "      <td>1</td>\n",
       "    </tr>\n",
       "    <tr>\n",
       "      <th>1</th>\n",
       "      <td>663_4</td>\n",
       "      <td>\"Note: in your .csproj file, there is a SupportedCultures entry like this: &lt;SupportedCultures&gt;de-DE;ru;ru-RU &lt;/SupportedCultures&gt; When I removed the \"ru\" language code and published my new xap version, the old xap version still remains in the Store with \"Replaced and unpublished\".\"</td>\n",
       "      <td>0</td>\n",
       "    </tr>\n",
       "    <tr>\n",
       "      <th>2</th>\n",
       "      <td>664_1</td>\n",
       "      <td>\"Wich means the new version not fully replaced the old version and this causes me very serious problems: 1.\"</td>\n",
       "      <td>0</td>\n",
       "    </tr>\n",
       "    <tr>\n",
       "      <th>3</th>\n",
       "      <td>664_2</td>\n",
       "      <td>\"Some of my users will still receive the old xap version of my app.\"</td>\n",
       "      <td>0</td>\n",
       "    </tr>\n",
       "    <tr>\n",
       "      <th>4</th>\n",
       "      <td>664_3</td>\n",
       "      <td>\"The store randomly gives the old xap or the new xap version of my app.\"</td>\n",
       "      <td>0</td>\n",
       "    </tr>\n",
       "  </tbody>\n",
       "</table>\n",
       "</div>"
      ],
      "text/plain": [
       "      id  \\\n",
       "0  663_3   \n",
       "1  663_4   \n",
       "2  664_1   \n",
       "3  664_2   \n",
       "4  664_3   \n",
       "\n",
       "                                                                                                                                                                                                                                                                                     sentence  \\\n",
       "0                \"Please enable removing language code from the Dev Center \"language history\" For example if you ever selected \"ru\" and \"ru-ru\" laguages and you published this xap to the Store then it causes Tile localization to show the en-us(default) tile localization which is bad.\"   \n",
       "1  \"Note: in your .csproj file, there is a SupportedCultures entry like this: <SupportedCultures>de-DE;ru;ru-RU </SupportedCultures> When I removed the \"ru\" language code and published my new xap version, the old xap version still remains in the Store with \"Replaced and unpublished\".\"   \n",
       "2                                                                                                                                                                                \"Wich means the new version not fully replaced the old version and this causes me very serious problems: 1.\"   \n",
       "3                                                                                                                                                                                                                        \"Some of my users will still receive the old xap version of my app.\"   \n",
       "4                                                                                                                                                                                                                    \"The store randomly gives the old xap or the new xap version of my app.\"   \n",
       "\n",
       "   label  \n",
       "0      1  \n",
       "1      0  \n",
       "2      0  \n",
       "3      0  \n",
       "4      0  "
      ]
     },
     "execution_count": 29,
     "metadata": {},
     "output_type": "execute_result"
    }
   ],
   "source": [
    "combined= train_data.append(test_data,ignore_index=True)\n",
    "combined= combined.append(valid_data,ignore_index=True)\n",
    "print(combined.shape)\n",
    "combined.head()"
   ]
  },
  {
   "cell_type": "code",
   "execution_count": 30,
   "metadata": {},
   "outputs": [
    {
     "data": {
      "text/html": [
       "<div>\n",
       "<style scoped>\n",
       "    .dataframe tbody tr th:only-of-type {\n",
       "        vertical-align: middle;\n",
       "    }\n",
       "\n",
       "    .dataframe tbody tr th {\n",
       "        vertical-align: top;\n",
       "    }\n",
       "\n",
       "    .dataframe thead th {\n",
       "        text-align: right;\n",
       "    }\n",
       "</style>\n",
       "<table border=\"1\" class=\"dataframe\">\n",
       "  <thead>\n",
       "    <tr style=\"text-align: right;\">\n",
       "      <th></th>\n",
       "      <th>id</th>\n",
       "      <th>sentence</th>\n",
       "      <th>label</th>\n",
       "      <th>clean</th>\n",
       "    </tr>\n",
       "  </thead>\n",
       "  <tbody>\n",
       "    <tr>\n",
       "      <th>0</th>\n",
       "      <td>663_3</td>\n",
       "      <td>\"Please enable removing language code from the Dev Center \"language history\" For example if you ever selected \"ru\" and \"ru-ru\" laguages and you published this xap to the Store then it causes Tile localization to show the en-us(default) tile localization which is bad.\"</td>\n",
       "      <td>1</td>\n",
       "      <td>Please enable removing language code from the Dev Center  language history  For example if you ever selected  ru  and  ru ru  laguages and you published this xap to the Store then it causes Tile localization to show the en us default  tile localization which is bad</td>\n",
       "    </tr>\n",
       "    <tr>\n",
       "      <th>1</th>\n",
       "      <td>663_4</td>\n",
       "      <td>\"Note: in your .csproj file, there is a SupportedCultures entry like this: &lt;SupportedCultures&gt;de-DE;ru;ru-RU &lt;/SupportedCultures&gt; When I removed the \"ru\" language code and published my new xap version, the old xap version still remains in the Store with \"Replaced and unpublished\".\"</td>\n",
       "      <td>0</td>\n",
       "      <td>Note  in your  csproj file  there is a SupportedCultures entry like this   SupportedCultures de DE ru ru RU   SupportedCultures  When I removed the  ru  language code and published my new xap version  the old xap version still remains in the Store with  Replaced and unpublished</td>\n",
       "    </tr>\n",
       "    <tr>\n",
       "      <th>2</th>\n",
       "      <td>664_1</td>\n",
       "      <td>\"Wich means the new version not fully replaced the old version and this causes me very serious problems: 1.\"</td>\n",
       "      <td>0</td>\n",
       "      <td>Wich means the new version not fully replaced the old version and this causes me very serious problems</td>\n",
       "    </tr>\n",
       "    <tr>\n",
       "      <th>3</th>\n",
       "      <td>664_2</td>\n",
       "      <td>\"Some of my users will still receive the old xap version of my app.\"</td>\n",
       "      <td>0</td>\n",
       "      <td>Some of my users will still receive the old xap version of my app</td>\n",
       "    </tr>\n",
       "    <tr>\n",
       "      <th>4</th>\n",
       "      <td>664_3</td>\n",
       "      <td>\"The store randomly gives the old xap or the new xap version of my app.\"</td>\n",
       "      <td>0</td>\n",
       "      <td>The store randomly gives the old xap or the new xap version of my app</td>\n",
       "    </tr>\n",
       "  </tbody>\n",
       "</table>\n",
       "</div>"
      ],
      "text/plain": [
       "      id  \\\n",
       "0  663_3   \n",
       "1  663_4   \n",
       "2  664_1   \n",
       "3  664_2   \n",
       "4  664_3   \n",
       "\n",
       "                                                                                                                                                                                                                                                                                     sentence  \\\n",
       "0                \"Please enable removing language code from the Dev Center \"language history\" For example if you ever selected \"ru\" and \"ru-ru\" laguages and you published this xap to the Store then it causes Tile localization to show the en-us(default) tile localization which is bad.\"   \n",
       "1  \"Note: in your .csproj file, there is a SupportedCultures entry like this: <SupportedCultures>de-DE;ru;ru-RU </SupportedCultures> When I removed the \"ru\" language code and published my new xap version, the old xap version still remains in the Store with \"Replaced and unpublished\".\"   \n",
       "2                                                                                                                                                                                \"Wich means the new version not fully replaced the old version and this causes me very serious problems: 1.\"   \n",
       "3                                                                                                                                                                                                                        \"Some of my users will still receive the old xap version of my app.\"   \n",
       "4                                                                                                                                                                                                                    \"The store randomly gives the old xap or the new xap version of my app.\"   \n",
       "\n",
       "   label  \\\n",
       "0      1   \n",
       "1      0   \n",
       "2      0   \n",
       "3      0   \n",
       "4      0   \n",
       "\n",
       "                                                                                                                                                                                                                                                                                        clean  \n",
       "0                 Please enable removing language code from the Dev Center  language history  For example if you ever selected  ru  and  ru ru  laguages and you published this xap to the Store then it causes Tile localization to show the en us default  tile localization which is bad    \n",
       "1   Note  in your  csproj file  there is a SupportedCultures entry like this   SupportedCultures de DE ru ru RU   SupportedCultures  When I removed the  ru  language code and published my new xap version  the old xap version still remains in the Store with  Replaced and unpublished     \n",
       "2                                                                                                                                                                                 Wich means the new version not fully replaced the old version and this causes me very serious problems       \n",
       "3                                                                                                                                                                                                                         Some of my users will still receive the old xap version of my app    \n",
       "4                                                                                                                                                                                                                     The store randomly gives the old xap or the new xap version of my app    "
      ]
     },
     "execution_count": 30,
     "metadata": {},
     "output_type": "execute_result"
    }
   ],
   "source": [
    "combined['clean']=combined['sentence'].str.replace(\"[^a-zA-Z#]\",\" \")\n",
    "combined.head()"
   ]
  },
  {
   "cell_type": "code",
   "execution_count": 31,
   "metadata": {},
   "outputs": [
    {
     "data": {
      "text/html": [
       "<div>\n",
       "<style scoped>\n",
       "    .dataframe tbody tr th:only-of-type {\n",
       "        vertical-align: middle;\n",
       "    }\n",
       "\n",
       "    .dataframe tbody tr th {\n",
       "        vertical-align: top;\n",
       "    }\n",
       "\n",
       "    .dataframe thead th {\n",
       "        text-align: right;\n",
       "    }\n",
       "</style>\n",
       "<table border=\"1\" class=\"dataframe\">\n",
       "  <thead>\n",
       "    <tr style=\"text-align: right;\">\n",
       "      <th></th>\n",
       "      <th>id</th>\n",
       "      <th>sentence</th>\n",
       "      <th>label</th>\n",
       "      <th>clean</th>\n",
       "    </tr>\n",
       "  </thead>\n",
       "  <tbody>\n",
       "    <tr>\n",
       "      <th>0</th>\n",
       "      <td>663_3</td>\n",
       "      <td>\"Please enable removing language code from the Dev Center \"language history\" For example if you ever selected \"ru\" and \"ru-ru\" laguages and you published this xap to the Store then it causes Tile localization to show the en-us(default) tile localization which is bad.\"</td>\n",
       "      <td>1</td>\n",
       "      <td>Please enable removing language code from Center language history example ever selected laguages published this Store then causes Tile localization show default tile localization which</td>\n",
       "    </tr>\n",
       "    <tr>\n",
       "      <th>1</th>\n",
       "      <td>663_4</td>\n",
       "      <td>\"Note: in your .csproj file, there is a SupportedCultures entry like this: &lt;SupportedCultures&gt;de-DE;ru;ru-RU &lt;/SupportedCultures&gt; When I removed the \"ru\" language code and published my new xap version, the old xap version still remains in the Store with \"Replaced and unpublished\".\"</td>\n",
       "      <td>0</td>\n",
       "      <td>Note your csproj file there SupportedCultures entry like this SupportedCultures SupportedCultures When removed language code published version version still remains Store with Replaced unpublished</td>\n",
       "    </tr>\n",
       "    <tr>\n",
       "      <th>2</th>\n",
       "      <td>664_1</td>\n",
       "      <td>\"Wich means the new version not fully replaced the old version and this causes me very serious problems: 1.\"</td>\n",
       "      <td>0</td>\n",
       "      <td>Wich means version fully replaced version this causes very serious problems</td>\n",
       "    </tr>\n",
       "    <tr>\n",
       "      <th>3</th>\n",
       "      <td>664_2</td>\n",
       "      <td>\"Some of my users will still receive the old xap version of my app.\"</td>\n",
       "      <td>0</td>\n",
       "      <td>Some users will still receive version</td>\n",
       "    </tr>\n",
       "    <tr>\n",
       "      <th>4</th>\n",
       "      <td>664_3</td>\n",
       "      <td>\"The store randomly gives the old xap or the new xap version of my app.\"</td>\n",
       "      <td>0</td>\n",
       "      <td>store randomly gives version</td>\n",
       "    </tr>\n",
       "  </tbody>\n",
       "</table>\n",
       "</div>"
      ],
      "text/plain": [
       "      id  \\\n",
       "0  663_3   \n",
       "1  663_4   \n",
       "2  664_1   \n",
       "3  664_2   \n",
       "4  664_3   \n",
       "\n",
       "                                                                                                                                                                                                                                                                                     sentence  \\\n",
       "0                \"Please enable removing language code from the Dev Center \"language history\" For example if you ever selected \"ru\" and \"ru-ru\" laguages and you published this xap to the Store then it causes Tile localization to show the en-us(default) tile localization which is bad.\"   \n",
       "1  \"Note: in your .csproj file, there is a SupportedCultures entry like this: <SupportedCultures>de-DE;ru;ru-RU </SupportedCultures> When I removed the \"ru\" language code and published my new xap version, the old xap version still remains in the Store with \"Replaced and unpublished\".\"   \n",
       "2                                                                                                                                                                                \"Wich means the new version not fully replaced the old version and this causes me very serious problems: 1.\"   \n",
       "3                                                                                                                                                                                                                        \"Some of my users will still receive the old xap version of my app.\"   \n",
       "4                                                                                                                                                                                                                    \"The store randomly gives the old xap or the new xap version of my app.\"   \n",
       "\n",
       "   label  \\\n",
       "0      1   \n",
       "1      0   \n",
       "2      0   \n",
       "3      0   \n",
       "4      0   \n",
       "\n",
       "                                                                                                                                                                                                  clean  \n",
       "0              Please enable removing language code from Center language history example ever selected laguages published this Store then causes Tile localization show default tile localization which  \n",
       "1  Note your csproj file there SupportedCultures entry like this SupportedCultures SupportedCultures When removed language code published version version still remains Store with Replaced unpublished  \n",
       "2                                                                                                                           Wich means version fully replaced version this causes very serious problems  \n",
       "3                                                                                                                                                                 Some users will still receive version  \n",
       "4                                                                                                                                                                          store randomly gives version  "
      ]
     },
     "execution_count": 31,
     "metadata": {},
     "output_type": "execute_result"
    }
   ],
   "source": [
    "combined['clean'] = combined['clean'].apply(lambda sentence: ' '.join([w for w in sentence.split() if len(w)>3]))\n",
    "combined.head()"
   ]
  },
  {
   "cell_type": "code",
   "execution_count": 32,
   "metadata": {},
   "outputs": [
    {
     "data": {
      "text/plain": [
       "0               [Please, enable, removing, language, code, from, Center, language, history, example, ever, selected, laguages, published, this, Store, then, causes, Tile, localization, show, default, tile, localization, which]\n",
       "1    [Note, your, csproj, file, there, SupportedCultures, entry, like, this, SupportedCultures, SupportedCultures, When, removed, language, code, published, version, version, still, remains, Store, with, Replaced, unpublished]\n",
       "2                                                                                                                                          [Wich, means, version, fully, replaced, version, this, causes, very, serious, problems]\n",
       "3                                                                                                                                                                                     [Some, users, will, still, receive, version]\n",
       "4                                                                                                                                                                                                [store, randomly, gives, version]\n",
       "Name: clean, dtype: object"
      ]
     },
     "execution_count": 32,
     "metadata": {},
     "output_type": "execute_result"
    }
   ],
   "source": [
    "tokenized_sentence= combined['clean'].apply(lambda x: x.split())\n",
    "tokenized_sentence.head()"
   ]
  },
  {
   "cell_type": "code",
   "execution_count": 33,
   "metadata": {},
   "outputs": [
    {
     "data": {
      "text/plain": [
       "0                             [pleas, enabl, remov, languag, code, from, center, languag, histori, exampl, ever, select, laguag, publish, thi, store, then, caus, tile, local, show, default, tile, local, which]\n",
       "1    [note, your, csproj, file, there, supportedcultur, entri, like, thi, supportedcultur, supportedcultur, when, remov, languag, code, publish, version, version, still, remain, store, with, replac, unpublish]\n",
       "2                                                                                                                                 [wich, mean, version, fulli, replac, version, thi, caus, veri, seriou, problem]\n",
       "3                                                                                                                                                                      [some, user, will, still, receiv, version]\n",
       "4                                                                                                                                                                                [store, randomli, give, version]\n",
       "Name: clean, dtype: object"
      ]
     },
     "execution_count": 33,
     "metadata": {},
     "output_type": "execute_result"
    }
   ],
   "source": [
    "from nltk.stem.porter import *\n",
    "stemmer =  PorterStemmer()\n",
    "tokenized_sentence = tokenized_sentence.apply(lambda x: [stemmer.stem(i) for i in x] )\n",
    "tokenized_sentence.head()"
   ]
  },
  {
   "cell_type": "code",
   "execution_count": 35,
   "metadata": {},
   "outputs": [
    {
     "data": {
      "text/plain": [
       "0                              pleas enabl remov languag code from center languag histori exampl ever select laguag publish thi store then caus tile local show default tile local which\n",
       "1    note your csproj file there supportedcultur entri like thi supportedcultur supportedcultur when remov languag code publish version version still remain store with replac unpublish\n",
       "2                                                                                                                    wich mean version fulli replac version thi caus veri seriou problem\n",
       "3                                                                                                                                                    some user will still receiv version\n",
       "4                                                                                                                                                            store randomli give version\n",
       "Name: clean, dtype: object"
      ]
     },
     "execution_count": 35,
     "metadata": {},
     "output_type": "execute_result"
    }
   ],
   "source": [
    "detokenized_sentence= tokenized_sentence.apply(lambda x: ' '.join(x))\n",
    "detokenized_sentence.head()"
   ]
  },
  {
   "cell_type": "code",
   "execution_count": 36,
   "metadata": {},
   "outputs": [
    {
     "data": {
      "text/html": [
       "<div>\n",
       "<style scoped>\n",
       "    .dataframe tbody tr th:only-of-type {\n",
       "        vertical-align: middle;\n",
       "    }\n",
       "\n",
       "    .dataframe tbody tr th {\n",
       "        vertical-align: top;\n",
       "    }\n",
       "\n",
       "    .dataframe thead th {\n",
       "        text-align: right;\n",
       "    }\n",
       "</style>\n",
       "<table border=\"1\" class=\"dataframe\">\n",
       "  <thead>\n",
       "    <tr style=\"text-align: right;\">\n",
       "      <th></th>\n",
       "      <th>id</th>\n",
       "      <th>sentence</th>\n",
       "      <th>label</th>\n",
       "      <th>clean</th>\n",
       "    </tr>\n",
       "  </thead>\n",
       "  <tbody>\n",
       "    <tr>\n",
       "      <th>0</th>\n",
       "      <td>663_3</td>\n",
       "      <td>\"Please enable removing language code from the Dev Center \"language history\" For example if you ever selected \"ru\" and \"ru-ru\" laguages and you published this xap to the Store then it causes Tile localization to show the en-us(default) tile localization which is bad.\"</td>\n",
       "      <td>1</td>\n",
       "      <td>pleas enabl remov languag code from center languag histori exampl ever select laguag publish thi store then caus tile local show default tile local which</td>\n",
       "    </tr>\n",
       "    <tr>\n",
       "      <th>1</th>\n",
       "      <td>663_4</td>\n",
       "      <td>\"Note: in your .csproj file, there is a SupportedCultures entry like this: &lt;SupportedCultures&gt;de-DE;ru;ru-RU &lt;/SupportedCultures&gt; When I removed the \"ru\" language code and published my new xap version, the old xap version still remains in the Store with \"Replaced and unpublished\".\"</td>\n",
       "      <td>0</td>\n",
       "      <td>note your csproj file there supportedcultur entri like thi supportedcultur supportedcultur when remov languag code publish version version still remain store with replac unpublish</td>\n",
       "    </tr>\n",
       "    <tr>\n",
       "      <th>2</th>\n",
       "      <td>664_1</td>\n",
       "      <td>\"Wich means the new version not fully replaced the old version and this causes me very serious problems: 1.\"</td>\n",
       "      <td>0</td>\n",
       "      <td>wich mean version fulli replac version thi caus veri seriou problem</td>\n",
       "    </tr>\n",
       "    <tr>\n",
       "      <th>3</th>\n",
       "      <td>664_2</td>\n",
       "      <td>\"Some of my users will still receive the old xap version of my app.\"</td>\n",
       "      <td>0</td>\n",
       "      <td>some user will still receiv version</td>\n",
       "    </tr>\n",
       "    <tr>\n",
       "      <th>4</th>\n",
       "      <td>664_3</td>\n",
       "      <td>\"The store randomly gives the old xap or the new xap version of my app.\"</td>\n",
       "      <td>0</td>\n",
       "      <td>store randomli give version</td>\n",
       "    </tr>\n",
       "  </tbody>\n",
       "</table>\n",
       "</div>"
      ],
      "text/plain": [
       "      id  \\\n",
       "0  663_3   \n",
       "1  663_4   \n",
       "2  664_1   \n",
       "3  664_2   \n",
       "4  664_3   \n",
       "\n",
       "                                                                                                                                                                                                                                                                                     sentence  \\\n",
       "0                \"Please enable removing language code from the Dev Center \"language history\" For example if you ever selected \"ru\" and \"ru-ru\" laguages and you published this xap to the Store then it causes Tile localization to show the en-us(default) tile localization which is bad.\"   \n",
       "1  \"Note: in your .csproj file, there is a SupportedCultures entry like this: <SupportedCultures>de-DE;ru;ru-RU </SupportedCultures> When I removed the \"ru\" language code and published my new xap version, the old xap version still remains in the Store with \"Replaced and unpublished\".\"   \n",
       "2                                                                                                                                                                                \"Wich means the new version not fully replaced the old version and this causes me very serious problems: 1.\"   \n",
       "3                                                                                                                                                                                                                        \"Some of my users will still receive the old xap version of my app.\"   \n",
       "4                                                                                                                                                                                                                    \"The store randomly gives the old xap or the new xap version of my app.\"   \n",
       "\n",
       "   label  \\\n",
       "0      1   \n",
       "1      0   \n",
       "2      0   \n",
       "3      0   \n",
       "4      0   \n",
       "\n",
       "                                                                                                                                                                                 clean  \n",
       "0                            pleas enabl remov languag code from center languag histori exampl ever select laguag publish thi store then caus tile local show default tile local which  \n",
       "1  note your csproj file there supportedcultur entri like thi supportedcultur supportedcultur when remov languag code publish version version still remain store with replac unpublish  \n",
       "2                                                                                                                  wich mean version fulli replac version thi caus veri seriou problem  \n",
       "3                                                                                                                                                  some user will still receiv version  \n",
       "4                                                                                                                                                          store randomli give version  "
      ]
     },
     "execution_count": 36,
     "metadata": {},
     "output_type": "execute_result"
    }
   ],
   "source": [
    "combined['clean']=detokenized_sentence\n",
    "combined.head()"
   ]
  },
  {
   "cell_type": "code",
   "execution_count": null,
   "metadata": {},
   "outputs": [],
   "source": [
    "combined.to_csv('./Data/CleanData.csv', encoding='utf-8', index=False)"
   ]
  }
 ],
 "metadata": {
  "kernelspec": {
   "display_name": "Python 3",
   "language": "python",
   "name": "python3"
  },
  "language_info": {
   "codemirror_mode": {
    "name": "ipython",
    "version": 3
   },
   "file_extension": ".py",
   "mimetype": "text/x-python",
   "name": "python",
   "nbconvert_exporter": "python",
   "pygments_lexer": "ipython3",
   "version": "3.7.4"
  }
 },
 "nbformat": 4,
 "nbformat_minor": 2
}
