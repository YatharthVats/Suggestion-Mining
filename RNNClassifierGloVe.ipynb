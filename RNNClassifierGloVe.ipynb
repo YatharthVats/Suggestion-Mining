{
  "nbformat": 4,
  "nbformat_minor": 0,
  "metadata": {
    "colab": {
      "name": "RNNClassifierGloVe.ipynb",
      "provenance": []
    },
    "kernelspec": {
      "name": "python3",
      "display_name": "Python 3"
    }
  },
  "cells": [
    {
      "cell_type": "code",
      "metadata": {
        "id": "j7uQL42yqPk4",
        "colab_type": "code",
        "colab": {}
      },
      "source": [
        "# FOR PLOTTING GRAPHS\n",
        "import matplotlib.pyplot as plt\n",
        "\n",
        "# LIBRARIES FOR THE RNN CLASSIFIER\n",
        "from tensorflow.keras.preprocessing import sequence\n",
        "from tensorflow.keras.models import Model\n",
        "from tensorflow.keras.layers import Input, Embedding, Dense, Dropout, LSTM\n",
        "from tensorflow.keras.preprocessing.text import Tokenizer\n",
        "\n",
        "# FOR EVALUATION METRICS OF THE PREDICTIONS\n",
        "from sklearn.metrics import accuracy_score,f1_score"
      ],
      "execution_count": 0,
      "outputs": []
    },
    {
      "cell_type": "code",
      "metadata": {
        "id": "U8fqf2Gj7tPn",
        "colab_type": "code",
        "colab": {}
      },
      "source": [
        "# IMPORITING THE PARAMENTERS AND SEQUENCES \n",
        "import pickle\n",
        "\n",
        "variables = pickle.load(open('./Data/variablesGlove','rb'))\n",
        "\n",
        "test_sequence  = variables['test_sequence']\n",
        "valid_sequence  = variables['valid_sequence']\n",
        "train_sequence  = variables['train_sequence']\n",
        "\n",
        "y_train  = variables['y_train']\n",
        "y_test  = variables['y_test']\n",
        "y_valid  = variables['y_valid']\n",
        "\n",
        "MXSEQLEN  = variables['MXSEQLEN']\n",
        "EMBEDDING_DIM  = variables['EMBEDDING_DIM']\n",
        "train_embedding_weights  = variables['train_embedding_weights']\n",
        "train_word_index  = variables['train_word_index']"
      ],
      "execution_count": 0,
      "outputs": []
    },
    {
      "cell_type": "code",
      "metadata": {
        "id": "YF0ZmMJB7ukO",
        "colab_type": "code",
        "colab": {}
      },
      "source": [
        "#####################################################################################\n",
        "########################## BUILDING AND TRAINING THE MODEL ##########################\n",
        "#####################################################################################\n",
        "\n",
        "def RNN(embedding_weights,num_words):\n",
        "    \n",
        "    # THE INPUT LAYER\n",
        "    sequence_input      =   Input(shape=(MXSEQLEN,), dtype='int32')\n",
        "    \n",
        "    # THE EMBEDDING LAYER OF EMBEDDING_WEIGHTS     \n",
        "    embedding_layer = Embedding(\n",
        "        num_words,                  # VOCABULARY SIZE\n",
        "        EMBEDDING_DIM,              # ONE HOT ENCODING VECTOR SIZE\n",
        "        weights=[embedding_weights],# EMBEGGING WEIGHTS FROM THE GOOGLE NEW WORD VECTOR\n",
        "        input_length=MXSEQLEN,      # MAX LENGTH OF A SEQUENCE\n",
        "        trainable=False             # PARAMETERS WILL NOT BE TRAINED\n",
        "    )\n",
        "    \n",
        "    # THE EMBEDDING SEQUENCES FROM THE EMBEDDING LAYER \n",
        "    embedded_sequences  =   embedding_layer(sequence_input)\n",
        "\n",
        "    # ADDING ONE LSTM LAYER OF 256 NODES\n",
        "    lstm_layer = LSTM(256)(embedded_sequences)                    \n",
        "    \n",
        "    # DENSE NEURON LAYER\n",
        "    next_layer = Dense(128, activation='relu')(lstm_layer)        \n",
        "    \n",
        "    # FEW DROPOUTS FOR AVOIDING OVERFIT\n",
        "    next_layer = Dropout(0.5)(next_layer)                         \n",
        "\n",
        "    next_layer = Dense(128, activation='relu')(next_layer)        \n",
        "\n",
        "    # FINAL DENSE LAYER\n",
        "    preds = Dense(1, activation='sigmoid')(next_layer)  \n",
        "\n",
        "    model = Model(sequence_input, preds)\n",
        "    model.compile(\n",
        "        loss='binary_crossentropy',\n",
        "        optimizer='adam',\n",
        "        metrics=['acc']\n",
        "    )\n",
        "    \n",
        "    model.summary()\n",
        "    return model"
      ],
      "execution_count": 0,
      "outputs": []
    },
    {
      "cell_type": "code",
      "metadata": {
        "id": "zPsP1WoD7uvz",
        "colab_type": "code",
        "colab": {
          "base_uri": "https://localhost:8080/",
          "height": 417
        },
        "outputId": "f03c7f70-52d1-4d6d-f8ae-060ae10fa97c"
      },
      "source": [
        "# len= train_word_index +1 FOR 0 THAT WILL BE PADDED FOR COMPLETING THE SEQUENCE LENGTH\n",
        "rnn_model = RNN(train_embedding_weights, len(train_word_index)+1)"
      ],
      "execution_count": 50,
      "outputs": [
        {
          "output_type": "stream",
          "text": [
            "Model: \"model_4\"\n",
            "_________________________________________________________________\n",
            "Layer (type)                 Output Shape              Param #   \n",
            "=================================================================\n",
            "input_5 (InputLayer)         [(None, 80)]              0         \n",
            "_________________________________________________________________\n",
            "embedding_4 (Embedding)      (None, 80, 300)           1145700   \n",
            "_________________________________________________________________\n",
            "lstm_4 (LSTM)                (None, 256)               570368    \n",
            "_________________________________________________________________\n",
            "dense_12 (Dense)             (None, 128)               32896     \n",
            "_________________________________________________________________\n",
            "dropout_4 (Dropout)          (None, 128)               0         \n",
            "_________________________________________________________________\n",
            "dense_13 (Dense)             (None, 128)               16512     \n",
            "_________________________________________________________________\n",
            "dense_14 (Dense)             (None, 1)                 129       \n",
            "=================================================================\n",
            "Total params: 1,765,605\n",
            "Trainable params: 619,905\n",
            "Non-trainable params: 1,145,700\n",
            "_________________________________________________________________\n"
          ],
          "name": "stdout"
        }
      ]
    },
    {
      "cell_type": "code",
      "metadata": {
        "id": "wlMQDgdF7vKJ",
        "colab_type": "code",
        "colab": {
          "base_uri": "https://localhost:8080/",
          "height": 199
        },
        "outputId": "5c1e47e5-f0af-4227-a36c-8c42d9db6bea"
      },
      "source": [
        "# CONFIGURING AND TRAINING THE MODEL\n",
        "EPOCHS = 5\n",
        "BATCH_SIZE = 50\n",
        "\n",
        "history = rnn_model.fit(\n",
        "    train_sequence,       # THE INPUT SEQUENCES TO THE MODEL\n",
        "    y_train,              # TARGET OUTPUT\n",
        "    epochs=EPOCHS,    \n",
        "    validation_data=(valid_sequence, y_valid), \n",
        "    shuffle=True, \n",
        "    batch_size=BATCH_SIZE\n",
        ")"
      ],
      "execution_count": 51,
      "outputs": [
        {
          "output_type": "stream",
          "text": [
            "Epoch 1/5\n",
            "170/170 [==============================] - 69s 405ms/step - loss: 0.4580 - acc: 0.7945 - val_loss: 0.3011 - val_acc: 0.9076\n",
            "Epoch 2/5\n",
            "170/170 [==============================] - 69s 404ms/step - loss: 0.3565 - acc: 0.8504 - val_loss: 0.2185 - val_acc: 0.9196\n",
            "Epoch 3/5\n",
            "170/170 [==============================] - 70s 410ms/step - loss: 0.2993 - acc: 0.8740 - val_loss: 0.2163 - val_acc: 0.9076\n",
            "Epoch 4/5\n",
            "170/170 [==============================] - 74s 436ms/step - loss: 0.2752 - acc: 0.8849 - val_loss: 0.2162 - val_acc: 0.9196\n",
            "Epoch 5/5\n",
            "170/170 [==============================] - 70s 414ms/step - loss: 0.2380 - acc: 0.9015 - val_loss: 0.2328 - val_acc: 0.8956\n"
          ],
          "name": "stdout"
        }
      ]
    },
    {
      "cell_type": "code",
      "metadata": {
        "id": "1X6YxZU07vZE",
        "colab_type": "code",
        "colab": {}
      },
      "source": [
        "#####################################################################################\n",
        "########################## ANALYZING AND TWEAKING THE MODEL##########################\n",
        "#####################################################################################"
      ],
      "execution_count": 0,
      "outputs": []
    },
    {
      "cell_type": "code",
      "metadata": {
        "id": "gKq15fA67v29",
        "colab_type": "code",
        "colab": {
          "base_uri": "https://localhost:8080/",
          "height": 295
        },
        "outputId": "ed9526b3-ea04-4f33-a5b4-5cf97858cbcc"
      },
      "source": [
        "# TRAINING VS VALIDATION LOSS GRAPH\n",
        "plt.plot(history.history['loss'])\n",
        "plt.plot(history.history['val_loss'])\n",
        "plt.title('model train vs validation loss')\n",
        "plt.ylabel('loss')\n",
        "plt.xlabel('epoch')\n",
        "plt.legend(['train', 'validation'], loc='upper right')\n",
        "plt.show()"
      ],
      "execution_count": 53,
      "outputs": [
        {
          "output_type": "display_data",
          "data": {
            "image/png": "[encoded data removed]",
            "text/plain": [
              "<Figure size 432x288 with 1 Axes>"
            ]
          },
          "metadata": {
            "tags": []
          }
        }
      ]
    },
    {
      "cell_type": "code",
      "metadata": {
        "id": "f6Qm1fgx8Quu",
        "colab_type": "code",
        "colab": {}
      },
      "source": [
        "predict=rnn_model.predict(test_sequence)\n",
        "predict=[int(x+0.5) for x in predict]"
      ],
      "execution_count": 0,
      "outputs": []
    },
    {
      "cell_type": "code",
      "metadata": {
        "id": "0cq6JH0Q8Q-I",
        "colab_type": "code",
        "colab": {
          "base_uri": "https://localhost:8080/",
          "height": 53
        },
        "outputId": "758428aa-ddfd-4bf0-d47e-ba96a127c044"
      },
      "source": [
        "# EVALUATING THE ACCURACY\n",
        "accuracy = accuracy_score(y_test, predict)\n",
        "f1=f1_score(y_test,predict)\n",
        "print(\"F1 Score: %.2f%%\" % (f1* 100.0))\n",
        "print(\"Accuracy: %.2f%%\" % (accuracy * 100.0))"
      ],
      "execution_count": 55,
      "outputs": [
        {
          "output_type": "stream",
          "text": [
            "F1 Score: 76.16%\n",
            "Accuracy: 78.21%\n"
          ],
          "name": "stdout"
        }
      ]
    },
    {
      "cell_type": "code",
      "metadata": {
        "id": "43_ua1SkATfw",
        "colab_type": "code",
        "colab": {}
      },
      "source": [
        ""
      ],
      "execution_count": 0,
      "outputs": []
    }
  ]
}