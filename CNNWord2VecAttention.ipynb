{
 "cells": [
  {
   "cell_type": "code",
   "execution_count": 11,
   "metadata": {
    "colab": {},
    "colab_type": "code",
    "id": "_VGwKJg05zaT"
   },
   "outputs": [],
   "source": [
    "import pandas as pd\n",
    "import numpy as np\n",
    "\n",
    "# FOR PLOTTING GRAPHS\n",
    "import matplotlib.pyplot as plt\n",
    "pd.set_option('display.max_colwidth',300)\n",
    "\n",
    "# FOR CNN MODEL\n",
    "from tensorflow.keras.models import Model\n",
    "from tensorflow.keras.layers import Input, Embedding;\n",
    "from tensorflow.keras.layers import concatenate, Conv1D, GlobalMaxPooling1D\n",
    "from tensorflow.keras.layers import Dense, Dropout\n",
    "\n",
    "# FOR ATTENTION LAYER\n",
    "from tensorflow.keras.layers import Attention, Flatten,Activation,Permute,RepeatVector,Lambda,Multiply\n",
    "from tensorflow.keras.backend import sum as Ksum\n",
    "\n",
    "# FOR EVALUATION METRICS OF THE PREDICTIONS\n",
    "from sklearn.metrics import accuracy_score,f1_score"
   ]
  },
  {
   "cell_type": "code",
   "execution_count": 12,
   "metadata": {
    "colab": {},
    "colab_type": "code",
    "id": "-pJR7vIJ63xQ"
   },
   "outputs": [],
   "source": [
    "import pickle\n",
    "\n",
    "variables = pickle.load(open('./Data/variables','rb'))\n",
    "\n",
    "test_sequence  = variables['test_sequence']\n",
    "valid_sequence  = variables['valid_sequence']\n",
    "train_sequence  = variables['train_sequence']\n",
    "\n",
    "y_train  = variables['y_train']\n",
    "y_test  = variables['y_test']\n",
    "y_valid  = variables['y_valid']\n",
    "\n",
    "MXSEQLEN  = variables['MXSEQLEN']\n",
    "EMBEDDING_DIM  = variables['EMBEDDING_DIM']\n",
    "train_embedding_weights  = variables['train_embedding_weights']\n",
    "train_word_index  = variables['train_word_index']"
   ]
  },
  {
   "cell_type": "code",
   "execution_count": 13,
   "metadata": {
    "colab": {},
    "colab_type": "code",
    "id": "dHwozMet7N2T"
   },
   "outputs": [],
   "source": [
    "def CNN(embedding_weights,num_words):\n",
    "\n",
    "    embedding_layer = Embedding(\n",
    "        num_words,                  # VOCABULARY SIZE\n",
    "        EMBEDDING_DIM,              # ONE HOT ENCODING VECTOR SIZE\n",
    "        weights=[embedding_weights],# EMBEGGING WEIGHTS FROM THE GOOGLE NEW WORD VECTOR\n",
    "        input_length=MXSEQLEN,      # MAX LENGTH OF A SEQUENCE\n",
    "        trainable=False             # PARAMETERS WILL NOT BE TRAINED\n",
    "    )\n",
    "\n",
    "    sequence_input      =   Input(shape=(MXSEQLEN,), dtype='int32')\n",
    "    embedded_sequences  =   embedding_layer(sequence_input)\n",
    "\n",
    "    # CONVOLUTIONAL LAYER 1\n",
    "    conv_layer1 = Conv1D(256, 2, activation='relu')(embedded_sequences)        \n",
    "    conv_layer1 = GlobalMaxPooling1D()(conv_layer1)\n",
    "\n",
    "    # CONVOLUTIONAL LAYER 2\n",
    "    conv_layer2 = Conv1D(256, 3, activation='relu')(embedded_sequences)        \n",
    "    conv_layer2 = GlobalMaxPooling1D()(conv_layer2)\n",
    "\n",
    "    # CONVOLUTIONAL LAYER 3\n",
    "    conv_layer3 = Conv1D(256, 4, activation='relu')(embedded_sequences)        \n",
    "    conv_layer3 = GlobalMaxPooling1D()(conv_layer3)\n",
    "\n",
    "    # CONCATENATION CONV LAYERS\n",
    "    next_layer = concatenate([conv_layer1,conv_layer2,conv_layer3])\n",
    "\n",
    "    # ADDING ATTENTION\n",
    "    next_layer = Dense(256, activation='sigmoid')(next_layer)  \n",
    "    units=256\n",
    "\n",
    "    attention = Dense(1, activation='tanh')(next_layer)\n",
    "    attention = Flatten()(attention)\n",
    "    attention = Activation('softmax')(attention)\n",
    "    attention = RepeatVector(units)(attention)\n",
    "    attention = Permute([2, 1])(attention)\n",
    "\n",
    "    sent_representation = Multiply()([next_layer, attention])\n",
    "    sent_representation = Lambda(lambda xin: Ksum(xin, axis=-2), output_shape=(units,))(sent_representation)\n",
    "\n",
    "    next_layer = Dropout(0.6)(next_layer)                         \n",
    "    next_layer = Dense(128, activation='sigmoid')(next_layer)  \n",
    "\n",
    "    preds = Dense(1, activation='sigmoid')(next_layer)  \n",
    "\n",
    "    model = Model(sequence_input, preds)\n",
    "    model.compile(\n",
    "        loss='binary_crossentropy',\n",
    "        optimizer='adam',\n",
    "        metrics=['acc']\n",
    "    )\n",
    "    \n",
    "    model.summary()\n",
    "    return model"
   ]
  },
  {
   "cell_type": "code",
   "execution_count": 14,
   "metadata": {
    "colab": {
     "base_uri": "https://localhost:8080/",
     "height": 629
    },
    "colab_type": "code",
    "id": "7CDTCFxf7YIF",
    "outputId": "f8599a43-7c39-4746-89d0-4a18679b4d07"
   },
   "outputs": [
    {
     "name": "stdout",
     "output_type": "stream",
     "text": [
      "WARNING:tensorflow:From /home/shubham/.local/lib/python3.7/site-packages/tensorflow/python/keras/initializers.py:119: calling RandomUniform.__init__ (from tensorflow.python.ops.init_ops) with dtype is deprecated and will be removed in a future version.\n",
      "Instructions for updating:\n",
      "Call initializer instance with the dtype argument instead of passing it to the constructor\n",
      "WARNING:tensorflow:From /home/shubham/.local/lib/python3.7/site-packages/tensorflow/python/ops/init_ops.py:1251: calling VarianceScaling.__init__ (from tensorflow.python.ops.init_ops) with dtype is deprecated and will be removed in a future version.\n",
      "Instructions for updating:\n",
      "Call initializer instance with the dtype argument instead of passing it to the constructor\n",
      "WARNING:tensorflow:Large dropout rate: 0.6 (>0.5). In TensorFlow 2.x, dropout() uses dropout rate instead of keep_prob. Please ensure that this is intended.\n",
      "WARNING:tensorflow:From /home/shubham/.local/lib/python3.7/site-packages/tensorflow/python/ops/nn_impl.py:180: add_dispatch_support.<locals>.wrapper (from tensorflow.python.ops.array_ops) is deprecated and will be removed in a future version.\n",
      "Instructions for updating:\n",
      "Use tf.where in 2.0, which has the same broadcast rule as np.where\n",
      "Model: \"model\"\n",
      "__________________________________________________________________________________________________\n",
      "Layer (type)                    Output Shape         Param #     Connected to                     \n",
      "==================================================================================================\n",
      "input_1 (InputLayer)            [(None, 80)]         0                                            \n",
      "__________________________________________________________________________________________________\n",
      "embedding (Embedding)           (None, 80, 300)      1145700     input_1[0][0]                    \n",
      "__________________________________________________________________________________________________\n",
      "conv1d (Conv1D)                 (None, 79, 256)      153856      embedding[0][0]                  \n",
      "__________________________________________________________________________________________________\n",
      "conv1d_1 (Conv1D)               (None, 78, 256)      230656      embedding[0][0]                  \n",
      "__________________________________________________________________________________________________\n",
      "conv1d_2 (Conv1D)               (None, 77, 256)      307456      embedding[0][0]                  \n",
      "__________________________________________________________________________________________________\n",
      "global_max_pooling1d (GlobalMax (None, 256)          0           conv1d[0][0]                     \n",
      "__________________________________________________________________________________________________\n",
      "global_max_pooling1d_1 (GlobalM (None, 256)          0           conv1d_1[0][0]                   \n",
      "__________________________________________________________________________________________________\n",
      "global_max_pooling1d_2 (GlobalM (None, 256)          0           conv1d_2[0][0]                   \n",
      "__________________________________________________________________________________________________\n",
      "concatenate (Concatenate)       (None, 768)          0           global_max_pooling1d[0][0]       \n",
      "                                                                 global_max_pooling1d_1[0][0]     \n",
      "                                                                 global_max_pooling1d_2[0][0]     \n",
      "__________________________________________________________________________________________________\n",
      "dense (Dense)                   (None, 256)          196864      concatenate[0][0]                \n",
      "__________________________________________________________________________________________________\n",
      "dropout (Dropout)               (None, 256)          0           dense[0][0]                      \n",
      "__________________________________________________________________________________________________\n",
      "dense_2 (Dense)                 (None, 128)          32896       dropout[0][0]                    \n",
      "__________________________________________________________________________________________________\n",
      "dense_3 (Dense)                 (None, 1)            129         dense_2[0][0]                    \n",
      "==================================================================================================\n",
      "Total params: 2,067,557\n",
      "Trainable params: 921,857\n",
      "Non-trainable params: 1,145,700\n",
      "__________________________________________________________________________________________________\n"
     ]
    }
   ],
   "source": [
    "# len= train_word_index +1 FOR 0 THAT WILL BE PADDED FOR COMPLETING THE SEQUENCE LENGTH\n",
    "cnn_model = CNN(train_embedding_weights, len(train_word_index)+1)  "
   ]
  },
  {
   "cell_type": "code",
   "execution_count": 15,
   "metadata": {
    "colab": {
     "base_uri": "https://localhost:8080/"
    },
    "colab_type": "code",
    "id": "v-c8RyUI7Zms",
    "outputId": "f2b3b933-c838-4257-e1ba-eff5d2c0589c"
   },
   "outputs": [
    {
     "name": "stdout",
     "output_type": "stream",
     "text": [
      "Train on 8500 samples, validate on 833 samples\n",
      "Epoch 1/10\n",
      "8500/8500 [==============================] - 49s 6ms/sample - loss: 0.4450 - acc: 0.8060 - val_loss: 0.3089 - val_acc: 0.8595\n",
      "Epoch 2/10\n",
      "8500/8500 [==============================] - 23s 3ms/sample - loss: 0.2769 - acc: 0.8847 - val_loss: 0.1968 - val_acc: 0.9244\n",
      "Epoch 3/10\n",
      "8500/8500 [==============================] - 23s 3ms/sample - loss: 0.1998 - acc: 0.9209 - val_loss: 0.2195 - val_acc: 0.9148\n",
      "Epoch 4/10\n",
      "8500/8500 [==============================] - 23s 3ms/sample - loss: 0.1390 - acc: 0.9516 - val_loss: 0.2680 - val_acc: 0.9016\n",
      "Epoch 5/10\n",
      "8500/8500 [==============================] - 23s 3ms/sample - loss: 0.0923 - acc: 0.9727 - val_loss: 0.2559 - val_acc: 0.9100\n",
      "Epoch 6/10\n",
      "8500/8500 [==============================] - 22s 3ms/sample - loss: 0.0744 - acc: 0.9798 - val_loss: 0.2596 - val_acc: 0.9160\n",
      "Epoch 7/10\n",
      "8500/8500 [==============================] - 24s 3ms/sample - loss: 0.0626 - acc: 0.9859 - val_loss: 0.2848 - val_acc: 0.9064\n",
      "Epoch 8/10\n",
      "8500/8500 [==============================] - 23s 3ms/sample - loss: 0.0634 - acc: 0.9848 - val_loss: 0.2789 - val_acc: 0.9172\n",
      "Epoch 9/10\n",
      "8500/8500 [==============================] - 22s 3ms/sample - loss: 0.0537 - acc: 0.9868 - val_loss: 0.3046 - val_acc: 0.8908\n",
      "Epoch 10/10\n",
      "8500/8500 [==============================] - 21s 2ms/sample - loss: 0.0472 - acc: 0.9893 - val_loss: 0.3021 - val_acc: 0.9052\n"
     ]
    }
   ],
   "source": [
    "# CONFIGURING AND TRAINING THE MODEL\n",
    "EPOCHS = 10\n",
    "BATCH_SIZE = 50\n",
    "\n",
    "history = cnn_model.fit(\n",
    "    train_sequence,       # THE INPUT SEQUENCES TO THE MODEL\n",
    "    y_train,              # TARGET OUTPUT\n",
    "    epochs=EPOCHS,    \n",
    "    validation_data=(valid_sequence, y_valid), \n",
    "    shuffle=True, \n",
    "    batch_size=BATCH_SIZE\n",
    ")"
   ]
  },
  {
   "cell_type": "code",
   "execution_count": 0,
   "metadata": {
    "colab": {},
    "colab_type": "code",
    "id": "vG7eG1ZO7biU"
   },
   "outputs": [],
   "source": [
    "#####################################################################################\n",
    "########################## ANALYZING AND TWEAKING THE MODEL##########################\n",
    "#####################################################################################"
   ]
  },
  {
   "cell_type": "code",
   "execution_count": 16,
   "metadata": {
    "colab": {
     "base_uri": "https://localhost:8080/"
    },
    "colab_type": "code",
    "id": "Wukmbnoo7dk2",
    "outputId": "aa9b7132-8863-4bea-8da5-c151ca778e61"
   },
   "outputs": [
    {
     "data": {
      "image/png": "[encoded data removed]",
      "text/plain": [
       "<Figure size 432x288 with 1 Axes>"
      ]
     },
     "metadata": {
      "needs_background": "light"
     },
     "output_type": "display_data"
    }
   ],
   "source": [
    "# TRAINING VS VALIDATION LOSS GRAPH\n",
    "plt.plot(history.history['loss'])\n",
    "plt.plot(history.history['val_loss'])\n",
    "plt.title('model train vs validation loss')\n",
    "plt.ylabel('loss')\n",
    "plt.xlabel('epoch')\n",
    "plt.legend(['train', 'validation'], loc='upper right')\n",
    "plt.show()"
   ]
  },
  {
   "cell_type": "code",
   "execution_count": 20,
   "metadata": {
    "colab": {},
    "colab_type": "code",
    "id": "ekLgZOxt7kvh"
   },
   "outputs": [],
   "source": [
    "predict=cnn_model.predict(test_sequence)\n",
    "predict=[int(x+0.5) for x in predict]"
   ]
  },
  {
   "cell_type": "code",
   "execution_count": 19,
   "metadata": {
    "colab": {
     "base_uri": "https://localhost:8080/",
     "height": 51
    },
    "colab_type": "code",
    "id": "p9kqUs967nPR",
    "outputId": "a58b21f2-2278-47e1-a1ae-581f56839402"
   },
   "outputs": [
    {
     "name": "stdout",
     "output_type": "stream",
     "text": [
      "F1 Score: 92.59%\n",
      "Accuracy: 93.75%\n"
     ]
    }
   ],
   "source": [
    "# EVLUATING THE ACCURACY\n",
    "accuracy = accuracy_score(y_test, predict)\n",
    "f1=f1_score(y_test,predict)\n",
    "print(\"F1 Score: %.2f%%\" % (f1* 100.0))\n",
    "print(\"Accuracy: %.2f%%\" % (accuracy * 100.0))"
   ]
  }
 ],
 "metadata": {
  "colab": {
   "collapsed_sections": [],
   "name": "CNNWord2VecAttention.ipynb",
   "provenance": []
  },
  "kernelspec": {
   "display_name": "Python 3",
   "language": "python",
   "name": "python3"
  },
  "language_info": {
   "codemirror_mode": {
    "name": "ipython",
    "version": 3
   },
   "file_extension": ".py",
   "mimetype": "text/x-python",
   "name": "python",
   "nbconvert_exporter": "python",
   "pygments_lexer": "ipython3",
   "version": "3.7.4"
  }
 },
 "nbformat": 4,
 "nbformat_minor": 1
}
