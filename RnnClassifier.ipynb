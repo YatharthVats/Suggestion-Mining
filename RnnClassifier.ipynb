{
  "nbformat": 4,
  "nbformat_minor": 0,
  "metadata": {
    "colab": {
      "name": "RnnClassifier.ipynb",
      "provenance": [],
      "collapsed_sections": []
    },
    "kernelspec": {
      "name": "python3",
      "display_name": "Python 3"
    }
  },
  "cells": [
    {
      "cell_type": "code",
      "metadata": {
        "id": "OKMeOU2X-Ud7",
        "colab_type": "code",
        "colab": {}
      },
      "source": [
        "#####################################################################################\n",
        "##########################      IMPORTING THE LIBRARIES    ##########################\n",
        "#####################################################################################\n",
        "import pandas as pd\n",
        "import numpy as np\n",
        "\n",
        "# LIBRARIES FOR THE RNN CLASSIFIER\n",
        "from tensorflow.keras.preprocessing import sequence\n",
        "from tensorflow.keras.models import Model\n",
        "from tensorflow.keras.layers import Input, Embedding, Dense, Dropout, LSTM\n",
        "from tensorflow.keras.preprocessing.text import Tokenizer\n",
        "\n",
        "# FOR THE GOOGLE WORD TO VECTOR WEIGHTS\n",
        "import gensim\n",
        "\n",
        "# FOR EVALUATION METRICS OF THE PREDICTIONS\n",
        "from sklearn.metrics import accuracy_score,f1_score\n",
        "\n",
        "# FOR PLOTTING GRAPHS\n",
        "import matplotlib.pyplot as plt\n",
        "pd.set_option('display.max_colwidth',300)"
      ],
      "execution_count": 0,
      "outputs": []
    },
    {
      "cell_type": "code",
      "metadata": {
        "id": "ig2CNOKJ-enl",
        "colab_type": "code",
        "colab": {}
      },
      "source": [
        "# IMPORTING THE DATASET\n",
        "train_data=pd.read_csv(\"./TrainingData.csv\")\n",
        "test_data=pd.read_csv(\"./SubtaskA_Trial_Test_Labeled.csv\")\n",
        "valid_data=pd.read_csv(\"./SubtaskA_EvaluationData_labeled.csv\")"
      ],
      "execution_count": 0,
      "outputs": []
    },
    {
      "cell_type": "code",
      "metadata": {
        "id": "8vw8hWeLDx_q",
        "colab_type": "code",
        "colab": {}
      },
      "source": [
        "#####################################################################################\n",
        "##########################        CLEANING THE DATA        ##########################\n",
        "#####################################################################################\n",
        "\n",
        "# FUNCTION TO CLEAN A GIVEN DATASET \n",
        "def cleanData(data):\n",
        "  \n",
        "  import nltk\n",
        "  from nltk.corpus import stopwords\n",
        "  from nltk.stem.porter import PorterStemmer\n",
        "  nltk.download('stopwords')\n",
        "  \n",
        "  # CACHING THE STOP WORDS HELPS IN FASTENING \n",
        "  # THE REMOVAL OF THE STOP WORDS\n",
        "  cachedStopWords = stopwords.words(\"english\")\n",
        "  \n",
        "  # REMOVING THE SPECIAL CHARACTERS\n",
        "  print('Removed Special Characters')\n",
        "  data=data.str.replace(\"[^a-zA-Z#]\",\" \")\n",
        "  print(data.head())\n",
        "\n",
        "  # TOKENIZING THE DATASET SENTENCES\n",
        "  tokenized=data.apply(lambda x: x.split())\n",
        "\n",
        "  # REMOVING THE STOP WORDS\n",
        "  print('Removing Stop Words')\n",
        "  # BY REMOVING THE STOP WORDS FROM NLTK, BUT IT MIGHT\n",
        "  # REMOVES OTHER IMPORTANT WORDS SUCH AS 'CAN' WHICH MIGHT BE\n",
        "  # USEFUL FOR SUGGESSTION MINING\n",
        "  # tokenized = tokenized.apply(\n",
        "  #   lambda sentence: [word for word in sentence if word not in cachedStopWords]\n",
        "  # )\n",
        "  # REMOVING SHORTWORDS (ALMOST ALL ARE STOPWORDS) \n",
        "  tokenized = tokenized.apply(\n",
        "    lambda sentence: [word for word in sentence if len(word)>2 ]\n",
        "  )\n",
        "  print(tokenized.head())\n",
        "\n",
        "  # LOWERING THE SENTENCE CASE SO THAT 'Which' and 'Which' BECOMES THE SAME\n",
        "  print('Normalizing Sentence Case')\n",
        "  tokenized = tokenized.apply(\n",
        "    lambda sentence: [word.lower() for word in sentence]\n",
        "  )\n",
        "  print(tokenized.head())\n",
        "\n",
        "  # CHANGING DIFFERNT WORD FORMS TO ONE\n",
        "  print('After Stemming')\n",
        "  stemmer =  PorterStemmer()\n",
        "  tokenized = tokenized.apply(lambda x: [stemmer.stem(i) for i in x] )\n",
        "  print(tokenized.head())\n",
        "\n",
        "  # DETOKENIZING THE TOKENS BACK TO THE SENTENCES\n",
        "  detokenized= tokenized.apply(lambda x: ' '.join(x))\n",
        "  return detokenized"
      ],
      "execution_count": 0,
      "outputs": []
    },
    {
      "cell_type": "code",
      "metadata": {
        "id": "zUyJQ8VpEXzp",
        "colab_type": "code",
        "outputId": "cc688e56-7b01-4fc0-cea7-cdf153a87748",
        "colab": {
          "base_uri": "https://localhost:8080/",
          "height": 547
        }
      },
      "source": [
        "# CLEANING THE TRAINING DATA\n",
        "x_train = cleanData(train_data['sentence'])"
      ],
      "execution_count": 5,
      "outputs": [
        {
          "output_type": "stream",
          "text": [
            "[nltk_data] Downloading package stopwords to /root/nltk_data...\n",
            "[nltk_data]   Package stopwords is already up-to-date!\n",
            "Removed Special Characters\n",
            "0                   Please enable removing language code from the Dev Center  language history  For example if you ever selected  ru  and  ru ru  laguages and you published this xap to the Store then it causes Tile localization to show the en us default  tile localization which is bad  \n",
            "1     Note  in your  csproj file  there is a SupportedCultures entry like this   SupportedCultures de DE ru ru RU   SupportedCultures  When I removed the  ru  language code and published my new xap version  the old xap version still remains in the Store with  Replaced and unpublished   \n",
            "2                                                                                                                                                                                   Wich means the new version not fully replaced the old version and this causes me very serious problems     \n",
            "3                                                                                                                                                                                                                           Some of my users will still receive the old xap version of my app  \n",
            "4                                                                                                                                                                                                                       The store randomly gives the old xap or the new xap version of my app  \n",
            "Name: sentence, dtype: object\n",
            "Removing Stop Words\n",
            "0     [Please, enable, removing, language, code, from, the, Dev, Center, language, history, For, example, you, ever, selected, and, laguages, and, you, published, this, xap, the, Store, then, causes, Tile, localization, show, the, default, tile, localization, which, bad]\n",
            "1    [Note, your, csproj, file, there, SupportedCultures, entry, like, this, SupportedCultures, SupportedCultures, When, removed, the, language, code, and, published, new, xap, version, the, old, xap, version, still, remains, the, Store, with, Replaced, and, unpublished]\n",
            "2                                                                                                                                                         [Wich, means, the, new, version, not, fully, replaced, the, old, version, and, this, causes, very, serious, problems]\n",
            "3                                                                                                                                                                                                              [Some, users, will, still, receive, the, old, xap, version, app]\n",
            "4                                                                                                                                                                                                     [The, store, randomly, gives, the, old, xap, the, new, xap, version, app]\n",
            "Name: sentence, dtype: object\n",
            "Normalizing Sentence Case\n",
            "0     [please, enable, removing, language, code, from, the, dev, center, language, history, for, example, you, ever, selected, and, laguages, and, you, published, this, xap, the, store, then, causes, tile, localization, show, the, default, tile, localization, which, bad]\n",
            "1    [note, your, csproj, file, there, supportedcultures, entry, like, this, supportedcultures, supportedcultures, when, removed, the, language, code, and, published, new, xap, version, the, old, xap, version, still, remains, the, store, with, replaced, and, unpublished]\n",
            "2                                                                                                                                                         [wich, means, the, new, version, not, fully, replaced, the, old, version, and, this, causes, very, serious, problems]\n",
            "3                                                                                                                                                                                                              [some, users, will, still, receive, the, old, xap, version, app]\n",
            "4                                                                                                                                                                                                     [the, store, randomly, gives, the, old, xap, the, new, xap, version, app]\n",
            "Name: sentence, dtype: object\n",
            "After Stemming\n",
            "0                   [pleas, enabl, remov, languag, code, from, the, dev, center, languag, histori, for, exampl, you, ever, select, and, laguag, and, you, publish, thi, xap, the, store, then, caus, tile, local, show, the, default, tile, local, which, bad]\n",
            "1    [note, your, csproj, file, there, supportedcultur, entri, like, thi, supportedcultur, supportedcultur, when, remov, the, languag, code, and, publish, new, xap, version, the, old, xap, version, still, remain, the, store, with, replac, and, unpublish]\n",
            "2                                                                                                                                                [wich, mean, the, new, version, not, fulli, replac, the, old, version, and, thi, caus, veri, seriou, problem]\n",
            "3                                                                                                                                                                                               [some, user, will, still, receiv, the, old, xap, version, app]\n",
            "4                                                                                                                                                                                     [the, store, randomli, give, the, old, xap, the, new, xap, version, app]\n",
            "Name: sentence, dtype: object\n"
          ],
          "name": "stdout"
        }
      ]
    },
    {
      "cell_type": "code",
      "metadata": {
        "id": "Z_jkOsQWEjPO",
        "colab_type": "code",
        "outputId": "c1d2cf4b-a2d5-4d21-bc7d-a2b2ea5e90e6",
        "colab": {
          "base_uri": "https://localhost:8080/",
          "height": 547
        }
      },
      "source": [
        "# CLEANING THE TESTING DATA\n",
        "x_test = cleanData(test_data['sentence'])"
      ],
      "execution_count": 6,
      "outputs": [
        {
          "output_type": "stream",
          "text": [
            "[nltk_data] Downloading package stopwords to /root/nltk_data...\n",
            "[nltk_data]   Package stopwords is already up-to-date!\n",
            "Removed Special Characters\n",
            "0                                                                                                                                       I m not asking Microsoft to Gives permission like Android so any app can take my data  but don t keep it restricted like iPhone \n",
            "1                                                                                                                                                                                                                                  somewhere between Android and iPhone \n",
            "2                                                                                                                                                                                            And in the Windows Store you can flag the App  Requires Trust  for example \n",
            "3    Many thanks Sameh Hi  As we know  there is a lot of limitations is WP  OS due the high security in the OS itself which is very good  but some time we need to allow some apps to do extra works  apps which we trust i e  hotmail app  facebook app  skype app     \n",
            "4                                                                                                                                     The idea is that we can develop a regular app and we request our permissions in the manifest  OR the app can ASK FOR TRUST    more\n",
            "Name: sentence, dtype: object\n",
            "Removing Stop Words\n",
            "0                                                                                                        [not, asking, Microsoft, Gives, permission, like, Android, any, app, can, take, data, but, don, keep, restricted, like, iPhone]\n",
            "1                                                                                                                                                                                             [somewhere, between, Android, and, iPhone]\n",
            "2                                                                                                                                                    [And, the, Windows, Store, you, can, flag, the, App, Requires, Trust, for, example]\n",
            "3    [Many, thanks, Sameh, know, there, lot, limitations, due, the, high, security, the, itself, which, very, good, but, some, time, need, allow, some, apps, extra, works, apps, which, trust, hotmail, app, facebook, app, skype, app]\n",
            "4                                                                                                     [The, idea, that, can, develop, regular, app, and, request, our, permissions, the, manifest, the, app, can, ASK, FOR, TRUST, more]\n",
            "Name: sentence, dtype: object\n",
            "Normalizing Sentence Case\n",
            "0                                                                                                        [not, asking, microsoft, gives, permission, like, android, any, app, can, take, data, but, don, keep, restricted, like, iphone]\n",
            "1                                                                                                                                                                                             [somewhere, between, android, and, iphone]\n",
            "2                                                                                                                                                    [and, the, windows, store, you, can, flag, the, app, requires, trust, for, example]\n",
            "3    [many, thanks, sameh, know, there, lot, limitations, due, the, high, security, the, itself, which, very, good, but, some, time, need, allow, some, apps, extra, works, apps, which, trust, hotmail, app, facebook, app, skype, app]\n",
            "4                                                                                                     [the, idea, that, can, develop, regular, app, and, request, our, permissions, the, manifest, the, app, can, ask, for, trust, more]\n",
            "Name: sentence, dtype: object\n",
            "After Stemming\n",
            "0                                                                                                     [not, ask, microsoft, give, permiss, like, android, ani, app, can, take, data, but, don, keep, restrict, like, iphon]\n",
            "1                                                                                                                                                                                  [somewher, between, android, and, iphon]\n",
            "2                                                                                                                                           [and, the, window, store, you, can, flag, the, app, requir, trust, for, exampl]\n",
            "3    [mani, thank, sameh, know, there, lot, limit, due, the, high, secur, the, itself, which, veri, good, but, some, time, need, allow, some, app, extra, work, app, which, trust, hotmail, app, facebook, app, skype, app]\n",
            "4                                                                                            [the, idea, that, can, develop, regular, app, and, request, our, permiss, the, manifest, the, app, can, ask, for, trust, more]\n",
            "Name: sentence, dtype: object\n"
          ],
          "name": "stdout"
        }
      ]
    },
    {
      "cell_type": "code",
      "metadata": {
        "id": "alaIsRmbEl7k",
        "colab_type": "code",
        "outputId": "ee268f55-1332-4fb5-ec56-73da89f1cfd3",
        "colab": {
          "base_uri": "https://localhost:8080/",
          "height": 547
        }
      },
      "source": [
        "# CLEANING THE VALIDATION DATA\n",
        "x_valid = cleanData(valid_data['sentence'])"
      ],
      "execution_count": 7,
      "outputs": [
        {
          "output_type": "stream",
          "text": [
            "[nltk_data] Downloading package stopwords to /root/nltk_data...\n",
            "[nltk_data]   Package stopwords is already up-to-date!\n",
            "Removed Special Characters\n",
            "0                                                                                                                                                        This would enable live traffic aware apps \n",
            "1                                                                                                Please try other formatting like bold italics shadow to distinguish titles subtitles from content \n",
            "2    Since computers were invented to save time I suggest we be allowed to upload them all in one zip file   using numbering for the file names and the portal could place them in the right order \n",
            "3                                                                                                                                               Allow rearranging if the user wants to change them \n",
            "4                                                                                                                 Add SIMD instructions for better use of ARM NEON instructions for math and games \n",
            "Name: sentence, dtype: object\n",
            "Removing Stop Words\n",
            "0                                                                                                                                                        [This, would, enable, live, traffic, aware, apps]\n",
            "1                                                                                             [Please, try, other, formatting, like, bold, italics, shadow, distinguish, titles, subtitles, from, content]\n",
            "2    [Since, computers, were, invented, save, time, suggest, allowed, upload, them, all, one, zip, file, using, numbering, for, the, file, names, and, the, portal, could, place, them, the, right, order]\n",
            "3                                                                                                                                                     [Allow, rearranging, the, user, wants, change, them]\n",
            "4                                                                                                              [Add, SIMD, instructions, for, better, use, ARM, NEON, instructions, for, math, and, games]\n",
            "Name: sentence, dtype: object\n",
            "Normalizing Sentence Case\n",
            "0                                                                                                                                                        [this, would, enable, live, traffic, aware, apps]\n",
            "1                                                                                             [please, try, other, formatting, like, bold, italics, shadow, distinguish, titles, subtitles, from, content]\n",
            "2    [since, computers, were, invented, save, time, suggest, allowed, upload, them, all, one, zip, file, using, numbering, for, the, file, names, and, the, portal, could, place, them, the, right, order]\n",
            "3                                                                                                                                                     [allow, rearranging, the, user, wants, change, them]\n",
            "4                                                                                                              [add, simd, instructions, for, better, use, arm, neon, instructions, for, math, and, games]\n",
            "Name: sentence, dtype: object\n",
            "After Stemming\n",
            "0                                                                                                                                              [thi, would, enabl, live, traffic, awar, app]\n",
            "1                                                                                           [pleas, tri, other, format, like, bold, ital, shadow, distinguish, titl, subtitl, from, content]\n",
            "2    [sinc, comput, were, invent, save, time, suggest, allow, upload, them, all, one, zip, file, use, number, for, the, file, name, and, the, portal, could, place, them, the, right, order]\n",
            "3                                                                                                                                            [allow, rearrang, the, user, want, chang, them]\n",
            "4                                                                                                         [add, simd, instruct, for, better, use, arm, neon, instruct, for, math, and, game]\n",
            "Name: sentence, dtype: object\n"
          ],
          "name": "stdout"
        }
      ]
    },
    {
      "cell_type": "code",
      "metadata": {
        "id": "un3TavwR-v7C",
        "colab_type": "code",
        "outputId": "6160e5b2-32cc-447a-a1be-2e2e1e2df96a",
        "colab": {
          "base_uri": "https://localhost:8080/",
          "height": 51
        }
      },
      "source": [
        "y_train=train_data['label']\n",
        "y_valid=valid_data['label']\n",
        "y_test=test_data['label']\n",
        "\n",
        "# MERGING THE TRAINING AND VALIDATION DATA\n",
        "# TO HAVE EMBEDDING MATRIX WITH ALL WORDS\n",
        "x_train=x_train.append(x_valid)\n",
        "y_train=y_train.append(y_valid)\n",
        "\n",
        "print('train', x_train.shape,y_train.shape)\n",
        "print('test', x_test.shape,y_test.shape)"
      ],
      "execution_count": 8,
      "outputs": [
        {
          "output_type": "stream",
          "text": [
            "train (9333,) (9333,)\n",
            "test (592,) (592,)\n"
          ],
          "name": "stdout"
        }
      ]
    },
    {
      "cell_type": "code",
      "metadata": {
        "id": "Uy1HU7rfDL9Z",
        "colab_type": "code",
        "outputId": "706f7945-932b-4390-ed60-6fda92d20c5f",
        "colab": {
          "base_uri": "https://localhost:8080/",
          "height": 343
        }
      },
      "source": [
        "# PEEKING INTO THE TEST DATA\n",
        "print(x_test.head())\n",
        "test_data.head()"
      ],
      "execution_count": 10,
      "outputs": [
        {
          "output_type": "stream",
          "text": [
            "0                                                                                     not ask microsoft give permiss like android ani app can take data but don keep restrict like iphon\n",
            "1                                                                                                                                                     somewher between android and iphon\n",
            "2                                                                                                                      and the window store you can flag the app requir trust for exampl\n",
            "3    mani thank sameh know there lot limit due the high secur the itself which veri good but some time need allow some app extra work app which trust hotmail app facebook app skype app\n",
            "4                                                                              the idea that can develop regular app and request our permiss the manifest the app can ask for trust more\n",
            "Name: sentence, dtype: object\n"
          ],
          "name": "stdout"
        },
        {
          "output_type": "execute_result",
          "data": {
            "text/html": [
              "<div>\n",
              "<style scoped>\n",
              "    .dataframe tbody tr th:only-of-type {\n",
              "        vertical-align: middle;\n",
              "    }\n",
              "\n",
              "    .dataframe tbody tr th {\n",
              "        vertical-align: top;\n",
              "    }\n",
              "\n",
              "    .dataframe thead th {\n",
              "        text-align: right;\n",
              "    }\n",
              "</style>\n",
              "<table border=\"1\" class=\"dataframe\">\n",
              "  <thead>\n",
              "    <tr style=\"text-align: right;\">\n",
              "      <th></th>\n",
              "      <th>id</th>\n",
              "      <th>sentence</th>\n",
              "      <th>label</th>\n",
              "    </tr>\n",
              "  </thead>\n",
              "  <tbody>\n",
              "    <tr>\n",
              "      <th>0</th>\n",
              "      <td>1310_1</td>\n",
              "      <td>I'm not asking Microsoft to Gives permission like Android so any app can take my data, but don't keep it restricted like iPhone.</td>\n",
              "      <td>1</td>\n",
              "    </tr>\n",
              "    <tr>\n",
              "      <th>1</th>\n",
              "      <td>1312_1</td>\n",
              "      <td>somewhere between Android and iPhone.</td>\n",
              "      <td>0</td>\n",
              "    </tr>\n",
              "    <tr>\n",
              "      <th>2</th>\n",
              "      <td>1313_1</td>\n",
              "      <td>And in the Windows Store you can flag the App [Requires Trust] for example.</td>\n",
              "      <td>0</td>\n",
              "    </tr>\n",
              "    <tr>\n",
              "      <th>3</th>\n",
              "      <td>1313_2</td>\n",
              "      <td>Many thanks Sameh Hi, As we know, there is a lot of limitations is WP8 OS due the high security in the OS itself which is very good, but some time we need to allow some apps to do extra works, apps which we trust i.e: hotmail app, facebook app, skype app ....</td>\n",
              "      <td>0</td>\n",
              "    </tr>\n",
              "    <tr>\n",
              "      <th>4</th>\n",
              "      <td>1313_3</td>\n",
              "      <td>The idea is that we can develop a regular app and we request our permissions in the manifest, OR the app can ASK FOR TRUST_�_ more</td>\n",
              "      <td>1</td>\n",
              "    </tr>\n",
              "  </tbody>\n",
              "</table>\n",
              "</div>"
            ],
            "text/plain": [
              "       id  ... label\n",
              "0  1310_1  ...     1\n",
              "1  1312_1  ...     0\n",
              "2  1313_1  ...     0\n",
              "3  1313_2  ...     0\n",
              "4  1313_3  ...     1\n",
              "\n",
              "[5 rows x 3 columns]"
            ]
          },
          "metadata": {
            "tags": []
          },
          "execution_count": 10
        }
      ]
    },
    {
      "cell_type": "code",
      "metadata": {
        "id": "OBbiObEblst3",
        "colab_type": "code",
        "colab": {}
      },
      "source": [
        "#####################################################################################\n",
        "########################## BUILDING THE EMBEDDING MATRIX   ##########################\n",
        "#####################################################################################"
      ],
      "execution_count": 0,
      "outputs": []
    },
    {
      "cell_type": "code",
      "metadata": {
        "id": "EFASdZoAFN0z",
        "colab_type": "code",
        "outputId": "d0c14be7-85a5-458a-c700-daab8716162a",
        "colab": {
          "base_uri": "https://localhost:8080/",
          "height": 34
        }
      },
      "source": [
        "# BUILDING VOCABULARY FROM THE SENTENCES\n",
        "# THIS WILL HELP IN GETTING THE INPUT SEQUENCES FOR THE \n",
        "mxlen=0\n",
        "tokenized=x_train.apply(lambda x: x.split())\n",
        "for tokens in tokenized:\n",
        "  mxlen=max(mxlen,len(tokens))\n",
        "print('MAX LEN', mxlen)"
      ],
      "execution_count": 11,
      "outputs": [
        {
          "output_type": "stream",
          "text": [
            "MAX LEN 184\n"
          ],
          "name": "stdout"
        }
      ]
    },
    {
      "cell_type": "code",
      "metadata": {
        "id": "-iWYWuJ-l7ej",
        "colab_type": "code",
        "outputId": "a2f48629-1e2a-4dcc-a43d-e4355e9b4102",
        "colab": {
          "base_uri": "https://localhost:8080/",
          "height": 34
        }
      },
      "source": [
        "all_words= [ word for tokens in tokenized for word in tokens]\n",
        "vocab = sorted(list(set(all_words)))\n",
        "vocab_train_len=len(vocab)\n",
        "print('VOCAB SIZE',len(vocab))"
      ],
      "execution_count": 12,
      "outputs": [
        {
          "output_type": "stream",
          "text": [
            "VOCAB SIZE 6493\n"
          ],
          "name": "stdout"
        }
      ]
    },
    {
      "cell_type": "code",
      "metadata": {
        "id": "1oBn5HGcNF5B",
        "colab_type": "code",
        "colab": {}
      },
      "source": [
        "# MAX LEN OF AN INPUT SEQUENCE\n",
        "MXSEQLEN=80\n",
        "# GOOGLE NEWS WORD VECTOR ENCODING SIZE\n",
        "EMBEDDING_DIM = 300"
      ],
      "execution_count": 0,
      "outputs": []
    },
    {
      "cell_type": "code",
      "metadata": {
        "id": "2HYZTn88Jtbn",
        "colab_type": "code",
        "outputId": "70406696-effd-4879-8bb2-ae986201c256",
        "colab": {
          "base_uri": "https://localhost:8080/",
          "height": 34
        }
      },
      "source": [
        "# BUILDING TOKENIZER FROM THE TRAINING DATA\n",
        "# SAME TOKENIZER WILL BE USED IN THE TESTING AND VALIDATIONS\n",
        "tokenizer = Tokenizer(num_words=vocab_train_len, lower=True, char_level=False)\n",
        "tokenizer.fit_on_texts(x_train.tolist())\n",
        "print('Found %s unique tokens.' % len(tokenizer.word_index))"
      ],
      "execution_count": 13,
      "outputs": [
        {
          "output_type": "stream",
          "text": [
            "Found 6483 unique tokens.\n"
          ],
          "name": "stdout"
        }
      ]
    },
    {
      "cell_type": "code",
      "metadata": {
        "id": "hlC7qxhQi6Xi",
        "colab_type": "code",
        "outputId": "8e0c2285-c0e0-40d1-d64b-47772c439398",
        "colab": {
          "base_uri": "https://localhost:8080/",
          "height": 136
        }
      },
      "source": [
        "# form the sequences that will be the input to the network\n",
        "# padd or remove values to make sequences of equal length\n",
        "train_word_index= tokenizer.word_index\n",
        "train_sequence = tokenizer.texts_to_sequences(x_train.tolist())\n",
        "train_sequence = sequence.pad_sequences(train_sequence, maxlen=MXSEQLEN)\n",
        "print(train_sequence)"
      ],
      "execution_count": 16,
      "outputs": [
        {
          "output_type": "stream",
          "text": [
            "[[   0    0    0 ...  250   34  502]\n",
            " [   0    0    0 ...  614    2 1917]\n",
            " [   0    0    0 ...   89  978   93]\n",
            " ...\n",
            " [   0    0    0 ...   89   89  904]\n",
            " [   0    0    0 ...  490   71   91]\n",
            " [   0    0    0 ...   63  210  190]]\n"
          ],
          "name": "stdout"
        }
      ]
    },
    {
      "cell_type": "code",
      "metadata": {
        "id": "KEERS3TojALz",
        "colab_type": "code",
        "outputId": "cb8224be-49db-4e09-f499-400812e9e016",
        "colab": {
          "base_uri": "https://localhost:8080/",
          "height": 136
        }
      },
      "source": [
        "# TEST SEQUENCE BUILT FROM THE SAME TRAINING VOCABULARY\n",
        "test_sequence = tokenizer.texts_to_sequences(x_test.tolist())\n",
        "test_sequence = sequence.pad_sequences(test_sequence, maxlen=MXSEQLEN)\n",
        "print(test_sequence)"
      ],
      "execution_count": 17,
      "outputs": [
        {
          "output_type": "stream",
          "text": [
            "[[  0   0   0 ... 644  16 665]\n",
            " [  0   0   0 ... 152   2 665]\n",
            " [  0   0   0 ... 850   4  90]\n",
            " ...\n",
            " [  0   0   0 ... 339   4 206]\n",
            " [  0   0   0 ...   1 310 215]\n",
            " [  0   0   0 ... 193   1 415]]\n"
          ],
          "name": "stdout"
        }
      ]
    },
    {
      "cell_type": "code",
      "metadata": {
        "colab_type": "code",
        "outputId": "c74b9854-78db-4f0c-b5b2-cdbd9f20eb6f",
        "id": "mvo0AHTlPxO6",
        "colab": {
          "base_uri": "https://localhost:8080/",
          "height": 221
        }
      },
      "source": [
        "# DOWNLOADING THE PRETRAINED GOOGLE NEWS WORD TO VECTOR REPRESENTATIONS\n",
        "!wget -P /content/ -c \"https://s3.amazonaws.com/dl4j-distribution/GoogleNews-vectors-negative300.bin.gz\"\n",
        "!gzip -d /content/GoogleNews-vectors-negative300.bin.gz "
      ],
      "execution_count": 1,
      "outputs": [
        {
          "output_type": "stream",
          "text": [
            "--2020-03-25 12:32:45--  https://s3.amazonaws.com/dl4j-distribution/GoogleNews-vectors-negative300.bin.gz\n",
            "Resolving s3.amazonaws.com (s3.amazonaws.com)... 52.216.143.238\n",
            "Connecting to s3.amazonaws.com (s3.amazonaws.com)|52.216.143.238|:443... connected.\n",
            "HTTP request sent, awaiting response... 206 Partial Content\n",
            "Length: 1647046227 (1.5G), 1638437458 (1.5G) remaining [application/x-gzip]\n",
            "Saving to: ‘/content/GoogleNews-vectors-negative300.bin.gz’\n",
            "\n",
            "GoogleNews-vectors- 100%[===================>]   1.53G  76.0MB/s    in 24s     \n",
            "\n",
            "2020-03-25 12:33:09 (65.1 MB/s) - ‘/content/GoogleNews-vectors-negative300.bin.gz’ saved [1647046227/1647046227]\n",
            "\n",
            "gzip: /content/GoogleNews-vectors-negative300.bin already exists; do you wish to overwrite (y or n)? y\n"
          ],
          "name": "stdout"
        }
      ]
    },
    {
      "cell_type": "code",
      "metadata": {
        "id": "u626Qo03P-I4",
        "colab_type": "code",
        "outputId": "d4190fce-717a-4570-d529-4d0114398457",
        "colab": {
          "base_uri": "https://localhost:8080/",
          "height": 71
        }
      },
      "source": [
        "# LOADING WORD TO VECTOR\n",
        "word2vec = gensim.models.KeyedVectors.load_word2vec_format('/content/GoogleNews-vectors-negative300.bin', binary=True)"
      ],
      "execution_count": 18,
      "outputs": [
        {
          "output_type": "stream",
          "text": [
            "/usr/local/lib/python3.6/dist-packages/smart_open/smart_open_lib.py:410: UserWarning: This function is deprecated, use smart_open.open instead. See the migration notes for details: https://github.com/RaRe-Technologies/smart_open/blob/master/README.rst#migrating-to-the-new-open-function\n",
            "  'See the migration notes for details: %s' % _MIGRATION_NOTES_URL\n"
          ],
          "name": "stderr"
        }
      ]
    },
    {
      "cell_type": "code",
      "metadata": {
        "id": "5CR8l8q8PH4g",
        "colab_type": "code",
        "outputId": "26a1d030-d2dc-43e2-e6a7-ba10b540327a",
        "colab": {
          "base_uri": "https://localhost:8080/",
          "height": 34
        }
      },
      "source": [
        "# BUILDING THE EMBEDDING WEIGHT MATRIX, \n",
        "# WILL ACT AS NON TRAINABLE EMBEDDING LAYER PARAMETERS FOR THE RNN MODEL\n",
        "train_embedding_weights = np.zeros((len(train_word_index)+1, EMBEDDING_DIM))\n",
        "\n",
        "for word,index in train_word_index.items():\n",
        "    train_embedding_weights[index,:] = word2vec[word] if word in word2vec else np.random.rand(EMBEDDING_DIM)\n",
        "\n",
        "print(train_embedding_weights.shape)"
      ],
      "execution_count": 19,
      "outputs": [
        {
          "output_type": "stream",
          "text": [
            "(6484, 300)\n"
          ],
          "name": "stdout"
        }
      ]
    },
    {
      "cell_type": "code",
      "metadata": {
        "id": "fL755M6IOYj2",
        "colab_type": "code",
        "colab": {}
      },
      "source": [
        "#####################################################################################\n",
        "########################## BUILDING AND TRAINING THE MODEL ##########################\n",
        "#####################################################################################\n",
        "\n",
        "def RNN(embedding_weights,num_words):\n",
        "    \n",
        "    # THE INPUT LAYER\n",
        "    sequence_input      =   Input(shape=(MXSEQLEN,), dtype='int32')\n",
        "    \n",
        "    # THE EMBEDDING LAYER OF EMBEDDING_WEIGHTS     \n",
        "    embedding_layer = Embedding(\n",
        "        num_words,                  # VOCABULARY SIZE\n",
        "        EMBEDDING_DIM,              # ONE HOT ENCODING VECTOR SIZE\n",
        "        weights=[embedding_weights],# EMBEGGING WEIGHTS FROM THE GOOGLE NEW WORD VECTOR\n",
        "        input_length=MXSEQLEN,      # MAX LENGTH OF A SEQUENCE\n",
        "        trainable=False             # PARAMETERS WILL NOT BE TRAINED\n",
        "    )\n",
        "    \n",
        "    # THE EMBEDDING SEQUENCES FROM THE EMBEDDING LAYER \n",
        "    embedded_sequences  =   embedding_layer(sequence_input)\n",
        "\n",
        "    # ADDING ONE LSTM LAYER OF 256 NODES\n",
        "    lstm_layer = LSTM(256)(embedded_sequences)                    \n",
        "    \n",
        "    # DENSE NEURON LAYER\n",
        "    next_layer = Dense(128, activation='relu')(lstm_layer)        \n",
        "    \n",
        "    # FEW DROPOUTS FOR AVOIDING OVERFIT\n",
        "    next_layer = Dropout(0.5)(next_layer)                         \n",
        "\n",
        "    # FINAL DENSE LAYER\n",
        "    preds = Dense(1, activation='sigmoid')(next_layer)  \n",
        "\n",
        "    model = Model(sequence_input, preds)\n",
        "    model.compile(\n",
        "        loss='binary_crossentropy',\n",
        "        optimizer='adam',\n",
        "        metrics=['acc']\n",
        "    )\n",
        "    \n",
        "    model.summary()\n",
        "    return model"
      ],
      "execution_count": 0,
      "outputs": []
    },
    {
      "cell_type": "code",
      "metadata": {
        "id": "LGHSwMSLQsMN",
        "colab_type": "code",
        "outputId": "cdb9b979-2e4f-46e7-930b-2c6234bae9ef",
        "colab": {
          "base_uri": "https://localhost:8080/",
          "height": 530
        }
      },
      "source": [
        "# len= train_word_index +1 FOR 0 THAT WILL BE PADDED FOR COMPLETING THE SEQUENCE LENGTH\n",
        "rnn_model = RNN(train_embedding_weights, len(train_word_index)+1)  "
      ],
      "execution_count": 21,
      "outputs": [
        {
          "output_type": "stream",
          "text": [
            "WARNING:tensorflow:From /tensorflow-1.15.0/python3.6/tensorflow_core/python/keras/initializers.py:119: calling RandomUniform.__init__ (from tensorflow.python.ops.init_ops) with dtype is deprecated and will be removed in a future version.\n",
            "Instructions for updating:\n",
            "Call initializer instance with the dtype argument instead of passing it to the constructor\n",
            "WARNING:tensorflow:From /tensorflow-1.15.0/python3.6/tensorflow_core/python/ops/resource_variable_ops.py:1630: calling BaseResourceVariable.__init__ (from tensorflow.python.ops.resource_variable_ops) with constraint is deprecated and will be removed in a future version.\n",
            "Instructions for updating:\n",
            "If using Keras pass *_constraint arguments to layers.\n",
            "WARNING:tensorflow:From /tensorflow-1.15.0/python3.6/tensorflow_core/python/ops/nn_impl.py:183: where (from tensorflow.python.ops.array_ops) is deprecated and will be removed in a future version.\n",
            "Instructions for updating:\n",
            "Use tf.where in 2.0, which has the same broadcast rule as np.where\n",
            "Model: \"model\"\n",
            "_________________________________________________________________\n",
            "Layer (type)                 Output Shape              Param #   \n",
            "=================================================================\n",
            "input_1 (InputLayer)         [(None, 80)]              0         \n",
            "_________________________________________________________________\n",
            "embedding (Embedding)        (None, 80, 300)           1945200   \n",
            "_________________________________________________________________\n",
            "lstm (LSTM)                  (None, 256)               570368    \n",
            "_________________________________________________________________\n",
            "dense (Dense)                (None, 128)               32896     \n",
            "_________________________________________________________________\n",
            "dropout (Dropout)            (None, 128)               0         \n",
            "_________________________________________________________________\n",
            "dense_1 (Dense)              (None, 1)                 129       \n",
            "=================================================================\n",
            "Total params: 2,548,593\n",
            "Trainable params: 603,393\n",
            "Non-trainable params: 1,945,200\n",
            "_________________________________________________________________\n"
          ],
          "name": "stdout"
        }
      ]
    },
    {
      "cell_type": "code",
      "metadata": {
        "id": "so9XjM3vT_aM",
        "colab_type": "code",
        "outputId": "0deac90a-542d-482b-8673-ffcbd4c5cbef",
        "colab": {
          "base_uri": "https://localhost:8080/",
          "height": 272
        }
      },
      "source": [
        "# CONFIGURING AND TRAINING THE MODEL\n",
        "EPOCHS = 7\n",
        "BATCH_SIZE = 50\n",
        "\n",
        "history = rnn_model.fit(\n",
        "    train_sequence,       # THE INPUT SEQUENCES TO THE MODEL\n",
        "    y_train,              # TARGET OUTPUT\n",
        "    epochs=EPOCHS,    \n",
        "    validation_split=0.1, # VALIDATE AFTER SHUFFLING THE DATASET\n",
        "    shuffle=True, \n",
        "    batch_size=BATCH_SIZE\n",
        ")"
      ],
      "execution_count": 35,
      "outputs": [
        {
          "output_type": "stream",
          "text": [
            "Train on 8399 samples, validate on 934 samples\n",
            "Epoch 1/7\n",
            "8399/8399 [==============================] - 137s 16ms/sample - loss: 0.1317 - acc: 0.9486 - val_loss: 0.2903 - val_acc: 0.9069\n",
            "Epoch 2/7\n",
            "8399/8399 [==============================] - 138s 16ms/sample - loss: 0.1018 - acc: 0.9623 - val_loss: 0.4053 - val_acc: 0.8779\n",
            "Epoch 3/7\n",
            "8399/8399 [==============================] - 137s 16ms/sample - loss: 0.0927 - acc: 0.9637 - val_loss: 0.3396 - val_acc: 0.9122\n",
            "Epoch 4/7\n",
            "8399/8399 [==============================] - 135s 16ms/sample - loss: 0.0663 - acc: 0.9750 - val_loss: 0.3938 - val_acc: 0.8951\n",
            "Epoch 5/7\n",
            "8399/8399 [==============================] - 135s 16ms/sample - loss: 0.0486 - acc: 0.9826 - val_loss: 0.4299 - val_acc: 0.8908\n",
            "Epoch 6/7\n",
            "8399/8399 [==============================] - 135s 16ms/sample - loss: 0.0592 - acc: 0.9777 - val_loss: 0.4447 - val_acc: 0.9047\n",
            "Epoch 7/7\n",
            "8399/8399 [==============================] - 137s 16ms/sample - loss: 0.0443 - acc: 0.9843 - val_loss: 0.4163 - val_acc: 0.8865\n"
          ],
          "name": "stdout"
        }
      ]
    },
    {
      "cell_type": "code",
      "metadata": {
        "id": "FZJ1xz-p4uZm",
        "colab_type": "code",
        "colab": {}
      },
      "source": [
        "#####################################################################################\n",
        "########################## ANALYZING AND TWEAKING THE MODEL##########################\n",
        "#####################################################################################"
      ],
      "execution_count": 0,
      "outputs": []
    },
    {
      "cell_type": "code",
      "metadata": {
        "id": "woTsMqkwVzdW",
        "colab_type": "code",
        "outputId": "8583e9f8-f3db-46b0-842f-9fdef5e3a5d8",
        "colab": {
          "base_uri": "https://localhost:8080/",
          "height": 295
        }
      },
      "source": [
        "# TRAINING VS VALIDATION LOSS GRAPH\n",
        "plt.plot(history.history['loss'])\n",
        "plt.plot(history.history['val_loss'])\n",
        "plt.title('model train vs validation loss')\n",
        "plt.ylabel('loss')\n",
        "plt.xlabel('epoch')\n",
        "plt.legend(['train', 'validation'], loc='upper right')\n",
        "plt.show()"
      ],
      "execution_count": 36,
      "outputs": [
        {
          "output_type": "display_data",
          "data": {
            "image/png": "[encoded data removed]",
            "text/plain": [
              "<Figure size 432x288 with 1 Axes>"
            ]
          },
          "metadata": {
            "tags": []
          }
        }
      ]
    },
    {
      "cell_type": "code",
      "metadata": {
        "id": "jG0xsiSqXCPj",
        "colab_type": "code",
        "colab": {}
      },
      "source": [
        "predict=rnn_model.predict(test_sequence)"
      ],
      "execution_count": 0,
      "outputs": []
    },
    {
      "cell_type": "code",
      "metadata": {
        "id": "bjudKlULdmZ3",
        "colab_type": "code",
        "colab": {
          "base_uri": "https://localhost:8080/",
          "height": 190
        },
        "outputId": "b60c5154-0be0-4e12-dc90-d308ac9afcdc"
      },
      "source": [
        "# SAVING AND RELOADING THE MODEL \n",
        "from tensorflow.keras.models import load_model\n",
        "rnn_model.save('/content/rnn_model87.h5')\n",
        "loaded_model=load_model('rnn_model87.h5')"
      ],
      "execution_count": 41,
      "outputs": [
        {
          "output_type": "stream",
          "text": [
            "WARNING:tensorflow:From /tensorflow-1.15.0/python3.6/tensorflow_core/python/ops/init_ops.py:97: calling GlorotUniform.__init__ (from tensorflow.python.ops.init_ops) with dtype is deprecated and will be removed in a future version.\n",
            "Instructions for updating:\n",
            "Call initializer instance with the dtype argument instead of passing it to the constructor\n",
            "WARNING:tensorflow:From /tensorflow-1.15.0/python3.6/tensorflow_core/python/ops/init_ops.py:97: calling Orthogonal.__init__ (from tensorflow.python.ops.init_ops) with dtype is deprecated and will be removed in a future version.\n",
            "Instructions for updating:\n",
            "Call initializer instance with the dtype argument instead of passing it to the constructor\n",
            "WARNING:tensorflow:From /tensorflow-1.15.0/python3.6/tensorflow_core/python/ops/init_ops.py:97: calling Zeros.__init__ (from tensorflow.python.ops.init_ops) with dtype is deprecated and will be removed in a future version.\n",
            "Instructions for updating:\n",
            "Call initializer instance with the dtype argument instead of passing it to the constructor\n"
          ],
          "name": "stdout"
        }
      ]
    },
    {
      "cell_type": "code",
      "metadata": {
        "id": "MCYqJI-oa1_x",
        "colab_type": "code",
        "colab": {}
      },
      "source": [
        "predict=[int(x+0.5) for x in predict]"
      ],
      "execution_count": 0,
      "outputs": []
    },
    {
      "cell_type": "code",
      "metadata": {
        "id": "maiQFKudfcwx",
        "colab_type": "code",
        "outputId": "ef539265-4c6e-41b8-8aaa-47334c6d0ad7",
        "colab": {
          "base_uri": "https://localhost:8080/",
          "height": 51
        }
      },
      "source": [
        "# EVLUATING THE ACCURACY\n",
        "accuracy = accuracy_score(y_test, predict)\n",
        "f1=f1_score(y_test,predict)\n",
        "print(\"F1 Score: %.2f%%\" % (f1* 100.0))\n",
        "print(\"Accuracy: %.2f%%\" % (accuracy * 100.0))"
      ],
      "execution_count": 39,
      "outputs": [
        {
          "output_type": "stream",
          "text": [
            "F1 Score: 82.90%\n",
            "Accuracy: 87.67%\n"
          ],
          "name": "stdout"
        }
      ]
    },
    {
      "cell_type": "code",
      "metadata": {
        "id": "Jn5gBqnZfLc1",
        "colab_type": "code",
        "outputId": "bbd22448-4097-4b8c-b8a7-4c0c59358dd7",
        "colab": {
          "base_uri": "https://localhost:8080/",
          "height": 221
        }
      },
      "source": [
        "# ACTUAL TEST DATA------------------->\n",
        "test_data['label']=y_test\n",
        "test_data.head()"
      ],
      "execution_count": 42,
      "outputs": [
        {
          "output_type": "execute_result",
          "data": {
            "text/html": [
              "<div>\n",
              "<style scoped>\n",
              "    .dataframe tbody tr th:only-of-type {\n",
              "        vertical-align: middle;\n",
              "    }\n",
              "\n",
              "    .dataframe tbody tr th {\n",
              "        vertical-align: top;\n",
              "    }\n",
              "\n",
              "    .dataframe thead th {\n",
              "        text-align: right;\n",
              "    }\n",
              "</style>\n",
              "<table border=\"1\" class=\"dataframe\">\n",
              "  <thead>\n",
              "    <tr style=\"text-align: right;\">\n",
              "      <th></th>\n",
              "      <th>id</th>\n",
              "      <th>sentence</th>\n",
              "      <th>label</th>\n",
              "    </tr>\n",
              "  </thead>\n",
              "  <tbody>\n",
              "    <tr>\n",
              "      <th>0</th>\n",
              "      <td>1310_1</td>\n",
              "      <td>I'm not asking Microsoft to Gives permission like Android so any app can take my data, but don't keep it restricted like iPhone.</td>\n",
              "      <td>0</td>\n",
              "    </tr>\n",
              "    <tr>\n",
              "      <th>1</th>\n",
              "      <td>1312_1</td>\n",
              "      <td>somewhere between Android and iPhone.</td>\n",
              "      <td>0</td>\n",
              "    </tr>\n",
              "    <tr>\n",
              "      <th>2</th>\n",
              "      <td>1313_1</td>\n",
              "      <td>And in the Windows Store you can flag the App [Requires Trust] for example.</td>\n",
              "      <td>0</td>\n",
              "    </tr>\n",
              "    <tr>\n",
              "      <th>3</th>\n",
              "      <td>1313_2</td>\n",
              "      <td>Many thanks Sameh Hi, As we know, there is a lot of limitations is WP8 OS due the high security in the OS itself which is very good, but some time we need to allow some apps to do extra works, apps which we trust i.e: hotmail app, facebook app, skype app ....</td>\n",
              "      <td>0</td>\n",
              "    </tr>\n",
              "    <tr>\n",
              "      <th>4</th>\n",
              "      <td>1313_3</td>\n",
              "      <td>The idea is that we can develop a regular app and we request our permissions in the manifest, OR the app can ASK FOR TRUST_�_ more</td>\n",
              "      <td>0</td>\n",
              "    </tr>\n",
              "  </tbody>\n",
              "</table>\n",
              "</div>"
            ],
            "text/plain": [
              "       id  ... label\n",
              "0  1310_1  ...     0\n",
              "1  1312_1  ...     0\n",
              "2  1313_1  ...     0\n",
              "3  1313_2  ...     0\n",
              "4  1313_3  ...     0\n",
              "\n",
              "[5 rows x 3 columns]"
            ]
          },
          "metadata": {
            "tags": []
          },
          "execution_count": 42
        }
      ]
    },
    {
      "cell_type": "code",
      "metadata": {
        "id": "0JocqAnwm9b_",
        "colab_type": "code",
        "outputId": "fe4d865f-5a36-4d1f-9230-246a89b0d825",
        "colab": {
          "base_uri": "https://localhost:8080/",
          "height": 221
        }
      },
      "source": [
        "# PREDICTIED TEST DATA------------------->\n",
        "test_data['label']=predict\n",
        "test_data.head()"
      ],
      "execution_count": 43,
      "outputs": [
        {
          "output_type": "execute_result",
          "data": {
            "text/html": [
              "<div>\n",
              "<style scoped>\n",
              "    .dataframe tbody tr th:only-of-type {\n",
              "        vertical-align: middle;\n",
              "    }\n",
              "\n",
              "    .dataframe tbody tr th {\n",
              "        vertical-align: top;\n",
              "    }\n",
              "\n",
              "    .dataframe thead th {\n",
              "        text-align: right;\n",
              "    }\n",
              "</style>\n",
              "<table border=\"1\" class=\"dataframe\">\n",
              "  <thead>\n",
              "    <tr style=\"text-align: right;\">\n",
              "      <th></th>\n",
              "      <th>id</th>\n",
              "      <th>sentence</th>\n",
              "      <th>label</th>\n",
              "    </tr>\n",
              "  </thead>\n",
              "  <tbody>\n",
              "    <tr>\n",
              "      <th>0</th>\n",
              "      <td>1310_1</td>\n",
              "      <td>I'm not asking Microsoft to Gives permission like Android so any app can take my data, but don't keep it restricted like iPhone.</td>\n",
              "      <td>0</td>\n",
              "    </tr>\n",
              "    <tr>\n",
              "      <th>1</th>\n",
              "      <td>1312_1</td>\n",
              "      <td>somewhere between Android and iPhone.</td>\n",
              "      <td>0</td>\n",
              "    </tr>\n",
              "    <tr>\n",
              "      <th>2</th>\n",
              "      <td>1313_1</td>\n",
              "      <td>And in the Windows Store you can flag the App [Requires Trust] for example.</td>\n",
              "      <td>1</td>\n",
              "    </tr>\n",
              "    <tr>\n",
              "      <th>3</th>\n",
              "      <td>1313_2</td>\n",
              "      <td>Many thanks Sameh Hi, As we know, there is a lot of limitations is WP8 OS due the high security in the OS itself which is very good, but some time we need to allow some apps to do extra works, apps which we trust i.e: hotmail app, facebook app, skype app ....</td>\n",
              "      <td>0</td>\n",
              "    </tr>\n",
              "    <tr>\n",
              "      <th>4</th>\n",
              "      <td>1313_3</td>\n",
              "      <td>The idea is that we can develop a regular app and we request our permissions in the manifest, OR the app can ASK FOR TRUST_�_ more</td>\n",
              "      <td>0</td>\n",
              "    </tr>\n",
              "  </tbody>\n",
              "</table>\n",
              "</div>"
            ],
            "text/plain": [
              "       id  ... label\n",
              "0  1310_1  ...     0\n",
              "1  1312_1  ...     0\n",
              "2  1313_1  ...     1\n",
              "3  1313_2  ...     0\n",
              "4  1313_3  ...     0\n",
              "\n",
              "[5 rows x 3 columns]"
            ]
          },
          "metadata": {
            "tags": []
          },
          "execution_count": 43
        }
      ]
    },
    {
      "cell_type": "code",
      "metadata": {
        "id": "c9eMHQMLnEQn",
        "colab_type": "code",
        "colab": {}
      },
      "source": [
        "# FINAL SUBMISSION\n",
        "test_data.to_csv('/submission.csv')"
      ],
      "execution_count": 0,
      "outputs": []
    }
  ]
}