{
  "nbformat": 4,
  "nbformat_minor": 0,
  "metadata": {
    "colab": {
      "name": "RnnClassifier.ipynb",
      "provenance": [],
      "collapsed_sections": []
    },
    "kernelspec": {
      "name": "python3",
      "display_name": "Python 3"
    }
  },
  "cells": [
    {
      "cell_type": "code",
      "metadata": {
        "id": "OKMeOU2X-Ud7",
        "colab_type": "code",
        "colab": {}
      },
      "source": [
        "import pandas as pd\n",
        "\n",
        "# LIBRARIES FOR THE RNN CLASSIFIER\n",
        "from tensorflow.keras.preprocessing import sequence\n",
        "from tensorflow.keras.models import Model\n",
        "from tensorflow.keras.layers import Input, Embedding, Dense, Dropout, LSTM\n",
        "from tensorflow.keras.preprocessing.text import Tokenizer\n",
        "\n",
        "# FOR THE GOOGLE WORD TO VECTOR WEIGHTS\n",
        "import gensim\n",
        "\n",
        "# FOR EVALUATION METRICS OF THE PREDICTIONS\n",
        "from sklearn.metrics import accuracy_score,f1_score\n",
        "\n",
        "# FOR PLOTTING GRAPHS\n",
        "import matplotlib.pyplot as plt\n",
        "pd.set_option('display.max_colwidth',300)"
      ],
      "execution_count": 0,
      "outputs": []
    },
    {
      "cell_type": "code",
      "metadata": {
        "id": "ig2CNOKJ-enl",
        "colab_type": "code",
        "colab": {}
      },
      "source": [
        "# IMPORTING THE DATASET\n",
        "train_data=pd.read_csv(\"./TrainingData.csv\")\n",
        "test_data=pd.read_csv(\"./SubtaskA_Trial_Test_Labeled.csv\")\n",
        "valid_data=pd.read_csv(\"./SubtaskA_EvaluationData_labeled.csv\")"
      ],
      "execution_count": 0,
      "outputs": []
    },
    {
      "cell_type": "code",
      "metadata": {
        "id": "8vw8hWeLDx_q",
        "colab_type": "code",
        "colab": {}
      },
      "source": [
        "# FUNCTION TO CLEAN A GIVEN DATASET \n",
        "def cleanData(data):\n",
        "  \n",
        "  import nltk\n",
        "  from nltk.corpus import stopwords\n",
        "  from nltk.stem.porter import PorterStemmer\n",
        "  nltk.download('stopwords')\n",
        "  \n",
        "  # CACHING THE STOP WORDS HELPS IN FASTENING \n",
        "  # THE REMOVAL OF THE STOP WORDS\n",
        "  cachedStopWords = stopwords.words(\"english\")\n",
        "  \n",
        "  # REMOVING THE SPECIAL CHARACTERS\n",
        "  print('Removed Special Characters')\n",
        "  data=data.str.replace(\"[^a-zA-Z#]\",\" \")\n",
        "  print(data.head())\n",
        "\n",
        "  # TOKENIZING THE DATASET SENTENCES\n",
        "  tokenized=data.apply(lambda x: x.split())\n",
        "\n",
        "  # REMOVING THE STOP WORDS\n",
        "  print('Removing Stop Words')\n",
        "  # BY REMOVING THE STOP WORDS FROM NLTK, BUT IT MIGHT\n",
        "  # REMOVES OTHER IMPORTANT WORDS SUCH AS 'CAN' WHICH MIGHT BE\n",
        "  # USEFUL FOR SUGGESSTION MINING\n",
        "  # tokenized = tokenized.apply(\n",
        "  #   lambda sentence: [word for word in sentence if word not in cachedStopWords]\n",
        "  # )\n",
        "  # REMOVING SHORTWORDS (ALMOST ALL ARE STOPWORDS) \n",
        "  tokenized = tokenized.apply(\n",
        "    lambda sentence: [word for word in sentence if len(word)>2 ]\n",
        "  )\n",
        "  print(tokenized.head())\n",
        "\n",
        "  # LOWERING THE SENTENCE CASE SO THAT 'Which' and 'Which' BECOMES THE SAME\n",
        "  print('Normalizing Sentence Case')\n",
        "  tokenized = tokenized.apply(\n",
        "    lambda sentence: [word.lower() for word in sentence]\n",
        "  )\n",
        "  print(tokenized.head())\n",
        "\n",
        "  # CHANGING DIFFERNT WORD FORMS TO ONE\n",
        "  print('After Stemming')\n",
        "  stemmer =  PorterStemmer()\n",
        "  tokenized = tokenized.apply(lambda x: [stemmer.stem(i) for i in x] )\n",
        "  print(tokenized.head())\n",
        "\n",
        "  # DETOKENIZING THE TOKENS BACK TO THE SENTENCES\n",
        "  detokenized= tokenized.apply(lambda x: ' '.join(x))\n",
        "  return detokenized"
      ],
      "execution_count": 0,
      "outputs": []
    },
    {
      "cell_type": "code",
      "metadata": {
        "id": "zUyJQ8VpEXzp",
        "colab_type": "code",
        "outputId": "14145bb2-11e7-443d-e869-4116140a327a",
        "colab": {
          "base_uri": "https://localhost:8080/",
          "height": 547
        }
      },
      "source": [
        "# CLEANING THE TRAINING DATA\n",
        "x_train = cleanData(train_data['sentence'])"
      ],
      "execution_count": 95,
      "outputs": [
        {
          "output_type": "stream",
          "text": [
            "[nltk_data] Downloading package stopwords to /root/nltk_data...\n",
            "[nltk_data]   Package stopwords is already up-to-date!\n",
            "Removed Special Characters\n",
            "0                   Please enable removing language code from the Dev Center  language history  For example if you ever selected  ru  and  ru ru  laguages and you published this xap to the Store then it causes Tile localization to show the en us default  tile localization which is bad  \n",
            "1     Note  in your  csproj file  there is a SupportedCultures entry like this   SupportedCultures de DE ru ru RU   SupportedCultures  When I removed the  ru  language code and published my new xap version  the old xap version still remains in the Store with  Replaced and unpublished   \n",
            "2                                                                                                                                                                                   Wich means the new version not fully replaced the old version and this causes me very serious problems     \n",
            "3                                                                                                                                                                                                                           Some of my users will still receive the old xap version of my app  \n",
            "4                                                                                                                                                                                                                       The store randomly gives the old xap or the new xap version of my app  \n",
            "Name: sentence, dtype: object\n",
            "Removing Stop Words\n",
            "0     [Please, enable, removing, language, code, from, the, Dev, Center, language, history, For, example, you, ever, selected, and, laguages, and, you, published, this, xap, the, Store, then, causes, Tile, localization, show, the, default, tile, localization, which, bad]\n",
            "1    [Note, your, csproj, file, there, SupportedCultures, entry, like, this, SupportedCultures, SupportedCultures, When, removed, the, language, code, and, published, new, xap, version, the, old, xap, version, still, remains, the, Store, with, Replaced, and, unpublished]\n",
            "2                                                                                                                                                         [Wich, means, the, new, version, not, fully, replaced, the, old, version, and, this, causes, very, serious, problems]\n",
            "3                                                                                                                                                                                                              [Some, users, will, still, receive, the, old, xap, version, app]\n",
            "4                                                                                                                                                                                                     [The, store, randomly, gives, the, old, xap, the, new, xap, version, app]\n",
            "Name: sentence, dtype: object\n",
            "Normalizing Sentence Case\n",
            "0     [please, enable, removing, language, code, from, the, dev, center, language, history, for, example, you, ever, selected, and, laguages, and, you, published, this, xap, the, store, then, causes, tile, localization, show, the, default, tile, localization, which, bad]\n",
            "1    [note, your, csproj, file, there, supportedcultures, entry, like, this, supportedcultures, supportedcultures, when, removed, the, language, code, and, published, new, xap, version, the, old, xap, version, still, remains, the, store, with, replaced, and, unpublished]\n",
            "2                                                                                                                                                         [wich, means, the, new, version, not, fully, replaced, the, old, version, and, this, causes, very, serious, problems]\n",
            "3                                                                                                                                                                                                              [some, users, will, still, receive, the, old, xap, version, app]\n",
            "4                                                                                                                                                                                                     [the, store, randomly, gives, the, old, xap, the, new, xap, version, app]\n",
            "Name: sentence, dtype: object\n",
            "After Stemming\n",
            "0                   [pleas, enabl, remov, languag, code, from, the, dev, center, languag, histori, for, exampl, you, ever, select, and, laguag, and, you, publish, thi, xap, the, store, then, caus, tile, local, show, the, default, tile, local, which, bad]\n",
            "1    [note, your, csproj, file, there, supportedcultur, entri, like, thi, supportedcultur, supportedcultur, when, remov, the, languag, code, and, publish, new, xap, version, the, old, xap, version, still, remain, the, store, with, replac, and, unpublish]\n",
            "2                                                                                                                                                [wich, mean, the, new, version, not, fulli, replac, the, old, version, and, thi, caus, veri, seriou, problem]\n",
            "3                                                                                                                                                                                               [some, user, will, still, receiv, the, old, xap, version, app]\n",
            "4                                                                                                                                                                                     [the, store, randomli, give, the, old, xap, the, new, xap, version, app]\n",
            "Name: sentence, dtype: object\n"
          ],
          "name": "stdout"
        }
      ]
    },
    {
      "cell_type": "code",
      "metadata": {
        "id": "Z_jkOsQWEjPO",
        "colab_type": "code",
        "outputId": "f9c43464-1b99-49fe-c629-85c98cc311b6",
        "colab": {
          "base_uri": "https://localhost:8080/",
          "height": 547
        }
      },
      "source": [
        "# CLEANING THE TESTING DATA\n",
        "x_test = cleanData(test_data['sentence'])"
      ],
      "execution_count": 96,
      "outputs": [
        {
          "output_type": "stream",
          "text": [
            "[nltk_data] Downloading package stopwords to /root/nltk_data...\n",
            "[nltk_data]   Package stopwords is already up-to-date!\n",
            "Removed Special Characters\n",
            "0                                                                                                                                       I m not asking Microsoft to Gives permission like Android so any app can take my data  but don t keep it restricted like iPhone \n",
            "1                                                                                                                                                                                                                                  somewhere between Android and iPhone \n",
            "2                                                                                                                                                                                            And in the Windows Store you can flag the App  Requires Trust  for example \n",
            "3    Many thanks Sameh Hi  As we know  there is a lot of limitations is WP  OS due the high security in the OS itself which is very good  but some time we need to allow some apps to do extra works  apps which we trust i e  hotmail app  facebook app  skype app     \n",
            "4                                                                                                                                     The idea is that we can develop a regular app and we request our permissions in the manifest  OR the app can ASK FOR TRUST    more\n",
            "Name: sentence, dtype: object\n",
            "Removing Stop Words\n",
            "0                                                                                                        [not, asking, Microsoft, Gives, permission, like, Android, any, app, can, take, data, but, don, keep, restricted, like, iPhone]\n",
            "1                                                                                                                                                                                             [somewhere, between, Android, and, iPhone]\n",
            "2                                                                                                                                                    [And, the, Windows, Store, you, can, flag, the, App, Requires, Trust, for, example]\n",
            "3    [Many, thanks, Sameh, know, there, lot, limitations, due, the, high, security, the, itself, which, very, good, but, some, time, need, allow, some, apps, extra, works, apps, which, trust, hotmail, app, facebook, app, skype, app]\n",
            "4                                                                                                     [The, idea, that, can, develop, regular, app, and, request, our, permissions, the, manifest, the, app, can, ASK, FOR, TRUST, more]\n",
            "Name: sentence, dtype: object\n",
            "Normalizing Sentence Case\n",
            "0                                                                                                        [not, asking, microsoft, gives, permission, like, android, any, app, can, take, data, but, don, keep, restricted, like, iphone]\n",
            "1                                                                                                                                                                                             [somewhere, between, android, and, iphone]\n",
            "2                                                                                                                                                    [and, the, windows, store, you, can, flag, the, app, requires, trust, for, example]\n",
            "3    [many, thanks, sameh, know, there, lot, limitations, due, the, high, security, the, itself, which, very, good, but, some, time, need, allow, some, apps, extra, works, apps, which, trust, hotmail, app, facebook, app, skype, app]\n",
            "4                                                                                                     [the, idea, that, can, develop, regular, app, and, request, our, permissions, the, manifest, the, app, can, ask, for, trust, more]\n",
            "Name: sentence, dtype: object\n",
            "After Stemming\n",
            "0                                                                                                     [not, ask, microsoft, give, permiss, like, android, ani, app, can, take, data, but, don, keep, restrict, like, iphon]\n",
            "1                                                                                                                                                                                  [somewher, between, android, and, iphon]\n",
            "2                                                                                                                                           [and, the, window, store, you, can, flag, the, app, requir, trust, for, exampl]\n",
            "3    [mani, thank, sameh, know, there, lot, limit, due, the, high, secur, the, itself, which, veri, good, but, some, time, need, allow, some, app, extra, work, app, which, trust, hotmail, app, facebook, app, skype, app]\n",
            "4                                                                                            [the, idea, that, can, develop, regular, app, and, request, our, permiss, the, manifest, the, app, can, ask, for, trust, more]\n",
            "Name: sentence, dtype: object\n"
          ],
          "name": "stdout"
        }
      ]
    },
    {
      "cell_type": "code",
      "metadata": {
        "id": "alaIsRmbEl7k",
        "colab_type": "code",
        "outputId": "94010d10-2a82-4fad-f9c8-5634ffe0a769",
        "colab": {
          "base_uri": "https://localhost:8080/",
          "height": 547
        }
      },
      "source": [
        "# CLEANING THE VALIDATION DATA\n",
        "x_valid = cleanData(valid_data['sentence'])"
      ],
      "execution_count": 97,
      "outputs": [
        {
          "output_type": "stream",
          "text": [
            "[nltk_data] Downloading package stopwords to /root/nltk_data...\n",
            "[nltk_data]   Package stopwords is already up-to-date!\n",
            "Removed Special Characters\n",
            "0                                                                                                                                                        This would enable live traffic aware apps \n",
            "1                                                                                                Please try other formatting like bold italics shadow to distinguish titles subtitles from content \n",
            "2    Since computers were invented to save time I suggest we be allowed to upload them all in one zip file   using numbering for the file names and the portal could place them in the right order \n",
            "3                                                                                                                                               Allow rearranging if the user wants to change them \n",
            "4                                                                                                                 Add SIMD instructions for better use of ARM NEON instructions for math and games \n",
            "Name: sentence, dtype: object\n",
            "Removing Stop Words\n",
            "0                                                                                                                                                        [This, would, enable, live, traffic, aware, apps]\n",
            "1                                                                                             [Please, try, other, formatting, like, bold, italics, shadow, distinguish, titles, subtitles, from, content]\n",
            "2    [Since, computers, were, invented, save, time, suggest, allowed, upload, them, all, one, zip, file, using, numbering, for, the, file, names, and, the, portal, could, place, them, the, right, order]\n",
            "3                                                                                                                                                     [Allow, rearranging, the, user, wants, change, them]\n",
            "4                                                                                                              [Add, SIMD, instructions, for, better, use, ARM, NEON, instructions, for, math, and, games]\n",
            "Name: sentence, dtype: object\n",
            "Normalizing Sentence Case\n",
            "0                                                                                                                                                        [this, would, enable, live, traffic, aware, apps]\n",
            "1                                                                                             [please, try, other, formatting, like, bold, italics, shadow, distinguish, titles, subtitles, from, content]\n",
            "2    [since, computers, were, invented, save, time, suggest, allowed, upload, them, all, one, zip, file, using, numbering, for, the, file, names, and, the, portal, could, place, them, the, right, order]\n",
            "3                                                                                                                                                     [allow, rearranging, the, user, wants, change, them]\n",
            "4                                                                                                              [add, simd, instructions, for, better, use, arm, neon, instructions, for, math, and, games]\n",
            "Name: sentence, dtype: object\n",
            "After Stemming\n",
            "0                                                                                                                                              [thi, would, enabl, live, traffic, awar, app]\n",
            "1                                                                                           [pleas, tri, other, format, like, bold, ital, shadow, distinguish, titl, subtitl, from, content]\n",
            "2    [sinc, comput, were, invent, save, time, suggest, allow, upload, them, all, one, zip, file, use, number, for, the, file, name, and, the, portal, could, place, them, the, right, order]\n",
            "3                                                                                                                                            [allow, rearrang, the, user, want, chang, them]\n",
            "4                                                                                                         [add, simd, instruct, for, better, use, arm, neon, instruct, for, math, and, game]\n",
            "Name: sentence, dtype: object\n"
          ],
          "name": "stdout"
        }
      ]
    },
    {
      "cell_type": "code",
      "metadata": {
        "id": "un3TavwR-v7C",
        "colab_type": "code",
        "outputId": "a891bb44-e368-454f-f8ef-07329addab26",
        "colab": {
          "base_uri": "https://localhost:8080/",
          "height": 51
        }
      },
      "source": [
        "y_train=train_data['label']\n",
        "y_valid=valid_data['label']\n",
        "y_test=test_data['label']\n",
        "\n",
        "# MERGING THE TRAINING AND VALIDATION DATA\n",
        "# ELSE VALIDATION AND TESTING DATA WILL HAVE DIFFERNET EMBEDDING MATRIX\n",
        "x_train=x_train.append(x_valid)\n",
        "y_train=y_train.append(y_valid)\n",
        "\n",
        "print('train', x_train.shape,y_train.shape)\n",
        "print('test', x_test.shape,y_test.shape)"
      ],
      "execution_count": 98,
      "outputs": [
        {
          "output_type": "stream",
          "text": [
            "train (9333,) (9333,)\n",
            "test (592,) (592,)\n"
          ],
          "name": "stdout"
        }
      ]
    },
    {
      "cell_type": "code",
      "metadata": {
        "id": "MsOKQY__-68_",
        "colab_type": "code",
        "outputId": "922cd066-351b-4d44-8c2f-fe2cc92fa1ae",
        "colab": {
          "base_uri": "https://localhost:8080/",
          "height": 238
        }
      },
      "source": [
        "train_data.head()"
      ],
      "execution_count": 99,
      "outputs": [
        {
          "output_type": "execute_result",
          "data": {
            "text/html": [
              "<div>\n",
              "<style scoped>\n",
              "    .dataframe tbody tr th:only-of-type {\n",
              "        vertical-align: middle;\n",
              "    }\n",
              "\n",
              "    .dataframe tbody tr th {\n",
              "        vertical-align: top;\n",
              "    }\n",
              "\n",
              "    .dataframe thead th {\n",
              "        text-align: right;\n",
              "    }\n",
              "</style>\n",
              "<table border=\"1\" class=\"dataframe\">\n",
              "  <thead>\n",
              "    <tr style=\"text-align: right;\">\n",
              "      <th></th>\n",
              "      <th>id</th>\n",
              "      <th>sentence</th>\n",
              "      <th>label</th>\n",
              "    </tr>\n",
              "  </thead>\n",
              "  <tbody>\n",
              "    <tr>\n",
              "      <th>0</th>\n",
              "      <td>663_3</td>\n",
              "      <td>\"Please enable removing language code from the Dev Center \"language history\" For example if you ever selected \"ru\" and \"ru-ru\" laguages and you published this xap to the Store then it causes Tile localization to show the en-us(default) tile localization which is bad.\"</td>\n",
              "      <td>1</td>\n",
              "    </tr>\n",
              "    <tr>\n",
              "      <th>1</th>\n",
              "      <td>663_4</td>\n",
              "      <td>\"Note: in your .csproj file, there is a SupportedCultures entry like this: &lt;SupportedCultures&gt;de-DE;ru;ru-RU &lt;/SupportedCultures&gt; When I removed the \"ru\" language code and published my new xap version, the old xap version still remains in the Store with \"Replaced and unpublished\".\"</td>\n",
              "      <td>0</td>\n",
              "    </tr>\n",
              "    <tr>\n",
              "      <th>2</th>\n",
              "      <td>664_1</td>\n",
              "      <td>\"Wich means the new version not fully replaced the old version and this causes me very serious problems: 1.\"</td>\n",
              "      <td>0</td>\n",
              "    </tr>\n",
              "    <tr>\n",
              "      <th>3</th>\n",
              "      <td>664_2</td>\n",
              "      <td>\"Some of my users will still receive the old xap version of my app.\"</td>\n",
              "      <td>0</td>\n",
              "    </tr>\n",
              "    <tr>\n",
              "      <th>4</th>\n",
              "      <td>664_3</td>\n",
              "      <td>\"The store randomly gives the old xap or the new xap version of my app.\"</td>\n",
              "      <td>0</td>\n",
              "    </tr>\n",
              "  </tbody>\n",
              "</table>\n",
              "</div>"
            ],
            "text/plain": [
              "      id  ... label\n",
              "0  663_3  ...     1\n",
              "1  663_4  ...     0\n",
              "2  664_1  ...     0\n",
              "3  664_2  ...     0\n",
              "4  664_3  ...     0\n",
              "\n",
              "[5 rows x 3 columns]"
            ]
          },
          "metadata": {
            "tags": []
          },
          "execution_count": 99
        }
      ]
    },
    {
      "cell_type": "code",
      "metadata": {
        "id": "Uy1HU7rfDL9Z",
        "colab_type": "code",
        "outputId": "70eb90bb-0dd6-4beb-ba6d-2893779528f8",
        "colab": {
          "base_uri": "https://localhost:8080/",
          "height": 343
        }
      },
      "source": [
        "print(x_test.head())\n",
        "test_data.head()"
      ],
      "execution_count": 100,
      "outputs": [
        {
          "output_type": "stream",
          "text": [
            "0                                                                                     not ask microsoft give permiss like android ani app can take data but don keep restrict like iphon\n",
            "1                                                                                                                                                     somewher between android and iphon\n",
            "2                                                                                                                      and the window store you can flag the app requir trust for exampl\n",
            "3    mani thank sameh know there lot limit due the high secur the itself which veri good but some time need allow some app extra work app which trust hotmail app facebook app skype app\n",
            "4                                                                              the idea that can develop regular app and request our permiss the manifest the app can ask for trust more\n",
            "Name: sentence, dtype: object\n"
          ],
          "name": "stdout"
        },
        {
          "output_type": "execute_result",
          "data": {
            "text/html": [
              "<div>\n",
              "<style scoped>\n",
              "    .dataframe tbody tr th:only-of-type {\n",
              "        vertical-align: middle;\n",
              "    }\n",
              "\n",
              "    .dataframe tbody tr th {\n",
              "        vertical-align: top;\n",
              "    }\n",
              "\n",
              "    .dataframe thead th {\n",
              "        text-align: right;\n",
              "    }\n",
              "</style>\n",
              "<table border=\"1\" class=\"dataframe\">\n",
              "  <thead>\n",
              "    <tr style=\"text-align: right;\">\n",
              "      <th></th>\n",
              "      <th>id</th>\n",
              "      <th>sentence</th>\n",
              "      <th>label</th>\n",
              "    </tr>\n",
              "  </thead>\n",
              "  <tbody>\n",
              "    <tr>\n",
              "      <th>0</th>\n",
              "      <td>1310_1</td>\n",
              "      <td>I'm not asking Microsoft to Gives permission like Android so any app can take my data, but don't keep it restricted like iPhone.</td>\n",
              "      <td>1</td>\n",
              "    </tr>\n",
              "    <tr>\n",
              "      <th>1</th>\n",
              "      <td>1312_1</td>\n",
              "      <td>somewhere between Android and iPhone.</td>\n",
              "      <td>0</td>\n",
              "    </tr>\n",
              "    <tr>\n",
              "      <th>2</th>\n",
              "      <td>1313_1</td>\n",
              "      <td>And in the Windows Store you can flag the App [Requires Trust] for example.</td>\n",
              "      <td>0</td>\n",
              "    </tr>\n",
              "    <tr>\n",
              "      <th>3</th>\n",
              "      <td>1313_2</td>\n",
              "      <td>Many thanks Sameh Hi, As we know, there is a lot of limitations is WP8 OS due the high security in the OS itself which is very good, but some time we need to allow some apps to do extra works, apps which we trust i.e: hotmail app, facebook app, skype app ....</td>\n",
              "      <td>0</td>\n",
              "    </tr>\n",
              "    <tr>\n",
              "      <th>4</th>\n",
              "      <td>1313_3</td>\n",
              "      <td>The idea is that we can develop a regular app and we request our permissions in the manifest, OR the app can ASK FOR TRUST_�_ more</td>\n",
              "      <td>1</td>\n",
              "    </tr>\n",
              "  </tbody>\n",
              "</table>\n",
              "</div>"
            ],
            "text/plain": [
              "       id  ... label\n",
              "0  1310_1  ...     1\n",
              "1  1312_1  ...     0\n",
              "2  1313_1  ...     0\n",
              "3  1313_2  ...     0\n",
              "4  1313_3  ...     1\n",
              "\n",
              "[5 rows x 3 columns]"
            ]
          },
          "metadata": {
            "tags": []
          },
          "execution_count": 100
        }
      ]
    },
    {
      "cell_type": "code",
      "metadata": {
        "id": "IIlvtfiWlqxU",
        "colab_type": "code",
        "colab": {}
      },
      "source": [
        ""
      ],
      "execution_count": 0,
      "outputs": []
    },
    {
      "cell_type": "code",
      "metadata": {
        "id": "1BBeKVyNluIy",
        "colab_type": "code",
        "colab": {}
      },
      "source": [
        ""
      ],
      "execution_count": 0,
      "outputs": []
    },
    {
      "cell_type": "code",
      "metadata": {
        "id": "EsVxpbyiltUt",
        "colab_type": "code",
        "colab": {}
      },
      "source": [
        ""
      ],
      "execution_count": 0,
      "outputs": []
    },
    {
      "cell_type": "code",
      "metadata": {
        "id": "er3Vt_lHltA4",
        "colab_type": "code",
        "colab": {}
      },
      "source": [
        ""
      ],
      "execution_count": 0,
      "outputs": []
    },
    {
      "cell_type": "code",
      "metadata": {
        "id": "OBbiObEblst3",
        "colab_type": "code",
        "colab": {}
      },
      "source": [
        ""
      ],
      "execution_count": 0,
      "outputs": []
    },
    {
      "cell_type": "code",
      "metadata": {
        "id": "EFASdZoAFN0z",
        "colab_type": "code",
        "colab": {
          "base_uri": "https://localhost:8080/",
          "height": 51
        },
        "outputId": "bf52d245-55ae-45c9-f044-c38c0d521cb4"
      },
      "source": [
        "# BUILDING VOCABULARY FROM THE SENTENCES\n",
        "# THIS WILL HELP IN GETTING THE INPUT SEQUENCES FOR THE \n",
        "mxlen=0\n",
        "tokenized=x_train.apply(lambda x: x.split())\n",
        "for tokens in tokenized:\n",
        "  mxlen=max(mxlen,len(tokens))\n",
        "print('MAX LEN', mxlen)"
      ],
      "execution_count": 208,
      "outputs": [
        {
          "output_type": "stream",
          "text": [
            "MAX LEN 184\n",
            "VOCAB SIZE 6493\n"
          ],
          "name": "stdout"
        }
      ]
    },
    {
      "cell_type": "code",
      "metadata": {
        "id": "-iWYWuJ-l7ej",
        "colab_type": "code",
        "colab": {}
      },
      "source": [
        "all_words= [ word for tokens in tokenized for word in tokens]\n",
        "vocab = sorted(list(set(all_words)))\n",
        "vocab_train_len=len(vocab)\n",
        "\n",
        "print('VOCAB SIZE',len(vocab))"
      ],
      "execution_count": 0,
      "outputs": []
    },
    {
      "cell_type": "code",
      "metadata": {
        "id": "1oBn5HGcNF5B",
        "colab_type": "code",
        "colab": {}
      },
      "source": [
        "MXSEQLEN=80\n",
        "EMBEDDING_DIM = 300"
      ],
      "execution_count": 0,
      "outputs": []
    },
    {
      "cell_type": "code",
      "metadata": {
        "id": "2HYZTn88Jtbn",
        "colab_type": "code",
        "colab": {
          "base_uri": "https://localhost:8080/",
          "height": 34
        },
        "outputId": "2a44f828-8a20-4872-c0af-c9b0643bcf6b"
      },
      "source": [
        "# BUILDING TOKENIZER FROM THE TRAINING DATA\n",
        "# SAME TOKENIZER WILL BE USED IN THE TESTING AND VALIDATIONS\n",
        "tokenizer = Tokenizer(num_words=vocab_train_len, lower=True, char_level=False)\n",
        "tokenizer.fit_on_texts(x_train.tolist())\n",
        "print('Found %s unique tokens.' % len(tokenizer.word_index))"
      ],
      "execution_count": 213,
      "outputs": [
        {
          "output_type": "stream",
          "text": [
            "Found 6483 unique tokens.\n"
          ],
          "name": "stdout"
        }
      ]
    },
    {
      "cell_type": "code",
      "metadata": {
        "id": "hlC7qxhQi6Xi",
        "colab_type": "code",
        "colab": {
          "base_uri": "https://localhost:8080/",
          "height": 136
        },
        "outputId": "4ac4ec6b-7798-4d28-9ebc-6bc482c49e81"
      },
      "source": [
        "# form the sequences that will be the input to the network\n",
        "# padd or remove values to make sequences of equal length\n",
        "train_sequence = tokenizer.texts_to_sequences(x_train.tolist())\n",
        "train_sequence = sequence.pad_sequences(train_sequence, maxlen=MXSEQLEN)\n",
        "print(train_sequence)"
      ],
      "execution_count": 214,
      "outputs": [
        {
          "output_type": "stream",
          "text": [
            "[[   0    0    0 ...  250   34  502]\n",
            " [   0    0    0 ...  614    2 1917]\n",
            " [   0    0    0 ...   89  978   93]\n",
            " ...\n",
            " [   0    0    0 ...   89   89  904]\n",
            " [   0    0    0 ...  490   71   91]\n",
            " [   0    0    0 ...   63  210  190]]\n"
          ],
          "name": "stdout"
        }
      ]
    },
    {
      "cell_type": "code",
      "metadata": {
        "id": "KEERS3TojALz",
        "colab_type": "code",
        "colab": {
          "base_uri": "https://localhost:8080/",
          "height": 136
        },
        "outputId": "5d7024dc-be86-4d5b-f7e1-f2f463bfd1ee"
      },
      "source": [
        "# TEST SEQUENCE BUILT FROM THE SAME TRAINING VOCABULARY\n",
        "test_sequence = tokenizer.texts_to_sequences(x_test.tolist())\n",
        "test_sequence = sequence.pad_sequences(test_sequence, maxlen=MXSEQLEN)\n",
        "print(test_sequence)"
      ],
      "execution_count": 217,
      "outputs": [
        {
          "output_type": "stream",
          "text": [
            "[[  0   0   0 ... 644  16 665]\n",
            " [  0   0   0 ... 152   2 665]\n",
            " [  0   0   0 ... 850   4  90]\n",
            " ...\n",
            " [  0   0   0 ... 339   4 206]\n",
            " [  0   0   0 ...   1 310 215]\n",
            " [  0   0   0 ... 193   1 415]]\n"
          ],
          "name": "stdout"
        }
      ]
    },
    {
      "cell_type": "code",
      "metadata": {
        "colab_type": "code",
        "outputId": "67142184-1ccb-43aa-8522-edcb6372e0c9",
        "id": "mvo0AHTlPxO6",
        "colab": {
          "base_uri": "https://localhost:8080/",
          "height": 204
        }
      },
      "source": [
        "# DOWNLOADING THE PRETRAINED GOOGLE NEWS WORD TO VECTOR REPRESENTATIONS\n",
        "!wget -P /content/ -c \"https://s3.amazonaws.com/dl4j-distribution/GoogleNews-vectors-negative300.bin.gz\"\n",
        "!gzip -d /content/GoogleNews-vectors-negative300.bin.gz "
      ],
      "execution_count": 0,
      "outputs": [
        {
          "output_type": "stream",
          "text": [
            "--2020-03-24 20:05:48--  https://s3.amazonaws.com/dl4j-distribution/GoogleNews-vectors-negative300.bin.gz\n",
            "Resolving s3.amazonaws.com (s3.amazonaws.com)... 52.216.128.237\n",
            "Connecting to s3.amazonaws.com (s3.amazonaws.com)|52.216.128.237|:443... connected.\n",
            "HTTP request sent, awaiting response... 200 OK\n",
            "Length: 1647046227 (1.5G) [application/x-gzip]\n",
            "Saving to: ‘/content/GoogleNews-vectors-negative300.bin.gz’\n",
            "\n",
            "GoogleNews-vectors- 100%[===================>]   1.53G  84.9MB/s    in 17s     \n",
            "\n",
            "2020-03-24 20:06:05 (93.0 MB/s) - ‘/content/GoogleNews-vectors-negative300.bin.gz’ saved [1647046227/1647046227]\n",
            "\n"
          ],
          "name": "stdout"
        }
      ]
    },
    {
      "cell_type": "code",
      "metadata": {
        "id": "u626Qo03P-I4",
        "colab_type": "code",
        "colab": {
          "base_uri": "https://localhost:8080/",
          "height": 71
        },
        "outputId": "d1ba35f8-ed79-45fc-ae3e-2565428b68ba"
      },
      "source": [
        "# LOADING WORD TO VECTOR\n",
        "word2vec = gensim.models.KeyedVectors.load_word2vec_format('/content/GoogleNews-vectors-negative300.bin', binary=True)"
      ],
      "execution_count": 123,
      "outputs": [
        {
          "output_type": "stream",
          "text": [
            "/usr/local/lib/python3.6/dist-packages/smart_open/smart_open_lib.py:410: UserWarning: This function is deprecated, use smart_open.open instead. See the migration notes for details: https://github.com/RaRe-Technologies/smart_open/blob/master/README.rst#migrating-to-the-new-open-function\n",
            "  'See the migration notes for details: %s' % _MIGRATION_NOTES_URL\n"
          ],
          "name": "stderr"
        }
      ]
    },
    {
      "cell_type": "code",
      "metadata": {
        "id": "5CR8l8q8PH4g",
        "colab_type": "code",
        "colab": {
          "base_uri": "https://localhost:8080/",
          "height": 34
        },
        "outputId": "f2d7d006-c8bf-4406-8d88-434b5fe7614b"
      },
      "source": [
        "# BUILDING THE EMBEDDING WEIGHT MATRIX\n",
        "train_embedding_weights = np.zeros((len(tokenizer.word_index)+1, EMBEDDING_DIM))\n",
        "\n",
        "for word,index in train_word_index.items():\n",
        "    train_embedding_weights[index,:] = word2vec[word] if word in word2vec else np.random.rand(EMBEDDING_DIM)\n",
        "\n",
        "print(train_embedding_weights.shape)"
      ],
      "execution_count": 219,
      "outputs": [
        {
          "output_type": "stream",
          "text": [
            "(6484, 300)\n"
          ],
          "name": "stdout"
        }
      ]
    },
    {
      "cell_type": "code",
      "metadata": {
        "id": "fL755M6IOYj2",
        "colab_type": "code",
        "colab": {}
      },
      "source": [
        "# OUR RNN MODEL\n",
        "def RNN(embedding_weights,num_words):\n",
        "    \n",
        "    # THE INPUT SEQUENCE DIMENSION/ INPUT TO THE RNN\n",
        "    sequence_input      =   Input(shape=(MXSEQLEN,), dtype='int32')\n",
        "    \n",
        "    # FIRST LAYER WILL BE THE OF EMBEDDING_WEIGHTS     \n",
        "    embedding_layer = Embedding(\n",
        "        num_words,\n",
        "        EMBEDDING_DIM,\n",
        "        weights=[embedding_weights],\n",
        "        input_length=MXSEQLEN,\n",
        "        trainable=False\n",
        "    )\n",
        "    \n",
        "    # THE NEXT SEQUENCES \n",
        "    embedded_sequences  =   embedding_layer(sequence_input)\n",
        "\n",
        "    lstm_layer = LSTM(256)(embedded_sequences)                    # ADDING ONE LSTM LAYER OF 256 NEURONS\n",
        "    next_layer = Dense(128, activation='relu')(lstm_layer)        # DENSE NEURON LAYER\n",
        "    next_layer = Dropout(0.5)(next_layer)                         # FEW DROPOUTS FOR AVOIDING OVERFIT\n",
        "    preds = Dense(1, activation='sigmoid')(next_layer)  # FINAL DENSE LAYER\n",
        "    \n",
        "    model = Model(sequence_input, preds)\n",
        "    model.compile(\n",
        "        loss='binary_crossentropy',\n",
        "        optimizer='adam',\n",
        "        metrics=['acc']\n",
        "    )\n",
        "    \n",
        "    model.summary()\n",
        "    return model"
      ],
      "execution_count": 0,
      "outputs": []
    },
    {
      "cell_type": "code",
      "metadata": {
        "id": "LGHSwMSLQsMN",
        "colab_type": "code",
        "colab": {
          "base_uri": "https://localhost:8080/",
          "height": 357
        },
        "outputId": "2307ec75-75d2-40d6-d212-e198e9afdabe"
      },
      "source": [
        "rnn_model = RNN(train_embedding_weights, len(train_word_index)+1) "
      ],
      "execution_count": 221,
      "outputs": [
        {
          "output_type": "stream",
          "text": [
            "Model: \"model_6\"\n",
            "_________________________________________________________________\n",
            "Layer (type)                 Output Shape              Param #   \n",
            "=================================================================\n",
            "input_9 (InputLayer)         [(None, 80)]              0         \n",
            "_________________________________________________________________\n",
            "embedding_8 (Embedding)      (None, 80, 300)           1945200   \n",
            "_________________________________________________________________\n",
            "lstm_8 (LSTM)                (None, 256)               570368    \n",
            "_________________________________________________________________\n",
            "dense_16 (Dense)             (None, 128)               32896     \n",
            "_________________________________________________________________\n",
            "dropout_8 (Dropout)          (None, 128)               0         \n",
            "_________________________________________________________________\n",
            "dense_17 (Dense)             (None, 1)                 129       \n",
            "=================================================================\n",
            "Total params: 2,548,593\n",
            "Trainable params: 603,393\n",
            "Non-trainable params: 1,945,200\n",
            "_________________________________________________________________\n"
          ],
          "name": "stdout"
        }
      ]
    },
    {
      "cell_type": "code",
      "metadata": {
        "id": "so9XjM3vT_aM",
        "colab_type": "code",
        "colab": {
          "base_uri": "https://localhost:8080/",
          "height": 102
        },
        "outputId": "7d374aa1-3b1d-4ac3-b7e3-6b9f19303046"
      },
      "source": [
        "# CONFIGURING AND TRAINING THE MODEL\n",
        "EPOCHS = 2\n",
        "BATCH_SIZE = 50\n",
        "history = rnn_model.fit(\n",
        "    train_sequence, \n",
        "    y_train, \n",
        "    epochs=EPOCHS, \n",
        "    validation_split=0.1, \n",
        "    shuffle=True, \n",
        "    batch_size=BATCH_SIZE\n",
        ")"
      ],
      "execution_count": 222,
      "outputs": [
        {
          "output_type": "stream",
          "text": [
            "Train on 8399 samples, validate on 934 samples\n",
            "Epoch 1/2\n",
            "8399/8399 [==============================] - 136s 16ms/sample - loss: 0.5518 - acc: 0.7550 - val_loss: 0.3630 - val_acc: 0.8769\n",
            "Epoch 2/2\n",
            "8399/8399 [==============================] - 135s 16ms/sample - loss: 0.4129 - acc: 0.8157 - val_loss: 0.2574 - val_acc: 0.8961\n"
          ],
          "name": "stdout"
        }
      ]
    },
    {
      "cell_type": "code",
      "metadata": {
        "id": "woTsMqkwVzdW",
        "colab_type": "code",
        "colab": {
          "base_uri": "https://localhost:8080/",
          "height": 295
        },
        "outputId": "5375e7bd-0e78-4e57-8a4f-63a1a708db27"
      },
      "source": [
        "plt.plot(history.history['loss'])\n",
        "plt.plot(history.history['val_loss'])\n",
        "plt.title('model train vs validation loss')\n",
        "plt.ylabel('loss')\n",
        "plt.xlabel('epoch')\n",
        "plt.legend(['train', 'validation'], loc='upper right')\n",
        "plt.show()"
      ],
      "execution_count": 223,
      "outputs": [
        {
          "output_type": "display_data",
          "data": {
            "image/png": "[encoded data removed]",
            "text/plain": [
              "<Figure size 432x288 with 1 Axes>"
            ]
          },
          "metadata": {
            "tags": []
          }
        }
      ]
    },
    {
      "cell_type": "code",
      "metadata": {
        "id": "jG0xsiSqXCPj",
        "colab_type": "code",
        "colab": {}
      },
      "source": [
        "predict=rnn_model.predict(test_sequence)"
      ],
      "execution_count": 0,
      "outputs": []
    },
    {
      "cell_type": "code",
      "metadata": {
        "id": "OXcScRZCdZoe",
        "colab_type": "code",
        "colab": {}
      },
      "source": [
        "rnn_model.save('/content/rnn_model.h5')"
      ],
      "execution_count": 0,
      "outputs": []
    },
    {
      "cell_type": "code",
      "metadata": {
        "id": "bjudKlULdmZ3",
        "colab_type": "code",
        "colab": {
          "base_uri": "https://localhost:8080/",
          "height": 190
        },
        "outputId": "2a637bb6-4c4b-4306-ca7d-bb572c2e3357"
      },
      "source": [
        "from tensorflow.keras.models import load_model\n",
        "loaded_model=load_model('rnn_model.h5')"
      ],
      "execution_count": 186,
      "outputs": [
        {
          "output_type": "stream",
          "text": [
            "WARNING:tensorflow:From /tensorflow-1.15.0/python3.6/tensorflow_core/python/ops/init_ops.py:97: calling GlorotUniform.__init__ (from tensorflow.python.ops.init_ops) with dtype is deprecated and will be removed in a future version.\n",
            "Instructions for updating:\n",
            "Call initializer instance with the dtype argument instead of passing it to the constructor\n",
            "WARNING:tensorflow:From /tensorflow-1.15.0/python3.6/tensorflow_core/python/ops/init_ops.py:97: calling Orthogonal.__init__ (from tensorflow.python.ops.init_ops) with dtype is deprecated and will be removed in a future version.\n",
            "Instructions for updating:\n",
            "Call initializer instance with the dtype argument instead of passing it to the constructor\n",
            "WARNING:tensorflow:From /tensorflow-1.15.0/python3.6/tensorflow_core/python/ops/init_ops.py:97: calling Zeros.__init__ (from tensorflow.python.ops.init_ops) with dtype is deprecated and will be removed in a future version.\n",
            "Instructions for updating:\n",
            "Call initializer instance with the dtype argument instead of passing it to the constructor\n"
          ],
          "name": "stdout"
        }
      ]
    },
    {
      "cell_type": "code",
      "metadata": {
        "id": "MCYqJI-oa1_x",
        "colab_type": "code",
        "colab": {}
      },
      "source": [
        "predict=[int(x+0.5) for x in predict]"
      ],
      "execution_count": 0,
      "outputs": []
    },
    {
      "cell_type": "code",
      "metadata": {
        "id": "maiQFKudfcwx",
        "colab_type": "code",
        "colab": {
          "base_uri": "https://localhost:8080/",
          "height": 51
        },
        "outputId": "24d89eaf-25d4-4518-bbbd-39a46a315a8d"
      },
      "source": [
        "accuracy = accuracy_score(y_test, predict)\n",
        "f1=f1_score(y_test,predict)\n",
        "print(\"F1 Score: %.2f%%\" % (f1* 100.0))\n",
        "print(\"Accuracy: %.2f%%\" % (accuracy * 100.0))"
      ],
      "execution_count": 227,
      "outputs": [
        {
          "output_type": "stream",
          "text": [
            "F1 Score: 65.88%\n",
            "Accuracy: 70.78%\n"
          ],
          "name": "stdout"
        }
      ]
    },
    {
      "cell_type": "code",
      "metadata": {
        "id": "Jn5gBqnZfLc1",
        "colab_type": "code",
        "colab": {
          "base_uri": "https://localhost:8080/",
          "height": 221
        },
        "outputId": "be6be520-43e6-451c-e183-9290ba2f020f"
      },
      "source": [
        "test_data['label']=y_test\n",
        "test_data.head()"
      ],
      "execution_count": 230,
      "outputs": [
        {
          "output_type": "execute_result",
          "data": {
            "text/html": [
              "<div>\n",
              "<style scoped>\n",
              "    .dataframe tbody tr th:only-of-type {\n",
              "        vertical-align: middle;\n",
              "    }\n",
              "\n",
              "    .dataframe tbody tr th {\n",
              "        vertical-align: top;\n",
              "    }\n",
              "\n",
              "    .dataframe thead th {\n",
              "        text-align: right;\n",
              "    }\n",
              "</style>\n",
              "<table border=\"1\" class=\"dataframe\">\n",
              "  <thead>\n",
              "    <tr style=\"text-align: right;\">\n",
              "      <th></th>\n",
              "      <th>id</th>\n",
              "      <th>sentence</th>\n",
              "      <th>label</th>\n",
              "    </tr>\n",
              "  </thead>\n",
              "  <tbody>\n",
              "    <tr>\n",
              "      <th>0</th>\n",
              "      <td>1310_1</td>\n",
              "      <td>I'm not asking Microsoft to Gives permission like Android so any app can take my data, but don't keep it restricted like iPhone.</td>\n",
              "      <td>1</td>\n",
              "    </tr>\n",
              "    <tr>\n",
              "      <th>1</th>\n",
              "      <td>1312_1</td>\n",
              "      <td>somewhere between Android and iPhone.</td>\n",
              "      <td>0</td>\n",
              "    </tr>\n",
              "    <tr>\n",
              "      <th>2</th>\n",
              "      <td>1313_1</td>\n",
              "      <td>And in the Windows Store you can flag the App [Requires Trust] for example.</td>\n",
              "      <td>0</td>\n",
              "    </tr>\n",
              "    <tr>\n",
              "      <th>3</th>\n",
              "      <td>1313_2</td>\n",
              "      <td>Many thanks Sameh Hi, As we know, there is a lot of limitations is WP8 OS due the high security in the OS itself which is very good, but some time we need to allow some apps to do extra works, apps which we trust i.e: hotmail app, facebook app, skype app ....</td>\n",
              "      <td>0</td>\n",
              "    </tr>\n",
              "    <tr>\n",
              "      <th>4</th>\n",
              "      <td>1313_3</td>\n",
              "      <td>The idea is that we can develop a regular app and we request our permissions in the manifest, OR the app can ASK FOR TRUST_�_ more</td>\n",
              "      <td>1</td>\n",
              "    </tr>\n",
              "  </tbody>\n",
              "</table>\n",
              "</div>"
            ],
            "text/plain": [
              "       id  ... label\n",
              "0  1310_1  ...     1\n",
              "1  1312_1  ...     0\n",
              "2  1313_1  ...     0\n",
              "3  1313_2  ...     0\n",
              "4  1313_3  ...     1\n",
              "\n",
              "[5 rows x 3 columns]"
            ]
          },
          "metadata": {
            "tags": []
          },
          "execution_count": 230
        }
      ]
    },
    {
      "cell_type": "code",
      "metadata": {
        "id": "0JocqAnwm9b_",
        "colab_type": "code",
        "colab": {
          "base_uri": "https://localhost:8080/",
          "height": 221
        },
        "outputId": "6d7d509e-a132-4e8d-e780-9cd0aa522173"
      },
      "source": [
        "test_data['label']=predict\n",
        "test_data.head()"
      ],
      "execution_count": 231,
      "outputs": [
        {
          "output_type": "execute_result",
          "data": {
            "text/html": [
              "<div>\n",
              "<style scoped>\n",
              "    .dataframe tbody tr th:only-of-type {\n",
              "        vertical-align: middle;\n",
              "    }\n",
              "\n",
              "    .dataframe tbody tr th {\n",
              "        vertical-align: top;\n",
              "    }\n",
              "\n",
              "    .dataframe thead th {\n",
              "        text-align: right;\n",
              "    }\n",
              "</style>\n",
              "<table border=\"1\" class=\"dataframe\">\n",
              "  <thead>\n",
              "    <tr style=\"text-align: right;\">\n",
              "      <th></th>\n",
              "      <th>id</th>\n",
              "      <th>sentence</th>\n",
              "      <th>label</th>\n",
              "    </tr>\n",
              "  </thead>\n",
              "  <tbody>\n",
              "    <tr>\n",
              "      <th>0</th>\n",
              "      <td>1310_1</td>\n",
              "      <td>I'm not asking Microsoft to Gives permission like Android so any app can take my data, but don't keep it restricted like iPhone.</td>\n",
              "      <td>1</td>\n",
              "    </tr>\n",
              "    <tr>\n",
              "      <th>1</th>\n",
              "      <td>1312_1</td>\n",
              "      <td>somewhere between Android and iPhone.</td>\n",
              "      <td>0</td>\n",
              "    </tr>\n",
              "    <tr>\n",
              "      <th>2</th>\n",
              "      <td>1313_1</td>\n",
              "      <td>And in the Windows Store you can flag the App [Requires Trust] for example.</td>\n",
              "      <td>0</td>\n",
              "    </tr>\n",
              "    <tr>\n",
              "      <th>3</th>\n",
              "      <td>1313_2</td>\n",
              "      <td>Many thanks Sameh Hi, As we know, there is a lot of limitations is WP8 OS due the high security in the OS itself which is very good, but some time we need to allow some apps to do extra works, apps which we trust i.e: hotmail app, facebook app, skype app ....</td>\n",
              "      <td>1</td>\n",
              "    </tr>\n",
              "    <tr>\n",
              "      <th>4</th>\n",
              "      <td>1313_3</td>\n",
              "      <td>The idea is that we can develop a regular app and we request our permissions in the manifest, OR the app can ASK FOR TRUST_�_ more</td>\n",
              "      <td>0</td>\n",
              "    </tr>\n",
              "  </tbody>\n",
              "</table>\n",
              "</div>"
            ],
            "text/plain": [
              "       id  ... label\n",
              "0  1310_1  ...     1\n",
              "1  1312_1  ...     0\n",
              "2  1313_1  ...     0\n",
              "3  1313_2  ...     1\n",
              "4  1313_3  ...     0\n",
              "\n",
              "[5 rows x 3 columns]"
            ]
          },
          "metadata": {
            "tags": []
          },
          "execution_count": 231
        }
      ]
    }
  ]
}