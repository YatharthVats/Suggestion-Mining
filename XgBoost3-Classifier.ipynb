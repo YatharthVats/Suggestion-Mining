{
  "nbformat": 4,
  "nbformat_minor": 0,
  "metadata": {
    "kernelspec": {
      "display_name": "Python 3",
      "language": "python",
      "name": "python3"
    },
    "language_info": {
      "codemirror_mode": {
        "name": "ipython",
        "version": 3
      },
      "file_extension": ".py",
      "mimetype": "text/x-python",
      "name": "python",
      "nbconvert_exporter": "python",
      "pygments_lexer": "ipython3",
      "version": "3.7.4"
    },
    "colab": {
      "name": "XgBoostClassifier.ipynb",
      "provenance": [],
      "collapsed_sections": [],
      "include_colab_link": true
    }
  },
  "cells": [
    {
      "cell_type": "markdown",
      "metadata": {
        "id": "view-in-github",
        "colab_type": "text"
      },
      "source": [
        "<a href=\"https://colab.research.google.com/github/shivanggarg1998/Suggestion-Mining/blob/master/XgBoostClassifier.ipynb\" target=\"_parent\"><img src=\"https://colab.research.google.com/assets/colab-badge.svg\" alt=\"Open In Colab\"/></a>"
      ]
    },
    {
      "cell_type": "code",
      "metadata": {
        "id": "6Bhtj3ujX0Em",
        "colab_type": "code",
        "colab": {}
      },
      "source": [
        "from xgboost import XGBClassifier\n",
        "import pandas as pd\n",
        "import numpy as np\n",
        "from sklearn.metrics import f1_score,accuracy_score"
      ],
      "execution_count": 0,
      "outputs": []
    },
    {
      "cell_type": "code",
      "metadata": {
        "id": "Qc7nuoKXx09P",
        "colab_type": "code",
        "outputId": "bd11e922-b827-4596-ae93-99f4bc7250c4",
        "colab": {
          "base_uri": "https://localhost:8080/",
          "height": 34
        }
      },
      "source": [
        "from google.colab import drive\n",
        "drive.mount('/content/drive')"
      ],
      "execution_count": 37,
      "outputs": [
        {
          "output_type": "stream",
          "text": [
            "Drive already mounted at /content/drive; to attempt to forcibly remount, call drive.mount(\"/content/drive\", force_remount=True).\n"
          ],
          "name": "stdout"
        }
      ]
    },
    {
      "cell_type": "code",
      "metadata": {
        "id": "Y-cgb4CFEAGQ",
        "colab_type": "code",
        "colab": {}
      },
      "source": [
        "import os\n",
        "os.chdir('/content/drive/My Drive/Suggestion-Mining2/Suggestion-Mining')"
      ],
      "execution_count": 0,
      "outputs": []
    },
    {
      "cell_type": "code",
      "metadata": {
        "id": "AVIwdpFuX0Es",
        "colab_type": "code",
        "colab": {}
      },
      "source": [
        "train_data=pd.read_csv(\"./Data/TrainingData.csv\")\n",
        "test_data=pd.read_csv(\"./Data/SubtaskA_Trial_Test_Labeled.csv\")\n",
        "valid_data=pd.read_csv(\"./Data/SubtaskA_EvaluationData_labeled.csv\")\n",
        "combined=pd.read_csv('./CleanData.csv')\n",
        "w2v_x=pd.read_csv(\"./Combined_x_w2v.csv\")"
      ],
      "execution_count": 0,
      "outputs": []
    },
    {
      "cell_type": "code",
      "metadata": {
        "id": "Ck3AL9OTX0Ev",
        "colab_type": "code",
        "outputId": "11f33e59-9a2e-4809-eeb4-482a9be9f30a",
        "colab": {
          "base_uri": "https://localhost:8080/",
          "height": 84
        }
      },
      "source": [
        "print('train', train_data.shape)\n",
        "print('test', test_data.shape)\n",
        "print('valid', valid_data.shape)\n",
        "print('combined_x', w2v_x.shape)"
      ],
      "execution_count": 103,
      "outputs": [
        {
          "output_type": "stream",
          "text": [
            "train (8500, 3)\n",
            "test (592, 3)\n",
            "valid (833, 3)\n",
            "combined_x (9925, 301)\n"
          ],
          "name": "stdout"
        }
      ]
    },
    {
      "cell_type": "code",
      "metadata": {
        "id": "K8pzR2ntX0Ez",
        "colab_type": "code",
        "outputId": "6c7c00bb-a5f4-4c2e-aed2-f623e37810ee",
        "colab": {
          "base_uri": "https://localhost:8080/",
          "height": 67
        }
      },
      "source": [
        "x_train=w2v_x[:8500]\n",
        "print(x_train.shape)\n",
        "x_test=w2v_x[8500:8500+592]\n",
        "print(x_test.shape)\n",
        "x_valid=w2v_x[8500+592:]\n",
        "print(x_valid.shape)"
      ],
      "execution_count": 104,
      "outputs": [
        {
          "output_type": "stream",
          "text": [
            "(8500, 301)\n",
            "(592, 301)\n",
            "(833, 301)\n"
          ],
          "name": "stdout"
        }
      ]
    },
    {
      "cell_type": "code",
      "metadata": {
        "id": "Ma8pQ3YwX0E2",
        "colab_type": "code",
        "outputId": "cd2269e7-d6ea-4f4d-b103-9b0bb4b51c35",
        "colab": {
          "base_uri": "https://localhost:8080/",
          "height": 70
        }
      },
      "source": [
        "print(train_data['sentence'][0])\n",
        "print(combined['clean'][0])"
      ],
      "execution_count": 105,
      "outputs": [
        {
          "output_type": "stream",
          "text": [
            "\"Please enable removing language code from the Dev Center \"language history\" For example if you ever selected \"ru\" and \"ru-ru\" laguages and you published this xap to the Store then it causes Tile localization to show the en-us(default) tile localization which is bad.\"\n",
            "please enable remove language code from the dev center for example if you ever select and and you publish this to the store then it cause tile localization to show the en u tile localization which be bad\n"
          ],
          "name": "stdout"
        }
      ]
    },
    {
      "cell_type": "code",
      "metadata": {
        "id": "_HX_PlthX0E5",
        "colab_type": "code",
        "outputId": "3bae0e6d-64b2-41ae-e7fb-ba8d26d92a03",
        "colab": {
          "base_uri": "https://localhost:8080/",
          "height": 50
        }
      },
      "source": [
        "print(test_data['sentence'][0])\n",
        "print(combined['clean'][8500])"
      ],
      "execution_count": 106,
      "outputs": [
        {
          "output_type": "stream",
          "text": [
            "I'm not asking Microsoft to Gives permission like Android so any app can take my data, but don't keep it restricted like iPhone.\n",
            "i be not ask to give permission like android so any can take my data but do not keep it restrict like\n"
          ],
          "name": "stdout"
        }
      ]
    },
    {
      "cell_type": "code",
      "metadata": {
        "id": "fNjxu_Q7X0E9",
        "colab_type": "code",
        "outputId": "c3a564f6-6d19-478c-d8c1-9e0bce7627e2",
        "colab": {
          "base_uri": "https://localhost:8080/",
          "height": 50
        }
      },
      "source": [
        "print(valid_data['sentence'][0])\n",
        "print(combined['clean'][8500+592])"
      ],
      "execution_count": 107,
      "outputs": [
        {
          "output_type": "stream",
          "text": [
            "This would enable live traffic aware apps.\n",
            "this would enable live traffic aware\n"
          ],
          "name": "stdout"
        }
      ]
    },
    {
      "cell_type": "code",
      "metadata": {
        "id": "fbIDbyxjX0FA",
        "colab_type": "code",
        "outputId": "54dcd7fe-06a0-4783-f1fd-2b90045abc45",
        "colab": {
          "base_uri": "https://localhost:8080/",
          "height": 50
        }
      },
      "source": [
        "y_train=train_data['label']\n",
        "y_valid=valid_data['label']\n",
        "y_test=test_data['label']\n",
        "print(x_train.shape,y_train.shape)\n",
        "print(x_test.shape,y_test.shape)"
      ],
      "execution_count": 108,
      "outputs": [
        {
          "output_type": "stream",
          "text": [
            "(8500, 301) (8500,)\n",
            "(592, 301) (592,)\n"
          ],
          "name": "stdout"
        }
      ]
    },
    {
      "cell_type": "code",
      "metadata": {
        "id": "2uAQ0WQCX0FC",
        "colab_type": "code",
        "outputId": "ee46f223-8886-4f8c-c808-0b29a0bd7f8d",
        "colab": {
          "base_uri": "https://localhost:8080/",
          "height": 420
        }
      },
      "source": [
        "print(valid_data['label'].head(100))\n",
        "print(y_valid.head(100))"
      ],
      "execution_count": 109,
      "outputs": [
        {
          "output_type": "stream",
          "text": [
            "0     0\n",
            "1     1\n",
            "2     1\n",
            "3     1\n",
            "4     1\n",
            "     ..\n",
            "95    0\n",
            "96    0\n",
            "97    0\n",
            "98    0\n",
            "99    0\n",
            "Name: label, Length: 100, dtype: int64\n",
            "0     0\n",
            "1     1\n",
            "2     1\n",
            "3     1\n",
            "4     1\n",
            "     ..\n",
            "95    0\n",
            "96    0\n",
            "97    0\n",
            "98    0\n",
            "99    0\n",
            "Name: label, Length: 100, dtype: int64\n"
          ],
          "name": "stdout"
        }
      ]
    },
    {
      "cell_type": "code",
      "metadata": {
        "id": "IPqBcqspX0FF",
        "colab_type": "code",
        "colab": {}
      },
      "source": [
        "# EXTREME Gradient Boost Algorithm\n",
        "# ADV- \n",
        "# Regularization\n",
        "# Parallel Boosting\n",
        "# Handles missing values on its own\n",
        "# Builting Cross Validation\n",
        "\n",
        "model = XGBClassifier(\n",
        "    max_depth=5, # Max depth of the tree\n",
        "    n_estimators=10,\n",
        "    n_thread=3,\n",
        ")"
      ],
      "execution_count": 0,
      "outputs": []
    },
    {
      "cell_type": "code",
      "metadata": {
        "id": "9S-bUffvX0FI",
        "colab_type": "code",
        "outputId": "61a9d3eb-8472-4fcd-d801-5d5bc71555a5",
        "colab": {
          "base_uri": "https://localhost:8080/",
          "height": 185
        }
      },
      "source": [
        "eval_set = [(x_valid, y_valid)]\n",
        "model.fit(x_train, y_train, eval_metric=\"error\", eval_set=eval_set, verbose=True)\n",
        "model=model.fit(x_train,y_train)"
      ],
      "execution_count": 111,
      "outputs": [
        {
          "output_type": "stream",
          "text": [
            "[0]\tvalidation_0-error:0.002401\n",
            "[1]\tvalidation_0-error:0.002401\n",
            "[2]\tvalidation_0-error:0.002401\n",
            "[3]\tvalidation_0-error:0.002401\n",
            "[4]\tvalidation_0-error:0.002401\n",
            "[5]\tvalidation_0-error:0.002401\n",
            "[6]\tvalidation_0-error:0.002401\n",
            "[7]\tvalidation_0-error:0.002401\n",
            "[8]\tvalidation_0-error:0.002401\n",
            "[9]\tvalidation_0-error:0.002401\n"
          ],
          "name": "stdout"
        }
      ]
    },
    {
      "cell_type": "code",
      "metadata": {
        "id": "7Ck4ZpadX0FK",
        "colab_type": "code",
        "outputId": "7a123603-b3d4-4409-c417-99f615823f18",
        "colab": {
          "base_uri": "https://localhost:8080/",
          "height": 84
        }
      },
      "source": [
        "y_predict=model.predict(x_test)\n",
        "print(y_predict.shape)\n",
        "print(y_predict[0])\n",
        "f1=f1_score(y_test,y_predict)\n",
        "accuracy = accuracy_score(y_test, y_predict)\n",
        "print(\"F1 Score: %.2f%%\" % (f1* 100.0))\n",
        "print(\"Accuracy: %.2f%%\" % (accuracy * 100.0))"
      ],
      "execution_count": 112,
      "outputs": [
        {
          "output_type": "stream",
          "text": [
            "(592,)\n",
            "1\n",
            "F1 Score: 99.83%\n",
            "Accuracy: 99.83%\n"
          ],
          "name": "stdout"
        }
      ]
    },
    {
      "cell_type": "code",
      "metadata": {
        "id": "tOS4r0-qX0FN",
        "colab_type": "code",
        "outputId": "5d6489ac-ec92-4b4b-ab4e-013a2e290f5b",
        "colab": {
          "base_uri": "https://localhost:8080/",
          "height": 84
        }
      },
      "source": [
        "y_predict=model.predict(x_valid)\n",
        "print(y_predict.shape)\n",
        "print(y_predict[0])\n",
        "f1=f1_score(y_valid,y_predict)\n",
        "accuracy = accuracy_score(y_valid, y_predict)\n",
        "print(\"F1 Score: %.2f%%\" % (f1* 100.0))\n",
        "print(\"Accuracy: %.2f%%\" % (accuracy * 100.0))"
      ],
      "execution_count": 113,
      "outputs": [
        {
          "output_type": "stream",
          "text": [
            "(833,)\n",
            "0\n",
            "F1 Score: 98.86%\n",
            "Accuracy: 99.76%\n"
          ],
          "name": "stdout"
        }
      ]
    },
    {
      "cell_type": "code",
      "metadata": {
        "id": "Qs7x5HiJX0FQ",
        "colab_type": "code",
        "colab": {}
      },
      "source": [
        ""
      ],
      "execution_count": 0,
      "outputs": []
    }
  ]
}