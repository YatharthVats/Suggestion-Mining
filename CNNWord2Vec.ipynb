{
  "nbformat": 4,
  "nbformat_minor": 0,
  "metadata": {
    "colab": {
      "name": "CNNWord2Vec.ipynb",
      "provenance": []
    },
    "kernelspec": {
      "name": "python3",
      "display_name": "Python 3"
    }
  },
  "cells": [
    {
      "cell_type": "code",
      "metadata": {
        "id": "_VGwKJg05zaT",
        "colab_type": "code",
        "colab": {}
      },
      "source": [
        "import pandas as pd\n",
        "import numpy as np\n",
        "\n",
        "# FOR PLOTTING GRAPHS\n",
        "import matplotlib.pyplot as plt\n",
        "pd.set_option('display.max_colwidth',300)\n",
        "\n",
        "# FOR CNN MODEL\n",
        "from tensorflow.keras.models import Model\n",
        "from tensorflow.keras.layers import Input, Embedding;\n",
        "from tensorflow.keras.layers import concatenate, Conv1D, GlobalMaxPooling1D\n",
        "from tensorflow.keras.layers import Dense, Dropout\n",
        "\n",
        "# FOR EVALUATION METRICS OF THE PREDICTIONS\n",
        "from sklearn.metrics import accuracy_score,f1_score"
      ],
      "execution_count": 0,
      "outputs": []
    },
    {
      "cell_type": "code",
      "metadata": {
        "id": "-pJR7vIJ63xQ",
        "colab_type": "code",
        "colab": {}
      },
      "source": [
        "import pickle\n",
        "\n",
        "variables = pickle.load(open('./Data/variables','rb'))\n",
        "\n",
        "test_sequence  = variables['test_sequence']\n",
        "valid_sequence  = variables['valid_sequence']\n",
        "train_sequence  = variables['train_sequence']\n",
        "\n",
        "y_train  = variables['y_train']\n",
        "y_test  = variables['y_test']\n",
        "y_valid  = variables['y_valid']\n",
        "\n",
        "MXSEQLEN  = variables['MXSEQLEN']\n",
        "EMBEDDING_DIM  = variables['EMBEDDING_DIM']\n",
        "train_embedding_weights  = variables['train_embedding_weights']\n",
        "train_word_index  = variables['train_word_index']"
      ],
      "execution_count": 0,
      "outputs": []
    },
    {
      "cell_type": "code",
      "metadata": {
        "id": "dHwozMet7N2T",
        "colab_type": "code",
        "colab": {}
      },
      "source": [
        "def CNN(embedding_weights,num_words):\n",
        "\n",
        "    embedding_layer = Embedding(\n",
        "        num_words,                  # VOCABULARY SIZE\n",
        "        EMBEDDING_DIM,              # ONE HOT ENCODING VECTOR SIZE\n",
        "        weights=[embedding_weights],# EMBEGGING WEIGHTS FROM THE GOOGLE NEW WORD VECTOR\n",
        "        input_length=MXSEQLEN,      # MAX LENGTH OF A SEQUENCE\n",
        "        trainable=False             # PARAMETERS WILL NOT BE TRAINED\n",
        "    )\n",
        "\n",
        "    sequence_input      =   Input(shape=(MXSEQLEN,), dtype='int32')\n",
        "    embedded_sequences  =   embedding_layer(sequence_input)\n",
        "\n",
        "    conv_layer1 = Conv1D(256, 2, activation='relu')(embedded_sequences)        \n",
        "    conv_layer1 = GlobalMaxPooling1D()(conv_layer1)\n",
        "\n",
        "    conv_layer2 = Conv1D(256, 3, activation='relu')(embedded_sequences)        \n",
        "    conv_layer2 = GlobalMaxPooling1D()(conv_layer2)\n",
        "\n",
        "    conv_layer3 = Conv1D(256, 4, activation='relu')(embedded_sequences)        \n",
        "    conv_layer3 = GlobalMaxPooling1D()(conv_layer3)\n",
        "\n",
        "    next_layer = concatenate([conv_layer1,conv_layer2,conv_layer3])\n",
        "\n",
        "    next_layer = Dense(128, activation='sigmoid')(next_layer)  \n",
        "    next_layer = Dropout(0.6)(next_layer)                         \n",
        "    next_layer = Dense(128, activation='sigmoid')(next_layer)  \n",
        "\n",
        "    preds = Dense(1, activation='sigmoid')(next_layer)  \n",
        "\n",
        "    model = Model(sequence_input, preds)\n",
        "    model.compile(\n",
        "        loss='binary_crossentropy',\n",
        "        optimizer='adam',\n",
        "        metrics=['acc']\n",
        "    )\n",
        "    \n",
        "    model.summary()\n",
        "    return model"
      ],
      "execution_count": 0,
      "outputs": []
    },
    {
      "cell_type": "code",
      "metadata": {
        "id": "7CDTCFxf7YIF",
        "colab_type": "code",
        "colab": {
          "base_uri": "https://localhost:8080/",
          "height": 629
        },
        "outputId": "c6e712ec-d972-47be-9c25-c1a5490dd7c2"
      },
      "source": [
        "# len= train_word_index +1 FOR 0 THAT WILL BE PADDED FOR COMPLETING THE SEQUENCE LENGTH\n",
        "cnn_model = CNN(train_embedding_weights, len(train_word_index)+1)  "
      ],
      "execution_count": 6,
      "outputs": [
        {
          "output_type": "stream",
          "text": [
            "Model: \"model\"\n",
            "__________________________________________________________________________________________________\n",
            "Layer (type)                    Output Shape         Param #     Connected to                     \n",
            "==================================================================================================\n",
            "input_1 (InputLayer)            [(None, 80)]         0                                            \n",
            "__________________________________________________________________________________________________\n",
            "embedding (Embedding)           (None, 80, 300)      1145700     input_1[0][0]                    \n",
            "__________________________________________________________________________________________________\n",
            "conv1d (Conv1D)                 (None, 79, 256)      153856      embedding[0][0]                  \n",
            "__________________________________________________________________________________________________\n",
            "conv1d_1 (Conv1D)               (None, 78, 256)      230656      embedding[0][0]                  \n",
            "__________________________________________________________________________________________________\n",
            "conv1d_2 (Conv1D)               (None, 77, 256)      307456      embedding[0][0]                  \n",
            "__________________________________________________________________________________________________\n",
            "global_max_pooling1d (GlobalMax (None, 256)          0           conv1d[0][0]                     \n",
            "__________________________________________________________________________________________________\n",
            "global_max_pooling1d_1 (GlobalM (None, 256)          0           conv1d_1[0][0]                   \n",
            "__________________________________________________________________________________________________\n",
            "global_max_pooling1d_2 (GlobalM (None, 256)          0           conv1d_2[0][0]                   \n",
            "__________________________________________________________________________________________________\n",
            "concatenate (Concatenate)       (None, 768)          0           global_max_pooling1d[0][0]       \n",
            "                                                                 global_max_pooling1d_1[0][0]     \n",
            "                                                                 global_max_pooling1d_2[0][0]     \n",
            "__________________________________________________________________________________________________\n",
            "dense (Dense)                   (None, 128)          98432       concatenate[0][0]                \n",
            "__________________________________________________________________________________________________\n",
            "dropout (Dropout)               (None, 128)          0           dense[0][0]                      \n",
            "__________________________________________________________________________________________________\n",
            "dense_1 (Dense)                 (None, 128)          16512       dropout[0][0]                    \n",
            "__________________________________________________________________________________________________\n",
            "dense_2 (Dense)                 (None, 1)            129         dense_1[0][0]                    \n",
            "==================================================================================================\n",
            "Total params: 1,952,741\n",
            "Trainable params: 807,041\n",
            "Non-trainable params: 1,145,700\n",
            "__________________________________________________________________________________________________\n"
          ],
          "name": "stdout"
        }
      ]
    },
    {
      "cell_type": "code",
      "metadata": {
        "id": "v-c8RyUI7Zms",
        "colab_type": "code",
        "colab": {
          "base_uri": "https://localhost:8080/",
          "height": 357
        },
        "outputId": "11d0bf3a-c6a1-49b9-d013-37c2dc182a3f"
      },
      "source": [
        "# CONFIGURING AND TRAINING THE MODEL\n",
        "EPOCHS = 10\n",
        "BATCH_SIZE = 50\n",
        "\n",
        "history = cnn_model.fit(\n",
        "    train_sequence,       # THE INPUT SEQUENCES TO THE MODEL\n",
        "    y_train,              # TARGET OUTPUT\n",
        "    epochs=EPOCHS,    \n",
        "    validation_data=(valid_sequence, y_valid), \n",
        "    shuffle=True, \n",
        "    batch_size=BATCH_SIZE\n",
        ")"
      ],
      "execution_count": 7,
      "outputs": [
        {
          "output_type": "stream",
          "text": [
            "Epoch 1/10\n",
            "170/170 [==============================] - 38s 223ms/step - loss: 0.4461 - acc: 0.8008 - val_loss: 0.2602 - val_acc: 0.8800\n",
            "Epoch 2/10\n",
            "170/170 [==============================] - 38s 221ms/step - loss: 0.2847 - acc: 0.8826 - val_loss: 0.2124 - val_acc: 0.9016\n",
            "Epoch 3/10\n",
            "170/170 [==============================] - 38s 221ms/step - loss: 0.2095 - acc: 0.9192 - val_loss: 0.2203 - val_acc: 0.9076\n",
            "Epoch 4/10\n",
            "170/170 [==============================] - 38s 222ms/step - loss: 0.1477 - acc: 0.9459 - val_loss: 0.2527 - val_acc: 0.8992\n",
            "Epoch 5/10\n",
            "170/170 [==============================] - 38s 222ms/step - loss: 0.1001 - acc: 0.9705 - val_loss: 0.2907 - val_acc: 0.8872\n",
            "Epoch 6/10\n",
            "170/170 [==============================] - 38s 222ms/step - loss: 0.0753 - acc: 0.9800 - val_loss: 0.2658 - val_acc: 0.9040\n",
            "Epoch 7/10\n",
            "170/170 [==============================] - 38s 221ms/step - loss: 0.0680 - acc: 0.9840 - val_loss: 0.2664 - val_acc: 0.9004\n",
            "Epoch 8/10\n",
            "170/170 [==============================] - 37s 221ms/step - loss: 0.0578 - acc: 0.9848 - val_loss: 0.2684 - val_acc: 0.9136\n",
            "Epoch 9/10\n",
            "170/170 [==============================] - 38s 221ms/step - loss: 0.0580 - acc: 0.9846 - val_loss: 0.3010 - val_acc: 0.9064\n",
            "Epoch 10/10\n",
            "170/170 [==============================] - 37s 219ms/step - loss: 0.0463 - acc: 0.9893 - val_loss: 0.3031 - val_acc: 0.9004\n"
          ],
          "name": "stdout"
        }
      ]
    },
    {
      "cell_type": "code",
      "metadata": {
        "id": "vG7eG1ZO7biU",
        "colab_type": "code",
        "colab": {}
      },
      "source": [
        "#####################################################################################\n",
        "########################## ANALYZING AND TWEAKING THE MODEL##########################\n",
        "#####################################################################################"
      ],
      "execution_count": 0,
      "outputs": []
    },
    {
      "cell_type": "code",
      "metadata": {
        "id": "Wukmbnoo7dk2",
        "colab_type": "code",
        "colab": {
          "base_uri": "https://localhost:8080/",
          "height": 295
        },
        "outputId": "831005a3-af6e-4ffb-c10f-8ac71d3df220"
      },
      "source": [
        "# TRAINING VS VALIDATION LOSS GRAPH\n",
        "plt.plot(history.history['loss'])\n",
        "plt.plot(history.history['val_loss'])\n",
        "plt.title('model train vs validation loss')\n",
        "plt.ylabel('loss')\n",
        "plt.xlabel('epoch')\n",
        "plt.legend(['train', 'validation'], loc='upper right')\n",
        "plt.show()"
      ],
      "execution_count": 9,
      "outputs": [
        {
          "output_type": "display_data",
          "data": {
            "image/png": "[encoded data removed]",
            "text/plain": [
              "<Figure size 432x288 with 1 Axes>"
            ]
          },
          "metadata": {
            "tags": []
          }
        }
      ]
    },
    {
      "cell_type": "code",
      "metadata": {
        "id": "ekLgZOxt7kvh",
        "colab_type": "code",
        "colab": {}
      },
      "source": [
        "predict=cnn_model.predict(test_sequence)\n",
        "predict=[int(x+0.5) for x in predict]"
      ],
      "execution_count": 0,
      "outputs": []
    },
    {
      "cell_type": "code",
      "metadata": {
        "id": "p9kqUs967nPR",
        "colab_type": "code",
        "colab": {
          "base_uri": "https://localhost:8080/",
          "height": 51
        },
        "outputId": "09249b62-e707-4bbb-b443-aa7ef111fcf6"
      },
      "source": [
        "# EVLUATING THE ACCURACY\n",
        "accuracy = accuracy_score(y_test, predict)\n",
        "f1=f1_score(y_test,predict)\n",
        "print(\"F1 Score: %.2f%%\" % (f1* 100.0))\n",
        "print(\"Accuracy: %.2f%%\" % (accuracy * 100.0))"
      ],
      "execution_count": 11,
      "outputs": [
        {
          "output_type": "stream",
          "text": [
            "F1 Score: 91.73%\n",
            "Accuracy: 92.91%\n"
          ],
          "name": "stdout"
        }
      ]
    }
  ]
}