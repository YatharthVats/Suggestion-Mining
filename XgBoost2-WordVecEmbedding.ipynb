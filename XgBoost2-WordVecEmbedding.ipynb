{
  "nbformat": 4,
  "nbformat_minor": 0,
  "metadata": {
    "kernelspec": {
      "display_name": "Python 3",
      "language": "python",
      "name": "python3"
    },
    "language_info": {
      "codemirror_mode": {
        "name": "ipython",
        "version": 3
      },
      "file_extension": ".py",
      "mimetype": "text/x-python",
      "name": "python",
      "nbconvert_exporter": "python",
      "pygments_lexer": "ipython3",
      "version": "3.7.4"
    },
    "colab": {
      "name": "ToWordVecEmbedding.ipynb",
      "provenance": [],
      "collapsed_sections": [],
      "include_colab_link": true
    }
  },
  "cells": [
    {
      "cell_type": "markdown",
      "metadata": {
        "id": "view-in-github",
        "colab_type": "text"
      },
      "source": [
        "<a href=\"https://colab.research.google.com/github/shivanggarg1998/Suggestion-Mining/blob/master/ToWordVecEmbedding.ipynb\" target=\"_parent\"><img src=\"https://colab.research.google.com/assets/colab-badge.svg\" alt=\"Open In Colab\"/></a>"
      ]
    },
    {
      "cell_type": "code",
      "metadata": {
        "id": "R55PqwzYdUWE",
        "colab_type": "code",
        "colab": {}
      },
      "source": [
        "# IMPORTING THE LIBRARIES\n",
        "import pandas as pd\n",
        "import numpy as np\n",
        "\n",
        "# FOR WORD TO VECTOR MODEL\n",
        "import gensim\n",
        "\n",
        "pd.set_option(\"display.max_colwidth\", 400) "
      ],
      "execution_count": 0,
      "outputs": []
    },
    {
      "cell_type": "code",
      "metadata": {
        "id": "ttgoRerAqqEu",
        "colab_type": "code",
        "outputId": "21b4129b-5f65-41a8-db44-7be8977123c2",
        "colab": {
          "base_uri": "https://localhost:8080/",
          "height": 34
        }
      },
      "source": [
        "from google.colab import drive\n",
        "drive.mount('/content/drive')"
      ],
      "execution_count": 3,
      "outputs": [
        {
          "output_type": "stream",
          "text": [
            "Drive already mounted at /content/drive; to attempt to forcibly remount, call drive.mount(\"/content/drive\", force_remount=True).\n"
          ],
          "name": "stdout"
        }
      ]
    },
    {
      "cell_type": "code",
      "metadata": {
        "id": "_0OnPsyJCfT3",
        "colab_type": "code",
        "colab": {}
      },
      "source": [
        "import os\n",
        "os.chdir('/content/drive/My Drive/Suggestion-Mining2/Suggestion-Mining')"
      ],
      "execution_count": 0,
      "outputs": []
    },
    {
      "cell_type": "code",
      "metadata": {
        "id": "MWaIRCEGdUWJ",
        "colab_type": "code",
        "colab": {}
      },
      "source": [
        "# IMPORTING THE DATASETS\n",
        "train_data=pd.read_csv(\"./Data/TrainingData.csv\")\n",
        "test_data=pd.read_csv(\"./Data/SubtaskA_Trial_Test_Labeled.csv\")\n",
        "valid_data=pd.read_csv(\"./Data/SubtaskA_EvaluationData_labeled.csv\")\n",
        "combined=pd.read_csv(\"./CleanData.csv\")"
      ],
      "execution_count": 0,
      "outputs": []
    },
    {
      "cell_type": "code",
      "metadata": {
        "id": "Pkwa7NXXdUWM",
        "colab_type": "code",
        "outputId": "d0ceafc1-f69f-47f0-9901-d9df2484a742",
        "colab": {
          "base_uri": "https://localhost:8080/",
          "height": 330
        }
      },
      "source": [
        "# PEEKING INTO THE DATASET\n",
        "print(combined.shape)\n",
        "combined.head()"
      ],
      "execution_count": 88,
      "outputs": [
        {
          "output_type": "stream",
          "text": [
            "(9925, 4)\n"
          ],
          "name": "stdout"
        },
        {
          "output_type": "execute_result",
          "data": {
            "text/html": [
              "<div>\n",
              "<style scoped>\n",
              "    .dataframe tbody tr th:only-of-type {\n",
              "        vertical-align: middle;\n",
              "    }\n",
              "\n",
              "    .dataframe tbody tr th {\n",
              "        vertical-align: top;\n",
              "    }\n",
              "\n",
              "    .dataframe thead th {\n",
              "        text-align: right;\n",
              "    }\n",
              "</style>\n",
              "<table border=\"1\" class=\"dataframe\">\n",
              "  <thead>\n",
              "    <tr style=\"text-align: right;\">\n",
              "      <th></th>\n",
              "      <th>id</th>\n",
              "      <th>sentence</th>\n",
              "      <th>label</th>\n",
              "      <th>clean</th>\n",
              "    </tr>\n",
              "  </thead>\n",
              "  <tbody>\n",
              "    <tr>\n",
              "      <th>0</th>\n",
              "      <td>663_3</td>\n",
              "      <td>\"Please enable removing language code from the Dev Center \"language history\" For example if you ever selected \"ru\" and \"ru-ru\" laguages and you published this xap to the Store then it causes Tile localization to show the en-us(default) tile localization which is bad.\"</td>\n",
              "      <td>1</td>\n",
              "      <td>please enable remove language code from the dev center for example if you ever select and and you publish this to the store then it cause tile localization to show the en u tile localization which be bad</td>\n",
              "    </tr>\n",
              "    <tr>\n",
              "      <th>1</th>\n",
              "      <td>663_4</td>\n",
              "      <td>\"Note: in your .csproj file, there is a SupportedCultures entry like this: &lt;SupportedCultures&gt;de-DE;ru;ru-RU &lt;/SupportedCultures&gt; When I removed the \"ru\" language code and published my new xap version, the old xap version still remains in the Store with \"Replaced and unpublished\".\"</td>\n",
              "      <td>0</td>\n",
              "      <td>note in your file there be a entry like this when i remove the language code and publish my new version the old version still remains in the store with</td>\n",
              "    </tr>\n",
              "    <tr>\n",
              "      <th>2</th>\n",
              "      <td>664_1</td>\n",
              "      <td>\"Wich means the new version not fully replaced the old version and this causes me very serious problems: 1.\"</td>\n",
              "      <td>0</td>\n",
              "      <td>mean the new version not fully replace the old version and this cause me very serious problem</td>\n",
              "    </tr>\n",
              "    <tr>\n",
              "      <th>3</th>\n",
              "      <td>664_2</td>\n",
              "      <td>\"Some of my users will still receive the old xap version of my app.\"</td>\n",
              "      <td>0</td>\n",
              "      <td>some of my user will still receive the old version of my</td>\n",
              "    </tr>\n",
              "    <tr>\n",
              "      <th>4</th>\n",
              "      <td>664_3</td>\n",
              "      <td>\"The store randomly gives the old xap or the new xap version of my app.\"</td>\n",
              "      <td>0</td>\n",
              "      <td>the store randomly give the old or the new version of my</td>\n",
              "    </tr>\n",
              "  </tbody>\n",
              "</table>\n",
              "</div>"
            ],
            "text/plain": [
              "      id  ...                                                                                                                                                                                                        clean\n",
              "0  663_3  ...  please enable remove language code from the dev center for example if you ever select and and you publish this to the store then it cause tile localization to show the en u tile localization which be bad\n",
              "1  663_4  ...                                                      note in your file there be a entry like this when i remove the language code and publish my new version the old version still remains in the store with\n",
              "2  664_1  ...                                                                                                                mean the new version not fully replace the old version and this cause me very serious problem\n",
              "3  664_2  ...                                                                                                                                                     some of my user will still receive the old version of my\n",
              "4  664_3  ...                                                                                                                                                     the store randomly give the old or the new version of my\n",
              "\n",
              "[5 rows x 4 columns]"
            ]
          },
          "metadata": {
            "tags": []
          },
          "execution_count": 88
        }
      ]
    },
    {
      "cell_type": "code",
      "metadata": {
        "id": "I9QM82KIdUWQ",
        "colab_type": "code",
        "outputId": "695723c8-0c53-46d4-c470-394947dc999c",
        "colab": {
          "base_uri": "https://localhost:8080/",
          "height": 303
        }
      },
      "source": [
        "tokenized_sentence=combined['clean'].apply(lambda x: x.split())\n",
        "# TRYING TO SPLIT TOKENIZE THE SENTENCES, BUT BECAUSE OF SOME ERROR ....."
      ],
      "execution_count": 89,
      "outputs": [
        {
          "output_type": "error",
          "ename": "AttributeError",
          "evalue": "ignored",
          "traceback": [
            "\u001b[0;31m---------------------------------------------------------------------------\u001b[0m",
            "\u001b[0;31mAttributeError\u001b[0m                            Traceback (most recent call last)",
            "\u001b[0;32m<ipython-input-89-16f78cb1264e>\u001b[0m in \u001b[0;36m<module>\u001b[0;34m()\u001b[0m\n\u001b[0;32m----> 1\u001b[0;31m \u001b[0mtokenized_sentence\u001b[0m\u001b[0;34m=\u001b[0m\u001b[0mcombined\u001b[0m\u001b[0;34m[\u001b[0m\u001b[0;34m'clean'\u001b[0m\u001b[0;34m]\u001b[0m\u001b[0;34m.\u001b[0m\u001b[0mapply\u001b[0m\u001b[0;34m(\u001b[0m\u001b[0;32mlambda\u001b[0m \u001b[0mx\u001b[0m\u001b[0;34m:\u001b[0m \u001b[0mx\u001b[0m\u001b[0;34m.\u001b[0m\u001b[0msplit\u001b[0m\u001b[0;34m(\u001b[0m\u001b[0;34m)\u001b[0m\u001b[0;34m)\u001b[0m\u001b[0;34m\u001b[0m\u001b[0;34m\u001b[0m\u001b[0m\n\u001b[0m\u001b[1;32m      2\u001b[0m \u001b[0;31m# TRYING TO SPLIT TOKENIZE THE SENTENCES, BUT BECAUSE OF SOME ERROR .....\u001b[0m\u001b[0;34m\u001b[0m\u001b[0;34m\u001b[0m\u001b[0;34m\u001b[0m\u001b[0m\n",
            "\u001b[0;32m/usr/local/lib/python3.6/dist-packages/pandas/core/series.py\u001b[0m in \u001b[0;36mapply\u001b[0;34m(self, func, convert_dtype, args, **kwds)\u001b[0m\n\u001b[1;32m   3846\u001b[0m             \u001b[0;32melse\u001b[0m\u001b[0;34m:\u001b[0m\u001b[0;34m\u001b[0m\u001b[0;34m\u001b[0m\u001b[0m\n\u001b[1;32m   3847\u001b[0m                 \u001b[0mvalues\u001b[0m \u001b[0;34m=\u001b[0m \u001b[0mself\u001b[0m\u001b[0;34m.\u001b[0m\u001b[0mastype\u001b[0m\u001b[0;34m(\u001b[0m\u001b[0mobject\u001b[0m\u001b[0;34m)\u001b[0m\u001b[0;34m.\u001b[0m\u001b[0mvalues\u001b[0m\u001b[0;34m\u001b[0m\u001b[0;34m\u001b[0m\u001b[0m\n\u001b[0;32m-> 3848\u001b[0;31m                 \u001b[0mmapped\u001b[0m \u001b[0;34m=\u001b[0m \u001b[0mlib\u001b[0m\u001b[0;34m.\u001b[0m\u001b[0mmap_infer\u001b[0m\u001b[0;34m(\u001b[0m\u001b[0mvalues\u001b[0m\u001b[0;34m,\u001b[0m \u001b[0mf\u001b[0m\u001b[0;34m,\u001b[0m \u001b[0mconvert\u001b[0m\u001b[0;34m=\u001b[0m\u001b[0mconvert_dtype\u001b[0m\u001b[0;34m)\u001b[0m\u001b[0;34m\u001b[0m\u001b[0;34m\u001b[0m\u001b[0m\n\u001b[0m\u001b[1;32m   3849\u001b[0m \u001b[0;34m\u001b[0m\u001b[0m\n\u001b[1;32m   3850\u001b[0m         \u001b[0;32mif\u001b[0m \u001b[0mlen\u001b[0m\u001b[0;34m(\u001b[0m\u001b[0mmapped\u001b[0m\u001b[0;34m)\u001b[0m \u001b[0;32mand\u001b[0m \u001b[0misinstance\u001b[0m\u001b[0;34m(\u001b[0m\u001b[0mmapped\u001b[0m\u001b[0;34m[\u001b[0m\u001b[0;36m0\u001b[0m\u001b[0;34m]\u001b[0m\u001b[0;34m,\u001b[0m \u001b[0mSeries\u001b[0m\u001b[0;34m)\u001b[0m\u001b[0;34m:\u001b[0m\u001b[0;34m\u001b[0m\u001b[0;34m\u001b[0m\u001b[0m\n",
            "\u001b[0;32mpandas/_libs/lib.pyx\u001b[0m in \u001b[0;36mpandas._libs.lib.map_infer\u001b[0;34m()\u001b[0m\n",
            "\u001b[0;32m<ipython-input-89-16f78cb1264e>\u001b[0m in \u001b[0;36m<lambda>\u001b[0;34m(x)\u001b[0m\n\u001b[0;32m----> 1\u001b[0;31m \u001b[0mtokenized_sentence\u001b[0m\u001b[0;34m=\u001b[0m\u001b[0mcombined\u001b[0m\u001b[0;34m[\u001b[0m\u001b[0;34m'clean'\u001b[0m\u001b[0;34m]\u001b[0m\u001b[0;34m.\u001b[0m\u001b[0mapply\u001b[0m\u001b[0;34m(\u001b[0m\u001b[0;32mlambda\u001b[0m \u001b[0mx\u001b[0m\u001b[0;34m:\u001b[0m \u001b[0mx\u001b[0m\u001b[0;34m.\u001b[0m\u001b[0msplit\u001b[0m\u001b[0;34m(\u001b[0m\u001b[0;34m)\u001b[0m\u001b[0;34m)\u001b[0m\u001b[0;34m\u001b[0m\u001b[0;34m\u001b[0m\u001b[0m\n\u001b[0m\u001b[1;32m      2\u001b[0m \u001b[0;31m# TRYING TO SPLIT TOKENIZE THE SENTENCES, BUT BECAUSE OF SOME ERROR .....\u001b[0m\u001b[0;34m\u001b[0m\u001b[0;34m\u001b[0m\u001b[0;34m\u001b[0m\u001b[0m\n",
            "\u001b[0;31mAttributeError\u001b[0m: 'float' object has no attribute 'split'"
          ]
        }
      ]
    },
    {
      "cell_type": "code",
      "metadata": {
        "id": "LgrtgVr6dUWT",
        "colab_type": "code",
        "outputId": "95397e27-2d4b-476a-a5c8-6f16489dacdd",
        "colab": {
          "base_uri": "https://localhost:8080/",
          "height": 1000
        }
      },
      "source": [
        "# FINDING OUT THE REASON FOR THE ERROR\n",
        "invalid_ids=[]\n",
        "print(len(combined))\n",
        "for x in range(len(combined)):\n",
        "    try: \n",
        "        combined['clean'][x].split()\n",
        "    except:\n",
        "        invalid_ids.append(combined['id'][x])\n",
        "        print(combined['clean'][x],combined['label'][x],combined['id'][x])"
      ],
      "execution_count": 90,
      "outputs": [
        {
          "output_type": "stream",
          "text": [
            "9925\n",
            "nan 0 691_2\n",
            "nan 0 757_6\n",
            "nan 0 763_7\n",
            "nan 0 782_3\n",
            "nan 0 843_9\n",
            "nan 0 850_3\n",
            "nan 0 884_4\n",
            "nan 0 1260_1\n",
            "nan 0 1304_12\n",
            "nan 0 1336_4\n",
            "nan 0 1343_2\n",
            "nan 0 1358_3\n",
            "nan 0 1415_1\n",
            "nan 0 1435_6\n",
            "nan 0 1443_2\n",
            "nan 0 1452_2\n",
            "nan 0 1466_1\n",
            "nan 0 1472_1\n",
            "nan 0 1488_12\n",
            "nan 0 1519_11\n",
            "nan 0 1520_1\n",
            "nan 0 1529_1\n",
            "nan 0 1540_1\n",
            "nan 0 1580_7\n",
            "nan 0 1595_3\n",
            "nan 0 1616_1\n",
            "nan 0 1634_6\n",
            "nan 0 1635_8\n",
            "nan 0 1645_9\n",
            "nan 0 1655_2\n",
            "nan 0 1666_1\n",
            "nan 0 1667_1\n",
            "nan 0 1685_1\n",
            "nan 0 1690_11\n",
            "nan 0 1701_8\n",
            "nan 0 1709_3\n",
            "nan 0 1713_11\n",
            "nan 0 1718_12\n",
            "nan 0 1720_1\n",
            "nan 0 1737_2\n",
            "nan 0 1741_8\n",
            "nan 0 1741_12\n",
            "nan 0 1744_3\n",
            "nan 0 1746_4\n",
            "nan 0 1748_3\n",
            "nan 0 1749_5\n",
            "nan 0 1749_11\n",
            "nan 0 1759_1\n",
            "nan 0 1760_4\n",
            "nan 0 1763_1\n",
            "nan 0 1768_2\n",
            "nan 0 1776_1\n",
            "nan 0 1872_1\n",
            "nan 0 0_243\n",
            "nan 0 0_364\n",
            "nan 0 0_427\n",
            "nan 0 0_432\n",
            "nan 0 0_503\n",
            "nan 0 0_604\n",
            "nan 0 0_630\n",
            "nan 0 0_684\n",
            "nan 0 0_736\n",
            "nan 0 0_738\n",
            "nan 0 0_742\n",
            "nan 0 0_1398\n",
            "nan 0 0_1432\n",
            "nan 0 0_1439\n",
            "nan 0 0_1483\n",
            "nan 0 0_1688\n",
            "nan 0 966_12\n",
            "nan 0 990_1\n",
            "nan 1 488\n",
            "nan 1 2007\n",
            "nan 0 458\n",
            "nan 0 1665\n",
            "nan 0 2155\n",
            "nan 0 2421\n",
            "nan 0 2600\n",
            "nan 0 2669\n",
            "nan 0 2803\n",
            "nan 0 2807\n",
            "nan 0 3151\n",
            "nan 0 3292\n",
            "nan 0 3342\n",
            "nan 0 3344\n",
            "nan 0 3458\n",
            "nan 0 3870\n",
            "nan 0 3925\n",
            "nan 0 4323\n",
            "nan 1 3842\n",
            "nan 1 3957\n",
            "nan 0 287\n",
            "nan 0 458\n",
            "nan 0 539\n",
            "nan 0 694\n",
            "nan 0 1665\n",
            "nan 0 2155\n",
            "nan 0 2421\n",
            "nan 0 2669\n",
            "nan 0 2803\n",
            "nan 0 2807\n",
            "nan 0 1409_2\n",
            "nan 0 5036\n",
            "nan 0 5444\n",
            "nan 0 5498\n"
          ],
          "name": "stdout"
        }
      ]
    },
    {
      "cell_type": "code",
      "metadata": {
        "id": "n039VbjFdUWW",
        "colab_type": "code",
        "outputId": "d39839d7-8f9a-49f1-816f-48af69bc47d5",
        "colab": {
          "base_uri": "https://localhost:8080/",
          "height": 1000
        }
      },
      "source": [
        "# GETTING THE INDEX OF THE ERRORENOUS DATA \n",
        "print('invalid trains')\n",
        "# ALl errors in the train data only!\n",
        "for x in invalid_ids:\n",
        "    print(train_data['sentence'][train_data['id']==x])\n",
        "    print(train_data['id'][train_data['id']==x])\n",
        "    \n",
        "# print('invalid valid')\n",
        "# for x in invalid_ids:    \n",
        "#     print(valid_data['sentence'][valid_data['id']==x])\n",
        "# print('invalid test')\n",
        "# for x in invalid_ids:\n",
        "#     print(test_data['sentence'][test_data['id']==x])    "
      ],
      "execution_count": 91,
      "outputs": [
        {
          "output_type": "stream",
          "text": [
            "invalid trains\n",
            "129    \"http://windowsphone.uservoice.com/forums/101801-feature-suggestions/suggestions/6080912-we-want-open-the-app-by-tap-the-quick-status-icon\"\n",
            "Name: sentence, dtype: object\n",
            "129    691_2\n",
            "Name: id, dtype: object\n",
            "307    \"onLoad=\"window.location='#april'\").\"\n",
            "Name: sentence, dtype: object\n",
            "307    757_6\n",
            "Name: id, dtype: object\n",
            "336    \"(common sense)\"\n",
            "Name: sentence, dtype: object\n",
            "336    763_7\n",
            "Name: id, dtype: object\n",
            "376    \"(I've also posted it over at the WP Community site, too.)\"\n",
            "Name: sentence, dtype: object\n",
            "376    782_3\n",
            "Name: id, dtype: object\n",
            "666    \"http://forums.wpcentral.com/windows-phone-apps/235446-wi-fi-analyzer-possible-wp8.html\"\n",
            "Name: sentence, dtype: object\n",
            "666    843_9\n",
            "Name: id, dtype: object\n",
            "695    \").\"\n",
            "Name: sentence, dtype: object\n",
            "695    850_3\n",
            "Name: id, dtype: object\n",
            "826    \"=[\"\n",
            "Name: sentence, dtype: object\n",
            "826    884_4\n",
            "Name: id, dtype: object\n",
            "1074    \"( I know that thinking up such a system isn't easy, as you would have to think carefully about abuses)\"\n",
            "Name: sentence, dtype: object\n",
            "1074    1260_1\n",
            "Name: id, dtype: object\n",
            "1238    \"VPN !!!\"\n",
            "Name: sentence, dtype: object\n",
            "1238    1304_12\n",
            "Name: id, dtype: object\n",
            "1287    \"http://www.pitorque.de/MisterGoodcat/post/Somethings-Missing-from-the-WebBrowser-Control.aspx\"\n",
            "Name: sentence, dtype: object\n",
            "1287    1336_4\n",
            "Name: id, dtype: object\n",
            "1289    \"0,99$)'.\"\n",
            "Name: sentence, dtype: object\n",
            "1289    1343_2\n",
            "Name: id, dtype: object\n",
            "1310    \"Instagram.\"\n",
            "Name: sentence, dtype: object\n",
            "1310    1358_3\n",
            "Name: id, dtype: object\n",
            "1407    \"http://wpdev.uservoice.com/forums/110705-app-platform/suggestions/1908267-extend-the-api-to-query-phone-volume-and-vibration\"\n",
            "Name: sentence, dtype: object\n",
            "1407    1415_1\n",
            "Name: id, dtype: object\n",
            "1429    \".\"\n",
            "Name: sentence, dtype: object\n",
            "1429    1435_6\n",
            "Name: id, dtype: object\n",
            "1446    \"</p> <img src=\"http://farm7.staticflickr.com/6096/7028831993_5467feca35.jpg\"; /> <p>3.\"\n",
            "Name: sentence, dtype: object\n",
            "1446    1443_2\n",
            "Name: id, dtype: object\n",
            "1465    \"_____wifi_______________\"\n",
            "Name: sentence, dtype: object\n",
            "1465    1452_2\n",
            "Name: id, dtype: object\n",
            "1491    \"(Even half way round the world from where we wanted to show!)\"\n",
            "Name: sentence, dtype: object\n",
            "1491    1466_1\n",
            "Name: id, dtype: object\n",
            "1498    \"http://connect.microsoft.com/VisualStudio/feedback/details/613932/windows-phone-7-visual-studio-generates-uncompilable-code-when-adding-an-image-to-a-resource-file\"\n",
            "Name: sentence, dtype: object\n",
            "1498    1472_1\n",
            "Name: id, dtype: object\n",
            "1542    \"http://wpdev.uservoice.com/forums/110705-app-platform/suggestions/1908309-enable-microsoft-xna-framework-media-visualization\"\n",
            "Name: sentence, dtype: object\n",
            "1542    1488_12\n",
            "Name: id, dtype: object\n",
            "1634    \"(implementing new things for us is always a good thing in my opinion !)\"\n",
            "Name: sentence, dtype: object\n",
            "1634    1519_11\n",
            "Name: id, dtype: object\n",
            "1635    \"(sorry if my English is bad, that's a foreign language for me, I'm French)\"\n",
            "Name: sentence, dtype: object\n",
            "1635    1520_1\n",
            "Name: id, dtype: object\n",
            "1643    \"BTW: http://channel9.msdn.com/events/BUILD/BUILD2011/APP-827T\"\n",
            "Name: sentence, dtype: object\n",
            "1643    1529_1\n",
            "Name: id, dtype: object\n",
            "1655    \"_______________________________________________________________________________________________________________________________________________________________________________________________________________________________________________________________ ___________________________________________________________________________________________________________________________________________...\n",
            "Name: sentence, dtype: object\n",
            "1655    1540_1\n",
            "Name: id, dtype: object\n",
            "1704    \"http://yves.vg/testcases/ie_mobi/keyup_event.html\"\n",
            "Name: sentence, dtype: object\n",
            "1704    1580_7\n",
            "Name: id, dtype: object\n",
            "1722    \":(\"\n",
            "Name: sentence, dtype: object\n",
            "1722    1595_3\n",
            "Name: id, dtype: object\n",
            "1745    \"_________________________________________ ________________________________________________________________ ______________________________________________________________________________ ____________________________________________________________________________________________________ _________________________________________________1500____________________________________ 2_________________...\n",
            "Name: sentence, dtype: object\n",
            "1745    1616_1\n",
            "Name: id, dtype: object\n",
            "1752    \"_______________________________________________________________________________________________________ ________________________________________________________________________________________________________________________________________________________________________________________________________________________________________________________________________ __________________________...\n",
            "Name: sentence, dtype: object\n",
            "1752    1634_6\n",
            "Name: id, dtype: object\n",
            "1753    \"_______________________________________________________________ WP7_____________________________________________________________________________________ ________________________________________________________________________________________________________________________________ _________________________________________________________________________________________________________________...\n",
            "Name: sentence, dtype: object\n",
            "1753    1635_8\n",
            "Name: id, dtype: object\n",
            "1761    \"_______________30_______________________________________æ ___________________________________________________ ______æ ___________________________________________________________________________________________________________________________________________________________________________________ _________10_____________________________________________________________________________\"\n",
            "Name: sentence, dtype: object\n",
            "1761    1645_9\n",
            "Name: id, dtype: object\n",
            "1768    \"), zune pass.\"\n",
            "Name: sentence, dtype: object\n",
            "1768    1655_2\n",
            "Name: id, dtype: object\n",
            "1788    \"__________________________________________________\"\n",
            "Name: sentence, dtype: object\n",
            "1788    1666_1\n",
            "Name: id, dtype: object\n",
            "1791    \"____________________________GBK____________\"\n",
            "Name: sentence, dtype: object\n",
            "1791    1667_1\n",
            "Name: id, dtype: object\n",
            "1832    \"THX.\"\n",
            "Name: sentence, dtype: object\n",
            "1832    1685_1\n",
            "Name: id, dtype: object\n",
            "1864    \"\"If the server sends HTTPOnly cookies, you should create a System.Net.CookieContainer on the request to hold the cookies, although you will not see or be able to access the cookies that are stored in the container.\"\"\n",
            "Name: sentence, dtype: object\n",
            "1864    1690_11\n",
            "Name: id, dtype: object\n",
            "1894    \"AppHub___________________________DreamSpark_____________________________________________________________________________________ 3 ______________________________ _______________________________________________________________3_________________________________________________________________________________________________________________________________________________________________________...\n",
            "Name: sentence, dtype: object\n",
            "1894    1701_8\n",
            "Name: id, dtype: object\n",
            "1920    \"WebBrowser___________________________________________________________________________________________________\"\n",
            "Name: sentence, dtype: object\n",
            "1920    1709_3\n",
            "Name: id, dtype: object\n",
            "1938    \"_______________________________________________________________________________________________________________________________________________________________________________________________\"\n",
            "Name: sentence, dtype: object\n",
            "1938    1713_11\n",
            "Name: id, dtype: object\n",
            "1971    \"_____________________________æ __________________________________________________ __________________________________________________________\"\n",
            "Name: sentence, dtype: object\n",
            "1971    1718_12\n",
            "Name: id, dtype: object\n",
            "1987    \"#NAME?\"\n",
            "Name: sentence, dtype: object\n",
            "1987    1720_1\n",
            "Name: id, dtype: object\n",
            "2022    \"______________________________________________________________________________________________________________________________1__________________________________________________________________ _________________________________________________________________________________________________________________________________________________________________________________________________________...\n",
            "Name: sentence, dtype: object\n",
            "2022    1737_2\n",
            "Name: id, dtype: object\n",
            "2043    \"APPHUB ___________________________________________________________________________________________________________________________________________________ _____________________________________________________________________________________________ __________________________________________________________________________________________________________________\"\n",
            "Name: sentence, dtype: object\n",
            "2043    1741_8\n",
            "Name: id, dtype: object\n",
            "2047    \"Xbox360_________________________________________________________________________________________________________WindowsPhone7__________________________________________________________________ ______________________________________________________________________________________________________________________________________ ____________________________________________________________________...\n",
            "Name: sentence, dtype: object\n",
            "2047    1741_12\n",
            "Name: id, dtype: object\n",
            "2056    \"INFO URLS: http://www.codeproject.com/Questions/299409/WP7-Checkbox-List-within-ListBox-check-problems http://forums.create.msdn.com/forums/t/96726.aspx\"\n",
            "Name: sentence, dtype: object\n",
            "2056    1744_3\n",
            "Name: id, dtype: object\n",
            "2062    \"__________________________________________________________________________________________________________________________________API____________________________________ __________________________________________________________________NG________________________________________________________________________________________________________________________________\"\n",
            "Name: sentence, dtype: object\n",
            "2062    1746_4\n",
            "Name: id, dtype: object\n",
            "2066    \"____________________________________________________________________________________ _______________________________________________________________________________________ ___________________________________________________________________________\"\n",
            "Name: sentence, dtype: object\n",
            "2066    1748_3\n",
            "Name: id, dtype: object\n",
            "2074    \"_________________________________________________________________________________________________________________________________________________________________ EmailComposeTask___________________________________________________________________________________________________________________________\"\n",
            "Name: sentence, dtype: object\n",
            "2074    1749_5\n",
            "Name: id, dtype: object\n",
            "2080    \"(Thanks to ColinEberhardt for initially raising this issue)\"\n",
            "Name: sentence, dtype: object\n",
            "2080    1749_11\n",
            "Name: id, dtype: object\n",
            "2100    \"(ie like Windows scheduled tasks or linux cron jobs).\"\n",
            "Name: sentence, dtype: object\n",
            "2100    1759_1\n",
            "Name: id, dtype: object\n",
            "2105    \"_______________MediaElement_________HTTP__________________Cookie_________________________________________MediaElement___CookieContainer____________________________________\"\n",
            "Name: sentence, dtype: object\n",
            "2105    1760_4\n",
            "Name: id, dtype: object\n",
            "2126    \"______IME__________________________________________________________________________________________________________________________________________________________________________ ________________________________________________________________________________________________________________________\"\n",
            "Name: sentence, dtype: object\n",
            "2126    1763_1\n",
            "Name: id, dtype: object\n",
            "2140    \"BingMapsDirectionsTask_________________________________________________________________________________\"\n",
            "Name: sentence, dtype: object\n",
            "2140    1768_2\n",
            "Name: id, dtype: object\n",
            "2162    \"__________________________________________________________________ _________________________________________________________________________________ ____________________________________________________________________________________ _______________________________________________________________________________________________ _________________________________________________________________...\n",
            "Name: sentence, dtype: object\n",
            "2162    1776_1\n",
            "Name: id, dtype: object\n",
            "2500    \"(Windows 8.0 projects, when updated to Windows 8.1 projects, lose their ability to support Windows 8.0!)\"\n",
            "Name: sentence, dtype: object\n",
            "2500    1872_1\n",
            "Name: id, dtype: object\n",
            "2725    \"Xaml.\"\n",
            "Name: sentence, dtype: object\n",
            "2725    0_243\n",
            "Name: id, dtype: object\n",
            "2822    \";)\"\"\n",
            "Name: sentence, dtype: object\n",
            "2822    0_364\n",
            "Name: id, dtype: object\n",
            "2877    \"- .\"\n",
            "Name: sentence, dtype: object\n",
            "2877    0_427\n",
            "Name: id, dtype: object\n",
            "2882    \"etc.\"\n",
            "Name: sentence, dtype: object\n",
            "2882    0_432\n",
            "Name: id, dtype: object\n",
            "2945    \".\"\"\n",
            "Name: sentence, dtype: object\n",
            "2945    0_503\n",
            "Name: id, dtype: object\n",
            "3036    \"appxupload).\"\"\n",
            "Name: sentence, dtype: object\n",
            "3036    0_604\n",
            "Name: id, dtype: object\n",
            "3062    \"1\"\n",
            "Name: sentence, dtype: object\n",
            "3062    0_630\n",
            "Name: id, dtype: object\n",
            "3112    \"http://www.moqthis.com/ http://nsubstitute.github.io/ http://fakeiteasy.github.io/ http://www.telerik.com/justmock/free-mocking http://nmock3.codeplex.com/\"\n",
            "Name: sentence, dtype: object\n",
            "3112    0_684\n",
            "Name: id, dtype: object\n",
            "3162    \"3\"\n",
            "Name: sentence, dtype: object\n",
            "3162    0_736\n",
            "Name: id, dtype: object\n",
            "3164    \"4\"\n",
            "Name: sentence, dtype: object\n",
            "3164    0_738\n",
            "Name: id, dtype: object\n",
            "3168    \"2\"\n",
            "Name: sentence, dtype: object\n",
            "3168    0_742\n",
            "Name: id, dtype: object\n",
            "3496    \"http://www.spritzinc.com/about/; \"...reading becomes more efficient because spritzing_____ increases the time your brain spends processing content without having to waste time searching for the next word...\"\"\n",
            "Name: sentence, dtype: object\n",
            "3496    0_1398\n",
            "Name: id, dtype: object\n",
            "3529    \"http://mrreaderblog.curioustimes.de/post/52060909928/supported-google-reader-alternatives-part-two\"\n",
            "Name: sentence, dtype: object\n",
            "3529    0_1432\n",
            "Name: id, dtype: object\n",
            "3536    \"http://getpocket.com/developer/docs/authentication\"\n",
            "Name: sentence, dtype: object\n",
            "3536    0_1439\n",
            "Name: id, dtype: object\n",
            "3580    \"(I am using Safari)\"\"\n",
            "Name: sentence, dtype: object\n",
            "3580    0_1483\n",
            "Name: id, dtype: object\n",
            "3784    \"(Pages created with Wordpress allow this.)\"\"\n",
            "Name: sentence, dtype: object\n",
            "3784    0_1688\n",
            "Name: id, dtype: object\n",
            "4495    \"http://msdn.microsoft.com/en-us/library/windowsphone/develop/jj681688(v=vs.105).aspx\"\n",
            "Name: sentence, dtype: object\n",
            "4495    966_12\n",
            "Name: id, dtype: object\n",
            "4621    \"(no offense MVVM Light ;) )\"\n",
            "Name: sentence, dtype: object\n",
            "4621    990_1\n",
            "Name: id, dtype: object\n",
            "4846    \"(If you are also using PInvoke.Kernel32.dll please install the nuget-package directly to the UWP-project automatic references added by other nuget-packages like PCLCrypto add an older version verify the version of PInvoke.Kernel32.dll in your bin/x86/Debug build output folder it should be at least 0.5.147.53150)\"\n",
            "Name: sentence, dtype: object\n",
            "4846    488\n",
            "Name: id, dtype: object\n",
            "5051    \"(By the way speech recognition should be handled the same way).\"\n",
            "Name: sentence, dtype: object\n",
            "5051    2007\n",
            "Name: id, dtype: object\n",
            "5341    \"(This package contains our code compiled with the native tool chain)\"\n",
            "7153      (This package contains our code compiled with the native tool chain)\n",
            "Name: sentence, dtype: object\n",
            "5341    458\n",
            "7153    458\n",
            "Name: id, dtype: object\n",
            "5731    \"(Although curiously TileBrush is still the base class for brushes... just without tiling :'( )\"\n",
            "8026      (Although curiously TileBrush is still the base class for brushes... just without tiling :'( )\n",
            "Name: sentence, dtype: object\n",
            "5731    1665\n",
            "8026    1665\n",
            "Name: id, dtype: object\n",
            "5870    \"(sorry for the photo could not do a regular screen shot at the moment!)\"\n",
            "8201      (sorry for the photo could not do a regular screen shot at the moment!)\n",
            "Name: sentence, dtype: object\n",
            "5870    2155\n",
            "8201    2155\n",
            "Name: id, dtype: object\n",
            "5951    \"(I'd also be OK using a Xaml Path.)\"\n",
            "8317      (I'd also be OK using a Xaml Path.)\n",
            "Name: sentence, dtype: object\n",
            "5951    2421\n",
            "8317    2421\n",
            "Name: id, dtype: object\n",
            "6007    \"(Originally posted to https://developercommunity.visualstudio.com/content/problem/76453/menuflyoutpresenter-displayed-with-wrong-backgroun.html)\"\n",
            "Name: sentence, dtype: object\n",
            "6007    2600\n",
            "Name: id, dtype: object\n",
            "6030    \"(Note that this is not ECDSA; the use of elliptic curve keys in a signature mode)\"\n",
            "8425      (Note that this is not ECDSA; the use of elliptic curve keys in a signature mode)\n",
            "Name: sentence, dtype: object\n",
            "6030    2669\n",
            "8425    2669\n",
            "Name: id, dtype: object\n",
            "6073    \"(Event registration order doesn't seem to make a difference)\"\n",
            "8480      (Event registration order doesn't seem to make a difference)\n",
            "Name: sentence, dtype: object\n",
            "6073    2803\n",
            "8480    2803\n",
            "Name: id, dtype: object\n",
            "6076    \"(The SplitView captures the first BackRequested rather than the page navigation)\"\n",
            "8482      (The SplitView captures the first BackRequested rather than the page navigation)\n",
            "Name: sentence, dtype: object\n",
            "6076    2807\n",
            "8482    2807\n",
            "Name: id, dtype: object\n",
            "6190    \"Thankyou\"\n",
            "Name: sentence, dtype: object\n",
            "6190    3151\n",
            "Name: id, dtype: object\n",
            "6247    \"(NetworkInformation object not available etc.)\"\n",
            "Name: sentence, dtype: object\n",
            "6247    3292\n",
            "Name: id, dtype: object\n",
            "6266    \"(Ofcourse I'm using Windwos 10 Creators Update Version.)\"\n",
            "Name: sentence, dtype: object\n",
            "6266    3342\n",
            "Name: id, dtype: object\n",
            "6267    \"(neither foreground nor FullTrustProcess)\"\n",
            "Name: sentence, dtype: object\n",
            "6267    3344\n",
            "Name: id, dtype: object\n",
            "6319    \"(Like Photo app)\"\n",
            "Name: sentence, dtype: object\n",
            "6319    3458\n",
            "Name: id, dtype: object\n",
            "6464    \"(I already have a database file encrypted by SQL Cipher and I just have to read the records)\"\n",
            "Name: sentence, dtype: object\n",
            "6464    3870\n",
            "Name: id, dtype: object\n",
            "6480    \" <td style='...'>My teste here</td>\"\n",
            "Name: sentence, dtype: object\n",
            "6480    3925\n",
            "Name: id, dtype: object\n",
            "6625    \"(Exception from HRESULT: 0x80070003)\"\n",
            "Name: sentence, dtype: object\n",
            "6625    4323\n",
            "Name: id, dtype: object\n",
            "6818    \"(Compare the UI usage with Google Chrome for example.)\"\n",
            "Name: sentence, dtype: object\n",
            "6818    3842\n",
            "Name: id, dtype: object\n",
            "6828    \"(An optional bonus would be to allow the user to rotate the items.)\"\n",
            "Name: sentence, dtype: object\n",
            "6828    3957\n",
            "Name: id, dtype: object\n",
            "7093    \"(I also created a few test groups I can't delete in the past as part of my exploration of the dashboard.)\"\n",
            "Name: sentence, dtype: object\n",
            "7093    287\n",
            "Name: id, dtype: object\n",
            "5341    \"(This package contains our code compiled with the native tool chain)\"\n",
            "7153      (This package contains our code compiled with the native tool chain)\n",
            "Name: sentence, dtype: object\n",
            "5341    458\n",
            "7153    458\n",
            "Name: id, dtype: object\n",
            "7187    (not everybody cares about drawing pixels on a paper and placing everything that way.... line numbers is enough for a control panel type setttings page...)\n",
            "Name: sentence, dtype: object\n",
            "7187    539\n",
            "Name: id, dtype: object\n",
            "7257    (It's does with Html but not with Text.)\n",
            "Name: sentence, dtype: object\n",
            "7257    694\n",
            "Name: id, dtype: object\n",
            "5731    \"(Although curiously TileBrush is still the base class for brushes... just without tiling :'( )\"\n",
            "8026      (Although curiously TileBrush is still the base class for brushes... just without tiling :'( )\n",
            "Name: sentence, dtype: object\n",
            "5731    1665\n",
            "8026    1665\n",
            "Name: id, dtype: object\n",
            "5870    \"(sorry for the photo could not do a regular screen shot at the moment!)\"\n",
            "8201      (sorry for the photo could not do a regular screen shot at the moment!)\n",
            "Name: sentence, dtype: object\n",
            "5870    2155\n",
            "8201    2155\n",
            "Name: id, dtype: object\n",
            "5951    \"(I'd also be OK using a Xaml Path.)\"\n",
            "8317      (I'd also be OK using a Xaml Path.)\n",
            "Name: sentence, dtype: object\n",
            "5951    2421\n",
            "8317    2421\n",
            "Name: id, dtype: object\n",
            "6030    \"(Note that this is not ECDSA; the use of elliptic curve keys in a signature mode)\"\n",
            "8425      (Note that this is not ECDSA; the use of elliptic curve keys in a signature mode)\n",
            "Name: sentence, dtype: object\n",
            "6030    2669\n",
            "8425    2669\n",
            "Name: id, dtype: object\n",
            "6073    \"(Event registration order doesn't seem to make a difference)\"\n",
            "8480      (Event registration order doesn't seem to make a difference)\n",
            "Name: sentence, dtype: object\n",
            "6073    2803\n",
            "8480    2803\n",
            "Name: id, dtype: object\n",
            "6076    \"(The SplitView captures the first BackRequested rather than the page navigation)\"\n",
            "8482      (The SplitView captures the first BackRequested rather than the page navigation)\n",
            "Name: sentence, dtype: object\n",
            "6076    2807\n",
            "8482    2807\n",
            "Name: id, dtype: object\n",
            "Series([], Name: sentence, dtype: object)\n",
            "Series([], Name: id, dtype: object)\n",
            "Series([], Name: sentence, dtype: object)\n",
            "Series([], Name: id, dtype: object)\n",
            "Series([], Name: sentence, dtype: object)\n",
            "Series([], Name: id, dtype: object)\n",
            "Series([], Name: sentence, dtype: object)\n",
            "Series([], Name: id, dtype: object)\n"
          ],
          "name": "stdout"
        }
      ]
    },
    {
      "cell_type": "code",
      "metadata": {
        "id": "aLzapoIvdUWZ",
        "colab_type": "code",
        "colab": {}
      },
      "source": [
        "# CONVERTING OUT THE NAN WORDS MANUALL TO EMPTY ARRAY OF STRINGS\n",
        "def tokenize(s):\n",
        "    try:\n",
        "        return s.split()\n",
        "    except:\n",
        "        return ['']"
      ],
      "execution_count": 0,
      "outputs": []
    },
    {
      "cell_type": "code",
      "metadata": {
        "id": "zAZ9_Nk-dUWc",
        "colab_type": "code",
        "outputId": "3469c646-bb99-4244-a433-8792c10e762d",
        "colab": {
          "base_uri": "https://localhost:8080/",
          "height": 238
        }
      },
      "source": [
        "tokenized_sentence=combined['clean'].apply(lambda x: tokenize(x))\n",
        "tokenized_sentence"
      ],
      "execution_count": 93,
      "outputs": [
        {
          "output_type": "execute_result",
          "data": {
            "text/plain": [
              "0       [please, enable, remove, language, code, from, the, dev, center, for, example, if, you, ever, select, and, and, you, publish, this, to, the, store, then, it, cause, tile, localization, to, show, the, en, u, tile, localization, which, be, bad]\n",
              "1                                                                   [note, in, your, file, there, be, a, entry, like, this, when, i, remove, the, language, code, and, publish, my, new, version, the, old, version, still, remains, in, the, store, with]\n",
              "2                                                                                                                                          [mean, the, new, version, not, fully, replace, the, old, version, and, this, cause, me, very, serious, problem]\n",
              "3                                                                                                                                                                                    [some, of, my, user, will, still, receive, the, old, version, of, my]\n",
              "4                                                                                                                                                                                    [the, store, randomly, give, the, old, or, the, new, version, of, my]\n",
              "                                                                                                                               ...                                                                                                                        \n",
              "9920                                                                                                                                                                                                                      [it, could, be, something, like]\n",
              "9921                                                                                                                                                                                                                                    [for, input, node]\n",
              "9922                                                                                                                                                                                                               [it, would, be, very, very, appreciate]\n",
              "9923                                                                                                                                                               [i, have, make, an, when, i, search, for, it, pop, up, and, my, be, not, any, of, them]\n",
              "9924                                                                                                                                                      [i, just, chat, to, support, they, told, me, that, it, be, because, the, name, be, too, generic]\n",
              "Name: clean, Length: 9925, dtype: object"
            ]
          },
          "metadata": {
            "tags": []
          },
          "execution_count": 93
        }
      ]
    },
    {
      "cell_type": "code",
      "metadata": {
        "id": "DIluEL-mdUWf",
        "colab_type": "code",
        "colab": {}
      },
      "source": [
        "# CONFIGURING THE MODEL\n",
        "# model_w2v = gensim.models.Word2Vec(\n",
        "#     tokenized_sentence,\n",
        "#     size=200, # Number of features\n",
        "#     window=5, # Context Window Size\n",
        "#     min_count=2, \n",
        "#     sg=1, # 1 for skip gram model\n",
        "#     hs=0,\n",
        "#     negative=10, # negative sampling\n",
        "#     workers=2, # no of cores\n",
        "#     seed=34,\n",
        "# )"
      ],
      "execution_count": 0,
      "outputs": []
    },
    {
      "cell_type": "code",
      "metadata": {
        "id": "rpK_OM4mdUWh",
        "colab_type": "code",
        "colab": {}
      },
      "source": [
        "# SAVING AND LOADING THE MODEL AGAIN\n",
        "# path='./models/w2v.model'\n",
        "# model_w2v.save(path)\n",
        "# model_w2v=gensim.models.Word2Vec.load(path)"
      ],
      "execution_count": 0,
      "outputs": []
    },
    {
      "cell_type": "code",
      "metadata": {
        "id": "DB6RInfndUWk",
        "colab_type": "code",
        "outputId": "b08978d3-f248-485c-cb48-7dd8fca0e61b",
        "colab": {}
      },
      "source": [
        "# TRAINING THE WORD TO VECTOR MODEL\n",
        "# model_w2v.train(tokenized_sentence,total_examples=len(tokenized_sentence),epochs=20)"
      ],
      "execution_count": 0,
      "outputs": [
        {
          "output_type": "execute_result",
          "data": {
            "text/plain": [
              "(1764322, 2080680)"
            ]
          },
          "metadata": {
            "tags": []
          },
          "execution_count": 51
        }
      ]
    },
    {
      "cell_type": "code",
      "metadata": {
        "id": "kWR5J3nIdUWn",
        "colab_type": "code",
        "outputId": "fe952c9b-dbc2-4827-9a54-d26ff136580b",
        "colab": {
          "base_uri": "https://localhost:8080/",
          "height": 202
        }
      },
      "source": [
        "# USING PRETRAINED WORD TO VEC MODEL\n",
        "!wget -P /content/ -c \"https://s3.amazonaws.com/dl4j-distribution/GoogleNews-vectors-negative300.bin.gz\""
      ],
      "execution_count": 12,
      "outputs": [
        {
          "output_type": "stream",
          "text": [
            "--2020-04-01 11:31:02--  https://s3.amazonaws.com/dl4j-distribution/GoogleNews-vectors-negative300.bin.gz\n",
            "Resolving s3.amazonaws.com (s3.amazonaws.com)... 52.217.37.142\n",
            "Connecting to s3.amazonaws.com (s3.amazonaws.com)|52.217.37.142|:443... connected.\n",
            "HTTP request sent, awaiting response... 200 OK\n",
            "Length: 1647046227 (1.5G) [application/x-gzip]\n",
            "Saving to: ‘/content/GoogleNews-vectors-negative300.bin.gz’\n",
            "\n",
            "GoogleNews-vectors- 100%[===================>]   1.53G  76.0MB/s    in 23s     \n",
            "\n",
            "2020-04-01 11:31:26 (68.3 MB/s) - ‘/content/GoogleNews-vectors-negative300.bin.gz’ saved [1647046227/1647046227]\n",
            "\n"
          ],
          "name": "stdout"
        }
      ]
    },
    {
      "cell_type": "code",
      "metadata": {
        "id": "qkHu6Gz6dUWp",
        "colab_type": "code",
        "colab": {}
      },
      "source": [
        "!gzip -d /content/GoogleNews-vectors-negative300.bin.gz "
      ],
      "execution_count": 0,
      "outputs": []
    },
    {
      "cell_type": "code",
      "metadata": {
        "scrolled": true,
        "id": "ERVMevTydUWs",
        "colab_type": "code",
        "outputId": "3515ace0-23fd-40a1-ddfa-7b17bfc47454",
        "colab": {
          "base_uri": "https://localhost:8080/",
          "height": 306
        }
      },
      "source": [
        "# USING PRETRAINED WORD TO VEC MODEL\n",
        "model_w2v = gensim.models.KeyedVectors.load_word2vec_format('/content/GoogleNews-vectors-negative300.bin', binary=True)\n",
        "model_w2v.wv.most_similar(positive='allow')"
      ],
      "execution_count": 14,
      "outputs": [
        {
          "output_type": "stream",
          "text": [
            "/usr/local/lib/python3.6/dist-packages/smart_open/smart_open_lib.py:410: UserWarning: This function is deprecated, use smart_open.open instead. See the migration notes for details: https://github.com/RaRe-Technologies/smart_open/blob/master/README.rst#migrating-to-the-new-open-function\n",
            "  'See the migration notes for details: %s' % _MIGRATION_NOTES_URL\n",
            "/usr/local/lib/python3.6/dist-packages/ipykernel_launcher.py:2: DeprecationWarning: Call to deprecated `wv` (Attribute will be removed in 4.0.0, use self instead).\n",
            "  \n",
            "/usr/local/lib/python3.6/dist-packages/gensim/matutils.py:737: FutureWarning: Conversion of the second argument of issubdtype from `int` to `np.signedinteger` is deprecated. In future, it will be treated as `np.int64 == np.dtype(int).type`.\n",
            "  if np.issubdtype(vec.dtype, np.int):\n"
          ],
          "name": "stderr"
        },
        {
          "output_type": "execute_result",
          "data": {
            "text/plain": [
              "[('enable', 0.749002993106842),\n",
              " ('allowing', 0.6995344161987305),\n",
              " ('allows', 0.6941529512405396),\n",
              " ('allowed', 0.6417946219444275),\n",
              " ('require', 0.6161295175552368),\n",
              " ('enabling', 0.595292329788208),\n",
              " ('enabled', 0.5854589343070984),\n",
              " ('enables', 0.5658420324325562),\n",
              " ('let', 0.5566527843475342),\n",
              " ('Allow', 0.5466748476028442)]"
            ]
          },
          "metadata": {
            "tags": []
          },
          "execution_count": 14
        }
      ]
    },
    {
      "cell_type": "code",
      "metadata": {
        "id": "irmbFCJTdUWv",
        "colab_type": "code",
        "colab": {}
      },
      "source": [
        "def word_vector(tokens,size,label):\n",
        "    vec= np.zeros(size).reshape((1,size))\n",
        "    count=0\n",
        "    for word in tokens:\n",
        "        try:\n",
        "            vec+=model_w2v[word].reshape((1,size))\n",
        "            count+=1\n",
        "        except KeyError:\n",
        "            continue\n",
        "            #  word not in model\n",
        "    if count!=0:\n",
        "      vec/=count\n",
        "    return vec   "
      ],
      "execution_count": 0,
      "outputs": []
    },
    {
      "cell_type": "code",
      "metadata": {
        "id": "SjNXJYQDdUWz",
        "colab_type": "code",
        "outputId": "b374f8ae-cea5-46f2-b83f-6a2fa63ad1e8",
        "colab": {
          "base_uri": "https://localhost:8080/",
          "height": 1000
        }
      },
      "source": [
        "model_w2v['should']"
      ],
      "execution_count": 95,
      "outputs": [
        {
          "output_type": "execute_result",
          "data": {
            "text/plain": [
              "array([-0.03442383,  0.04174805,  0.24902344,  0.22851562, -0.14453125,\n",
              "       -0.01391602,  0.14550781, -0.01879883, -0.00750732,  0.06835938,\n",
              "       -0.10986328, -0.06640625,  0.06835938,  0.02258301, -0.02661133,\n",
              "        0.07324219,  0.03979492,  0.09814453, -0.09082031, -0.06176758,\n",
              "       -0.01287842, -0.10009766,  0.12792969,  0.01464844,  0.0378418 ,\n",
              "       -0.01660156, -0.00424194,  0.12695312, -0.01635742,  0.13378906,\n",
              "       -0.05664062,  0.02575684, -0.10400391, -0.04321289,  0.15234375,\n",
              "       -0.03637695,  0.07324219, -0.03320312,  0.05151367, -0.13378906,\n",
              "        0.17871094,  0.01202393,  0.19726562, -0.08154297, -0.03759766,\n",
              "       -0.09082031,  0.07421875,  0.08789062, -0.04663086, -0.22167969,\n",
              "       -0.08007812,  0.11621094, -0.07666016,  0.23535156,  0.09277344,\n",
              "        0.15332031,  0.05322266,  0.00186157,  0.00793457, -0.05688477,\n",
              "       -0.03930664,  0.10253906, -0.20703125, -0.06933594, -0.03955078,\n",
              "        0.05639648, -0.10742188,  0.26367188, -0.06494141, -0.06591797,\n",
              "        0.07666016,  0.06640625,  0.2421875 ,  0.02307129, -0.203125  ,\n",
              "       -0.04394531,  0.28125   ,  0.296875  ,  0.02416992,  0.12792969,\n",
              "        0.03015137, -0.00540161,  0.09667969, -0.00177765, -0.08544922,\n",
              "        0.04174805, -0.00078964,  0.06347656,  0.19628906,  0.125     ,\n",
              "        0.09765625,  0.05957031, -0.0213623 , -0.22949219,  0.01165771,\n",
              "       -0.11572266,  0.06005859,  0.08935547,  0.06298828,  0.07568359,\n",
              "        0.0703125 , -0.05688477, -0.01794434,  0.08886719, -0.1640625 ,\n",
              "        0.10302734, -0.20898438, -0.09863281,  0.109375  ,  0.07910156,\n",
              "       -0.22558594, -0.04370117, -0.15722656,  0.14355469,  0.11035156,\n",
              "       -0.0234375 ,  0.09179688,  0.10400391,  0.1484375 ,  0.09716797,\n",
              "       -0.08154297,  0.13574219, -0.14257812,  0.03442383, -0.22363281,\n",
              "       -0.12597656, -0.06884766, -0.06542969,  0.07373047, -0.02453613,\n",
              "       -0.0703125 , -0.07128906, -0.19628906, -0.14648438, -0.125     ,\n",
              "       -0.16113281,  0.01287842, -0.05615234,  0.11914062,  0.17480469,\n",
              "        0.07519531, -0.125     ,  0.16699219, -0.05102539,  0.04101562,\n",
              "       -0.02844238,  0.02722168, -0.20605469,  0.06298828, -0.08300781,\n",
              "       -0.05859375,  0.06738281, -0.01550293, -0.15527344,  0.07910156,\n",
              "        0.03979492, -0.05566406, -0.09619141, -0.07714844, -0.00133514,\n",
              "        0.140625  , -0.01843262,  0.1484375 ,  0.02062988, -0.05053711,\n",
              "       -0.04370117, -0.12402344,  0.05883789,  0.08740234, -0.04296875,\n",
              "       -0.20214844, -0.10253906, -0.12597656,  0.11279297,  0.06835938,\n",
              "       -0.03759766,  0.140625  ,  0.00195312,  0.05053711,  0.14257812,\n",
              "       -0.07861328,  0.03417969,  0.01818848,  0.05688477,  0.04711914,\n",
              "       -0.20507812, -0.13183594, -0.11572266,  0.17578125,  0.16308594,\n",
              "        0.01672363,  0.06079102,  0.01544189,  0.00741577,  0.09472656,\n",
              "       -0.09423828, -0.18554688, -0.04125977,  0.01672363, -0.16699219,\n",
              "        0.02770996,  0.04638672, -0.03369141, -0.01916504, -0.15234375,\n",
              "        0.02770996, -0.09960938,  0.02661133,  0.14257812, -0.09912109,\n",
              "       -0.12304688,  0.05200195,  0.08007812,  0.20507812, -0.17773438,\n",
              "        0.04663086,  0.13769531, -0.1171875 , -0.05004883,  0.02697754,\n",
              "       -0.08935547, -0.17480469, -0.10351562, -0.2578125 ,  0.04150391,\n",
              "       -0.02246094,  0.18457031,  0.12890625, -0.10644531,  0.10693359,\n",
              "       -0.0072937 , -0.16699219, -0.07958984,  0.04467773,  0.14257812,\n",
              "        0.00817871, -0.00994873,  0.07666016,  0.140625  , -0.05395508,\n",
              "       -0.0625    , -0.02233887,  0.37109375, -0.18652344, -0.00136566,\n",
              "       -0.02954102, -0.03491211, -0.02819824, -0.00616455, -0.02307129,\n",
              "       -0.03344727, -0.02368164,  0.24023438, -0.02453613,  0.23925781,\n",
              "        0.01263428,  0.08203125,  0.11816406, -0.01416016,  0.06689453,\n",
              "       -0.02172852,  0.09423828, -0.13769531,  0.23144531,  0.18945312,\n",
              "        0.24707031, -0.07666016,  0.08251953, -0.01940918, -0.0456543 ,\n",
              "        0.37109375,  0.03063965,  0.16210938,  0.25195312,  0.02148438,\n",
              "        0.07666016,  0.06591797, -0.05151367, -0.10009766,  0.109375  ,\n",
              "        0.05395508, -0.10205078, -0.05908203,  0.02050781,  0.01446533,\n",
              "       -0.04174805,  0.08154297,  0.08886719,  0.26367188,  0.00823975,\n",
              "       -0.22070312, -0.03857422,  0.03369141,  0.13964844,  0.08154297,\n",
              "        0.15722656,  0.0213623 , -0.21191406, -0.10009766, -0.04370117],\n",
              "      dtype=float32)"
            ]
          },
          "metadata": {
            "tags": []
          },
          "execution_count": 95
        }
      ]
    },
    {
      "cell_type": "code",
      "metadata": {
        "id": "fns7nkofdUW2",
        "colab_type": "code",
        "colab": {}
      },
      "source": [
        "word_vec_arrays=np.zeros((len(tokenized_sentence),300))\n",
        "for i  in range(len(tokenized_sentence)):\n",
        "    word_vec_arrays[i,:]=word_vector(tokenized_sentence[i],300,combined['label'][i])"
      ],
      "execution_count": 0,
      "outputs": []
    },
    {
      "cell_type": "code",
      "metadata": {
        "id": "VvnxhpJldUW4",
        "colab_type": "code",
        "outputId": "11d3e46f-988c-48fe-b181-cda322fd049b",
        "colab": {
          "base_uri": "https://localhost:8080/",
          "height": 34
        }
      },
      "source": [
        "wvdf= pd.DataFrame(word_vec_arrays)\n",
        "wvdf.shape"
      ],
      "execution_count": 97,
      "outputs": [
        {
          "output_type": "execute_result",
          "data": {
            "text/plain": [
              "(9925, 300)"
            ]
          },
          "metadata": {
            "tags": []
          },
          "execution_count": 97
        }
      ]
    },
    {
      "cell_type": "code",
      "metadata": {
        "id": "JUeZ-Y8odUW6",
        "colab_type": "code",
        "colab": {}
      },
      "source": [
        "wvdf.to_csv('./Combined_x_w2v.csv')"
      ],
      "execution_count": 0,
      "outputs": []
    }
  ]
}