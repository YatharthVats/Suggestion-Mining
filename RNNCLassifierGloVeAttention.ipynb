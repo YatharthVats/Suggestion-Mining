{
  "nbformat": 4,
  "nbformat_minor": 0,
  "metadata": {
    "colab": {
      "name": "RNNCLassifierGloVeAttention.ipynb",
      "provenance": []
    },
    "kernelspec": {
      "name": "python3",
      "display_name": "Python 3"
    }
  },
  "cells": [
    {
      "cell_type": "code",
      "metadata": {
        "id": "ouiaRaTNDDBb",
        "colab_type": "code",
        "colab": {}
      },
      "source": [
        "import pandas as pd\n",
        "import numpy as np\n",
        "\n",
        "# FOR PLOTTING GRAPHS\n",
        "import matplotlib.pyplot as plt\n",
        "pd.set_option('display.max_colwidth',300)\n",
        "\n",
        "# LIBRARIES FOR THE RNN CLASSIFIER\n",
        "from tensorflow.keras.preprocessing import sequence\n",
        "from tensorflow.keras.models import Model\n",
        "from tensorflow.keras.layers import Input, Embedding, Dense, Dropout, LSTM,Attention,Flatten,Activation,Permute,RepeatVector,Lambda,Multiply\n",
        "from tensorflow.keras.preprocessing.text import Tokenizer\n",
        "from tensorflow.keras.backend import sum as Ksum\n",
        "\n",
        "# FOR EVALUATION METRICS OF THE PREDICTIONS\n",
        "from sklearn.metrics import accuracy_score,f1_score\n",
        "\n"
      ],
      "execution_count": 0,
      "outputs": []
    },
    {
      "cell_type": "code",
      "metadata": {
        "id": "iuhQgo86Djdk",
        "colab_type": "code",
        "colab": {}
      },
      "source": [
        "import pickle\n",
        "\n",
        "variables = pickle.load(open('./Data/variablesGlove','rb'))\n",
        "\n",
        "test_sequence  = variables['test_sequence']\n",
        "valid_sequence  = variables['valid_sequence']\n",
        "train_sequence  = variables['train_sequence']\n",
        "\n",
        "y_train  = variables['y_train']\n",
        "y_test  = variables['y_test']\n",
        "y_valid  = variables['y_valid']\n",
        "\n",
        "MXSEQLEN  = variables['MXSEQLEN']\n",
        "EMBEDDING_DIM  = variables['EMBEDDING_DIM']\n",
        "train_embedding_weights  = variables['train_embedding_weights']\n",
        "train_word_index  = variables['train_word_index']\n"
      ],
      "execution_count": 0,
      "outputs": []
    },
    {
      "cell_type": "code",
      "metadata": {
        "id": "pY2dzE2VEDq4",
        "colab_type": "code",
        "colab": {}
      },
      "source": [
        "#####################################################################################\n",
        "########################## BUILDING AND TRAINING THE MODEL ##########################\n",
        "#####################################################################################\n",
        "\n",
        "def RNN(embedding_weights,num_words):\n",
        "    \n",
        "    # THE INPUT LAYER\n",
        "    sequence_input      =   Input(shape=(MXSEQLEN,), dtype='int32')\n",
        "    \n",
        "    # THE EMBEDDING LAYER OF EMBEDDING_WEIGHTS     \n",
        "    embedding_layer = Embedding(\n",
        "        num_words,                  # VOCABULARY SIZE\n",
        "        EMBEDDING_DIM,              # ONE HOT ENCODING VECTOR SIZE\n",
        "        weights=[embedding_weights],# EMBEGGING WEIGHTS FROM THE GOOGLE NEW WORD VECTOR\n",
        "        input_length=MXSEQLEN,      # MAX LENGTH OF A SEQUENCE\n",
        "        trainable=False             # PARAMETERS WILL NOT BE TRAINED\n",
        "    )\n",
        "    \n",
        "    # THE EMBEDDING SEQUENCES FROM THE EMBEDDING LAYER \n",
        "    embedded_sequences  =   embedding_layer(sequence_input)\n",
        "\n",
        "    # ADDING ONE LSTM LAYER OF 256 NODES\n",
        "    lstm_layer = LSTM(256)(embedded_sequences)   \n",
        "    \n",
        "    #ADDING ATTENTION LAYER\n",
        "    units=256\n",
        "    attention = Dense(1, activation='tanh')(lstm_layer)\n",
        "    attention = Flatten()(attention)\n",
        "    attention = Activation('softmax')(attention)\n",
        "    attention = RepeatVector(units)(attention)\n",
        "    attention = Permute([2, 1])(attention)\n",
        "\n",
        "\n",
        "    sent_representation = Multiply()([lstm_layer, attention])\n",
        "    sent_representation = Lambda(lambda xin: Ksum(xin, axis=-2), output_shape=(units,))(sent_representation)\n",
        "\n",
        "\n",
        "    # DENSE NEURON LAYER\n",
        "    next_layer = Dense(128, activation='relu')(sent_representation)        \n",
        "    \n",
        "    # FEW DROPOUTS FOR AVOIDING OVERFIT\n",
        "    next_layer = Dropout(0.4)(next_layer)                         \n",
        "\n",
        "    # FINAL DENSE LAYER\n",
        "    preds = Dense(1, activation='sigmoid')(next_layer)  \n",
        "\n",
        "    model = Model(sequence_input, preds)\n",
        "    model.compile(\n",
        "        loss='binary_crossentropy',\n",
        "        optimizer='adam',\n",
        "        metrics=['acc']\n",
        "    )\n",
        "    \n",
        "    model.summary()\n",
        "    return model"
      ],
      "execution_count": 0,
      "outputs": []
    },
    {
      "cell_type": "code",
      "metadata": {
        "id": "RuyyCBgOEHl8",
        "colab_type": "code",
        "colab": {
          "base_uri": "https://localhost:8080/",
          "height": 671
        },
        "outputId": "3f47706d-1f3f-4062-cedd-9a5aa015d9b2"
      },
      "source": [
        "# len= train_word_index +1 FOR 0 THAT WILL BE PADDED FOR COMPLETING THE SEQUENCE LENGTH\n",
        "print(train_embedding_weights.shape)\n",
        "rnn_model = RNN(train_embedding_weights, len(train_word_index)+1)"
      ],
      "execution_count": 6,
      "outputs": [
        {
          "output_type": "stream",
          "text": [
            "(3819, 300)\n",
            "Model: \"model\"\n",
            "__________________________________________________________________________________________________\n",
            "Layer (type)                    Output Shape         Param #     Connected to                     \n",
            "==================================================================================================\n",
            "input_1 (InputLayer)            [(None, 80)]         0                                            \n",
            "__________________________________________________________________________________________________\n",
            "embedding (Embedding)           (None, 80, 300)      1145700     input_1[0][0]                    \n",
            "__________________________________________________________________________________________________\n",
            "lstm (LSTM)                     (None, 256)          570368      embedding[0][0]                  \n",
            "__________________________________________________________________________________________________\n",
            "dense (Dense)                   (None, 1)            257         lstm[0][0]                       \n",
            "__________________________________________________________________________________________________\n",
            "flatten (Flatten)               (None, 1)            0           dense[0][0]                      \n",
            "__________________________________________________________________________________________________\n",
            "activation (Activation)         (None, 1)            0           flatten[0][0]                    \n",
            "__________________________________________________________________________________________________\n",
            "repeat_vector (RepeatVector)    (None, 256, 1)       0           activation[0][0]                 \n",
            "__________________________________________________________________________________________________\n",
            "permute (Permute)               (None, 1, 256)       0           repeat_vector[0][0]              \n",
            "__________________________________________________________________________________________________\n",
            "multiply (Multiply)             (None, 1, 256)       0           lstm[0][0]                       \n",
            "                                                                 permute[0][0]                    \n",
            "__________________________________________________________________________________________________\n",
            "lambda (Lambda)                 (None, 256)          0           multiply[0][0]                   \n",
            "__________________________________________________________________________________________________\n",
            "dense_1 (Dense)                 (None, 128)          32896       lambda[0][0]                     \n",
            "__________________________________________________________________________________________________\n",
            "dropout (Dropout)               (None, 128)          0           dense_1[0][0]                    \n",
            "__________________________________________________________________________________________________\n",
            "dense_2 (Dense)                 (None, 1)            129         dropout[0][0]                    \n",
            "==================================================================================================\n",
            "Total params: 1,749,350\n",
            "Trainable params: 603,650\n",
            "Non-trainable params: 1,145,700\n",
            "__________________________________________________________________________________________________\n"
          ],
          "name": "stdout"
        }
      ]
    },
    {
      "cell_type": "code",
      "metadata": {
        "id": "eZEaXDyqEKIR",
        "colab_type": "code",
        "colab": {
          "base_uri": "https://localhost:8080/",
          "height": 271
        },
        "outputId": "11f21132-f84b-44e9-fb45-faa18e321911"
      },
      "source": [
        "# CONFIGURING AND TRAINING THE MODEL\n",
        "EPOCHS = 7\n",
        "BATCH_SIZE = 50\n",
        "\n",
        "history = rnn_model.fit(\n",
        "    train_sequence,       # THE INPUT SEQUENCES TO THE MODEL\n",
        "    y_train,              # TARGET OUTPUT\n",
        "    epochs=EPOCHS,    \n",
        "    validation_data=(valid_sequence, y_valid), \n",
        "    shuffle=True, \n",
        "    batch_size=BATCH_SIZE\n",
        ")"
      ],
      "execution_count": 11,
      "outputs": [
        {
          "output_type": "stream",
          "text": [
            "Epoch 1/7\n",
            "170/170 [==============================] - 67s 394ms/step - loss: 0.0569 - acc: 0.9791 - val_loss: 0.3849 - val_acc: 0.9076\n",
            "Epoch 2/7\n",
            "170/170 [==============================] - 66s 389ms/step - loss: 0.0394 - acc: 0.9861 - val_loss: 0.4802 - val_acc: 0.9052\n",
            "Epoch 3/7\n",
            "170/170 [==============================] - 72s 423ms/step - loss: 0.0332 - acc: 0.9872 - val_loss: 0.5117 - val_acc: 0.8944\n",
            "Epoch 4/7\n",
            "170/170 [==============================] - 66s 388ms/step - loss: 0.0269 - acc: 0.9885 - val_loss: 0.6265 - val_acc: 0.8992\n",
            "Epoch 5/7\n",
            "170/170 [==============================] - 67s 395ms/step - loss: 0.0265 - acc: 0.9895 - val_loss: 0.5817 - val_acc: 0.8980\n",
            "Epoch 6/7\n",
            "170/170 [==============================] - 67s 391ms/step - loss: 0.0191 - acc: 0.9911 - val_loss: 0.6444 - val_acc: 0.9076\n",
            "Epoch 7/7\n",
            "170/170 [==============================] - 66s 390ms/step - loss: 0.0152 - acc: 0.9919 - val_loss: 0.6880 - val_acc: 0.9064\n"
          ],
          "name": "stdout"
        }
      ]
    },
    {
      "cell_type": "code",
      "metadata": {
        "id": "mmaMC75KEMvx",
        "colab_type": "code",
        "colab": {
          "base_uri": "https://localhost:8080/",
          "height": 295
        },
        "outputId": "4a6a61f8-a492-4ab3-b069-4cefe9c4b91d"
      },
      "source": [
        "# TRAINING VS VALIDATION LOSS GRAPH\n",
        "plt.plot(history.history['loss'])\n",
        "plt.plot(history.history['val_loss'])\n",
        "plt.title('model train vs validation loss')\n",
        "plt.ylabel('loss')\n",
        "plt.xlabel('epoch')\n",
        "plt.legend(['train', 'validation'], loc='upper right')\n",
        "plt.show()"
      ],
      "execution_count": 8,
      "outputs": [
        {
          "output_type": "display_data",
          "data": {
            "image/png": "[encoded data removed]",
            "text/plain": [
              "<Figure size 432x288 with 1 Axes>"
            ]
          },
          "metadata": {
            "tags": []
          }
        }
      ]
    },
    {
      "cell_type": "code",
      "metadata": {
        "id": "2iIjLDqaEPmB",
        "colab_type": "code",
        "colab": {}
      },
      "source": [
        "predict=rnn_model.predict(test_sequence)\n",
        "predict=[int(x+0.5) for x in predict]"
      ],
      "execution_count": 0,
      "outputs": []
    },
    {
      "cell_type": "code",
      "metadata": {
        "id": "a6W_iTcqERt_",
        "colab_type": "code",
        "colab": {
          "base_uri": "https://localhost:8080/",
          "height": 53
        },
        "outputId": "1c1ee5c4-af62-401b-b649-c918f4fdb535"
      },
      "source": [
        "# EVLUATING THE ACCURACY\n",
        "accuracy = accuracy_score(y_test, predict)\n",
        "f1=f1_score(y_test,predict)\n",
        "print(\"F1 Score: %.2f%%\" % (f1* 100.0))\n",
        "print(\"Accuracy: %.2f%%\" % (accuracy * 100.0))"
      ],
      "execution_count": 10,
      "outputs": [
        {
          "output_type": "stream",
          "text": [
            "F1 Score: 73.55%\n",
            "Accuracy: 76.18%\n"
          ],
          "name": "stdout"
        }
      ]
    },
    {
      "cell_type": "code",
      "metadata": {
        "id": "Tph7xAriEUdH",
        "colab_type": "code",
        "colab": {}
      },
      "source": [
        ""
      ],
      "execution_count": 0,
      "outputs": []
    }
  ]
}